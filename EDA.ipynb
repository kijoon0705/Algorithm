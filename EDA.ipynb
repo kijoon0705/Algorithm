{
  "nbformat": 4,
  "nbformat_minor": 0,
  "metadata": {
    "colab": {
      "name": "EDA.ipynb",
      "provenance": [],
      "collapsed_sections": []
    },
    "kernelspec": {
      "name": "python3",
      "display_name": "Python 3"
    },
    "accelerator": "TPU"
  },
  "cells": [
    {
      "cell_type": "code",
      "metadata": {
        "id": "EdJNvwkncyMR",
        "outputId": "a73267ec-72b0-40fd-f4af-b780b5c5f828",
        "colab": {
          "base_uri": "https://localhost:8080/"
        }
      },
      "source": [
        "pip install konlpy # 따로 설치 필요"
      ],
      "execution_count": null,
      "outputs": [
        {
          "output_type": "stream",
          "text": [
            "Requirement already satisfied: konlpy in /usr/local/lib/python3.6/dist-packages (0.5.2)\n",
            "Requirement already satisfied: tweepy>=3.7.0 in /usr/local/lib/python3.6/dist-packages (from konlpy) (3.9.0)\n",
            "Requirement already satisfied: colorama in /usr/local/lib/python3.6/dist-packages (from konlpy) (0.4.4)\n",
            "Requirement already satisfied: lxml>=4.1.0 in /usr/local/lib/python3.6/dist-packages (from konlpy) (4.2.6)\n",
            "Requirement already satisfied: beautifulsoup4==4.6.0 in /usr/local/lib/python3.6/dist-packages (from konlpy) (4.6.0)\n",
            "Requirement already satisfied: JPype1>=0.7.0 in /usr/local/lib/python3.6/dist-packages (from konlpy) (1.1.2)\n",
            "Requirement already satisfied: numpy>=1.6 in /usr/local/lib/python3.6/dist-packages (from konlpy) (1.18.5)\n",
            "Requirement already satisfied: requests-oauthlib>=0.7.0 in /usr/local/lib/python3.6/dist-packages (from tweepy>=3.7.0->konlpy) (1.3.0)\n",
            "Requirement already satisfied: six>=1.10.0 in /usr/local/lib/python3.6/dist-packages (from tweepy>=3.7.0->konlpy) (1.15.0)\n",
            "Requirement already satisfied: requests[socks]>=2.11.1 in /usr/local/lib/python3.6/dist-packages (from tweepy>=3.7.0->konlpy) (2.23.0)\n",
            "Requirement already satisfied: typing-extensions; python_version < \"3.8\" in /usr/local/lib/python3.6/dist-packages (from JPype1>=0.7.0->konlpy) (3.7.4.3)\n",
            "Requirement already satisfied: oauthlib>=3.0.0 in /usr/local/lib/python3.6/dist-packages (from requests-oauthlib>=0.7.0->tweepy>=3.7.0->konlpy) (3.1.0)\n",
            "Requirement already satisfied: chardet<4,>=3.0.2 in /usr/local/lib/python3.6/dist-packages (from requests[socks]>=2.11.1->tweepy>=3.7.0->konlpy) (3.0.4)\n",
            "Requirement already satisfied: urllib3!=1.25.0,!=1.25.1,<1.26,>=1.21.1 in /usr/local/lib/python3.6/dist-packages (from requests[socks]>=2.11.1->tweepy>=3.7.0->konlpy) (1.24.3)\n",
            "Requirement already satisfied: certifi>=2017.4.17 in /usr/local/lib/python3.6/dist-packages (from requests[socks]>=2.11.1->tweepy>=3.7.0->konlpy) (2020.6.20)\n",
            "Requirement already satisfied: idna<3,>=2.5 in /usr/local/lib/python3.6/dist-packages (from requests[socks]>=2.11.1->tweepy>=3.7.0->konlpy) (2.10)\n",
            "Requirement already satisfied: PySocks!=1.5.7,>=1.5.6; extra == \"socks\" in /usr/local/lib/python3.6/dist-packages (from requests[socks]>=2.11.1->tweepy>=3.7.0->konlpy) (1.7.1)\n"
          ],
          "name": "stdout"
        }
      ]
    },
    {
      "cell_type": "code",
      "metadata": {
        "id": "i7ZwmnS9Il0C",
        "outputId": "82c1adbf-c3fe-462e-999c-f28f10e8f7a0",
        "colab": {
          "base_uri": "https://localhost:8080/"
        }
      },
      "source": [
        "# 코렙 클라우드 마운트\n",
        "from google.colab import drive\n",
        "drive.mount('/content/drive', force_remount = True)"
      ],
      "execution_count": null,
      "outputs": [
        {
          "output_type": "stream",
          "text": [
            "Mounted at /content/drive\n"
          ],
          "name": "stdout"
        }
      ]
    },
    {
      "cell_type": "code",
      "metadata": {
        "id": "n8lqnN_xBwzQ",
        "outputId": "b2962201-361e-420b-983a-e2ebe2db6d79",
        "colab": {
          "base_uri": "https://localhost:8080/"
        }
      },
      "source": [
        "# 코렙 드라이브 위치 보기\n",
        "from google.colab import drive\n",
        "drive.mount('/content/drive')"
      ],
      "execution_count": null,
      "outputs": [
        {
          "output_type": "stream",
          "text": [
            "Drive already mounted at /content/drive; to attempt to forcibly remount, call drive.mount(\"/content/drive\", force_remount=True).\n"
          ],
          "name": "stdout"
        }
      ]
    },
    {
      "cell_type": "markdown",
      "metadata": {
        "id": "tUYgXTCAr-5m"
      },
      "source": [
        ""
      ]
    },
    {
      "cell_type": "code",
      "metadata": {
        "id": "c54yJ3THKVjB",
        "outputId": "e378cada-9bd8-4335-85e2-a45f913ef4d1",
        "colab": {
          "base_uri": "https://localhost:8080/"
        }
      },
      "source": [
        "# 마운트 경로 \n",
        "!ls /content/drive/\"My Drive\"/\"Colab Notebooks\"/"
      ],
      "execution_count": null,
      "outputs": [
        {
          "output_type": "stream",
          "text": [
            " Data  '멜론 EDA.ipynb'  'EDA.ipynb의 사본'   font   Untitled0.ipynb\n"
          ],
          "name": "stdout"
        }
      ]
    },
    {
      "cell_type": "markdown",
      "metadata": {
        "id": "paEDLrDksvOo"
      },
      "source": [
        "<파일 경로>\n",
        "- drive\n",
        "  - My Drive\n",
        "    - Colab Notebooks\n",
        "      - Data\n",
        "        - genre_gn_all.json\n",
        "        - song_meta.json\n",
        "        - train.json\n",
        "        - melon_logo.png\n",
        "      - font\n",
        "        - NanumSquareRoundB.ttf\n"
      ]
    },
    {
      "cell_type": "code",
      "metadata": {
        "id": "Og5Zdk5J5nj8",
        "outputId": "4ca44cc7-74ab-40cf-dec5-43d5f279ca31",
        "colab": {
          "base_uri": "https://localhost:8080/"
        }
      },
      "source": [
        "!sudo apt-get install -y fonts-nanum\n",
        "!sudo fc-cache -fv\n",
        "# !rm ~/.cache/matplotlib -rf"
      ],
      "execution_count": null,
      "outputs": [
        {
          "output_type": "stream",
          "text": [
            "Reading package lists... Done\n",
            "Building dependency tree       \n",
            "Reading state information... Done\n",
            "fonts-nanum is already the newest version (20170925-1).\n",
            "0 upgraded, 0 newly installed, 0 to remove and 21 not upgraded.\n",
            "/usr/share/fonts: caching, new cache contents: 0 fonts, 1 dirs\n",
            "/usr/share/fonts/truetype: caching, new cache contents: 0 fonts, 3 dirs\n",
            "/usr/share/fonts/truetype/humor-sans: caching, new cache contents: 1 fonts, 0 dirs\n",
            "/usr/share/fonts/truetype/liberation: caching, new cache contents: 16 fonts, 0 dirs\n",
            "/usr/share/fonts/truetype/nanum: caching, new cache contents: 10 fonts, 0 dirs\n",
            "/usr/local/share/fonts: caching, new cache contents: 0 fonts, 0 dirs\n",
            "/root/.local/share/fonts: skipping, no such directory\n",
            "/root/.fonts: skipping, no such directory\n",
            "/var/cache/fontconfig: cleaning cache directory\n",
            "/root/.cache/fontconfig: not cleaning non-existent cache directory\n",
            "/root/.fontconfig: not cleaning non-existent cache directory\n",
            "fc-cache: succeeded\n"
          ],
          "name": "stdout"
        }
      ]
    },
    {
      "cell_type": "code",
      "metadata": {
        "id": "EVj0xt1jLb-U",
        "outputId": "3bbf56d9-2afd-4d25-c57d-02e3c0ec52d9",
        "colab": {
          "base_uri": "https://localhost:8080/"
        }
      },
      "source": [
        "from datetime import timedelta, datetime # 현재 시간을 표현하는 모듈과 클래스\n",
        "import glob # 디렉터리에 있는 파일들을 리스트로 반환\n",
        "from itertools import chain # 효율적인 반복을 위한 함수\n",
        "import json \n",
        "import os\n",
        "import re  # 정규표현식 매치를 위한 모듈\n",
        "\n",
        "import numpy as np\n",
        "import pandas as pd\n",
        "\n",
        "from wordcloud import WordCloud # 자연어처리(NLP)시에 doc에서의 언어들의 빈도수에 따른 시각화 기법 \n",
        "from PIL import Image\n",
        "from wordcloud import STOPWORDS\n",
        "import nltk # 자연어 처리를 위한 패키지 / KoNLPy - 한국어 자연어 처리를 위한 형태소 패키지\n",
        "from nltk.corpus import stopwords # nltk 패키지 안에 있는 불용어 단어들 및 설정\n",
        "from konlpy.tag import Twitter #  형태소 분석기를 모음 패키지\n",
        "from collections import Counter # collections 모듈의 Counter 함수 : 단어의 알파벳 글자 수 카운팅\n",
        "from sklearn.feature_extraction.text import TfidfVectorizer # 단어 카운트 가중치 부여 \n",
        "from sklearn.feature_extraction.text import CountVectorizer \n",
        "\n",
        "from pandas.plotting import register_matplotlib_converters\n",
        "import seaborn as sns\n",
        "import matplotlib.pyplot as plt\n",
        "import matplotlib as mpl\n",
        "\n",
        "import matplotlib as mpl\n",
        "import matplotlib.pyplot as plt\n",
        " \n",
        "%config InlineBackend.figure_format = 'retina'\n",
        " \n",
        "!apt -qq -y install fonts-nanum\n",
        " \n",
        "import matplotlib.font_manager as fm\n",
        "fontpath = '/usr/share/fonts/truetype/nanum/NanumBarunGothic.ttf'\n",
        "font = fm.FontProperties(fname=fontpath, size=9)\n",
        "plt.rc('font', family='NanumBarunGothic') \n",
        "\n",
        "# print(\"버전:\", mpl.__version__)\n",
        "# print ('설치 위치: ', mpl.__file__)\n",
        "# print ('설정 위치: ', mpl.get_configdir())\n",
        "# print ('캐시 위치: ', mpl.get_cachedir())\n",
        "# print ('설정 파일 위치: ', mpl.matplotlib_fname())\n",
        "\n",
        "mpl.font_manager._rebuild()\n",
        "mpl.pyplot.rc('font', family='NanumBarunGothic')\n",
        "\n",
        "from pprint import pprint as pp\n",
        "import warnings\n",
        "warnings.filterwarnings(action=\"ignore\")"
      ],
      "execution_count": null,
      "outputs": [
        {
          "output_type": "stream",
          "text": [
            "fonts-nanum is already the newest version (20170925-1).\n",
            "0 upgraded, 0 newly installed, 0 to remove and 21 not upgraded.\n"
          ],
          "name": "stdout"
        }
      ]
    },
    {
      "cell_type": "code",
      "metadata": {
        "id": "Juy-BvAE5OcK"
      },
      "source": [
        "\n",
        "parameter = {'figure.titlesize': 25 }\n",
        "\n",
        "plt.rcParams.update(parameter)"
      ],
      "execution_count": null,
      "outputs": []
    },
    {
      "cell_type": "code",
      "metadata": {
        "id": "rKyI3-2q5BJ2",
        "outputId": "9fe20a6d-3f79-4002-c6a6-b3de29a98043",
        "colab": {
          "base_uri": "https://localhost:8080/",
          "height": 35
        }
      },
      "source": [
        "mpl.matplotlib_fname()"
      ],
      "execution_count": null,
      "outputs": [
        {
          "output_type": "execute_result",
          "data": {
            "application/vnd.google.colaboratory.intrinsic+json": {
              "type": "string"
            },
            "text/plain": [
              "'/usr/local/lib/python3.6/dist-packages/matplotlib/mpl-data/matplotlibrc'"
            ]
          },
          "metadata": {
            "tags": []
          },
          "execution_count": 10
        }
      ]
    },
    {
      "cell_type": "code",
      "metadata": {
        "id": "EvLDN88eyYY-"
      },
      "source": [
        "# import os\n",
        "# os.getcwd()\n",
        "# !cd ..\n",
        "# os.getcwd()\n",
        "# !cd /root/.cache\n",
        "# os.getcwd()"
      ],
      "execution_count": null,
      "outputs": []
    },
    {
      "cell_type": "markdown",
      "metadata": {
        "id": "tVzDxbOANIj9"
      },
      "source": [
        "- 지현이 생각하는 EDA의 중요포인트 (계속 추가 예정)\n",
        "  - 곡별 장르 맵핑\n",
        "  - 곡별 아티스트 맵핑\n",
        "  - 가장 많이 쓰인 장르\n",
        "  - 가장 많이 쓰인 아티스트\n",
        "\n",
        "- 왜 곡명, 장르, 플레이리스트 태그가 중요하다고 생각했는가?\n",
        "    - train 데이터셋의 주요한 속성: 플레이리스트 아이디, 플레이리스트에 매핑된 태그, 플레이리스트에 수록된 곡 정보\n",
        "    - 이것을 통해 플레이리스트에 들어갈 곡명(리스트), 플레이리스트의 태그(리스트)를 예측\n",
        "    - 곡에는? 총 707,989ㅡ곡의 메타 정보 \n",
        "        - id : 곡 ID\n",
        "        - song_name : 곡 제목\n",
        "        - song_gn_gnr_basket : 곡 장르 리스트\n",
        "        - song_gn_dtl_gnr_basket : 곡 세부 장르 리스트\n",
        "        - album_id : 앨범 ID\n",
        "        - album_name : 앨범 명\n",
        "        - artist_name_basket : 아티스트 리스트 (복수일 경우 띄어쓰기로 구분)\n",
        "        - artist_id_basket : 아티스트 ID 리스트 (복수일 경우 띄어쓰기로 구분)\n",
        "        - issue_date : 발매일 (yyyymmdd)\n",
        "    - 살펴보면, 곡에서 주요한 속성은 곡명, 장르, 앨범, 아티스트로 나눌 수 있다\n",
        "\n",
        "\n",
        "\n",
        "\n",
        "- 추천 알고리즘 구현 아이디어(콘텐츠 기반):\n",
        "    \n",
        "    - 곡추천: 해당 플레이리스트에 포함된 곡과 유사한 장르, 앨범, 아티스트를 가진 곡 추천\n",
        "    - 태그추천: 곡 추천의 결과를 바탕으로 (이미 유사한 곡들을 추려냈으므로), 그 곡들에 맵핑되는 태그들을 추천"
      ]
    },
    {
      "cell_type": "markdown",
      "metadata": {
        "id": "OZ_IY2-NNH0X"
      },
      "source": [
        "<br>"
      ]
    },
    {
      "cell_type": "markdown",
      "metadata": {
        "id": "X417I6SkXPA1"
      },
      "source": [
        "## 1. 곡 장르 코드 데이터 : `genre_gn_all.json`\n",
        "\n",
        "*   데이터 불러오기\n",
        "*   대/상세 분류 장르 코드\n",
        "*   장르 코드 트리(Tree)\n",
        "*   장르 추출 및 살펴보기\n",
        "\n"
      ]
    },
    {
      "cell_type": "markdown",
      "metadata": {
        "id": "bfvmH3sDepgN"
      },
      "source": [
        "### 데이터 불러오기 "
      ]
    },
    {
      "cell_type": "code",
      "metadata": {
        "id": "DRkfQMVyXNhc"
      },
      "source": [
        "# 시리즈 타입으로 데이터를 받는다. \n",
        "genre = pd.read_json('/content/drive/My Drive/Colab Notebooks/Data/genre_gn_all.json', typ = 'series')"
      ],
      "execution_count": null,
      "outputs": []
    },
    {
      "cell_type": "code",
      "metadata": {
        "id": "9b7xUfjHw-Iu",
        "outputId": "5c9e1544-1194-43ee-b3e5-6fb251582942",
        "colab": {
          "base_uri": "https://localhost:8080/"
        }
      },
      "source": [
        "genre"
      ],
      "execution_count": null,
      "outputs": [
        {
          "output_type": "execute_result",
          "data": {
            "text/plain": [
              "GN0100       발라드\n",
              "GN0101    세부장르전체\n",
              "GN0102       '80\n",
              "GN0103       '90\n",
              "GN0104       '00\n",
              "           ...  \n",
              "GN2900       뮤지컬\n",
              "GN2901    세부장르전체\n",
              "GN2902     국내뮤지컬\n",
              "GN2903     국외뮤지컬\n",
              "GN3000     크리스마스\n",
              "Length: 254, dtype: object"
            ]
          },
          "metadata": {
            "tags": []
          },
          "execution_count": 13
        }
      ]
    },
    {
      "cell_type": "code",
      "metadata": {
        "id": "slv6TYQoeomT",
        "outputId": "2041b736-2aa8-4c08-c259-2169410b5574",
        "colab": {
          "base_uri": "https://localhost:8080/"
        }
      },
      "source": [
        "# 장르코드 : gnr_code, 장르명 : gnr_name\n",
        "genre = pd.DataFrame(genre, columns = ['gnr_name']).reset_index().rename(columns = {'index' : 'gnr_code'})\n",
        "# 시리즈를 데이터프레임화 해준다. (컬럼명 지정)\n",
        "# reset_index() : 인덱스를 장르 id가 아니라 0부터 시작하는 정수로 따로 설정해준다.\n",
        "# rename : index라는 이름으로 되어있는 장르id 컬럼의 이름을 gnr_code로 바꾼다. \n",
        "\n",
        "# 데이터 기초 탐색 \n",
        "genre.info()\n"
      ],
      "execution_count": null,
      "outputs": [
        {
          "output_type": "stream",
          "text": [
            "<class 'pandas.core.frame.DataFrame'>\n",
            "RangeIndex: 254 entries, 0 to 253\n",
            "Data columns (total 2 columns):\n",
            " #   Column    Non-Null Count  Dtype \n",
            "---  ------    --------------  ----- \n",
            " 0   gnr_code  254 non-null    object\n",
            " 1   gnr_name  254 non-null    object\n",
            "dtypes: object(2)\n",
            "memory usage: 4.1+ KB\n"
          ],
          "name": "stdout"
        }
      ]
    },
    {
      "cell_type": "markdown",
      "metadata": {
        "id": "ZQYOXUWfjZz4"
      },
      "source": [
        "- 장르 코드와 장르명은 총 254개가 존재하며 Null값은 존재 하지 않는다.\n",
        "\n",
        "- 장르 코드는 **총 254개의 장르코드가 존재**하며 **30개의 대분류 장르코드**와 **224개의 상세 장르코드**로 분류할 수 있습니다."
      ]
    },
    {
      "cell_type": "markdown",
      "metadata": {
        "id": "VEDfm4BOmkel"
      },
      "source": [
        "### 대/상세 분류 장르 코드"
      ]
    },
    {
      "cell_type": "markdown",
      "metadata": {
        "id": "Sk4z15hfx85r"
      },
      "source": [
        "#### 대분류 장르코드 \n",
        "\n",
        "- 대분류 장르코드는 장르코드(`gnr_code`)에서 **숫자 네 자리 중 뒷자리 두 자리가 `00`인 코드로 분류**할 수 있습니다.\n",
        "- 대분류 장르는 총 30개가 있습니다."
      ]
    },
    {
      "cell_type": "code",
      "metadata": {
        "id": "EpewleH8nQfU"
      },
      "source": [
        "# 대분류 장르 코드 추출하기\n",
        "# 장르코드 뒷자리 두 자리가 00인 코드를 필터링 \n",
        "# (str을 해줘야지 뒤의 행 두개를 추출하는게 아니라 글자를 추출해준다)\n",
        "big_genre = genre[genre['gnr_code'].str[-2:] == '00']\n",
        "big_genre.rename(columns = {'gnr_code' : '장르코드', 'gnr_name' : '장르명'}, inplace = True)"
      ],
      "execution_count": null,
      "outputs": []
    },
    {
      "cell_type": "code",
      "metadata": {
        "id": "osxea95xOpWf",
        "outputId": "2528686a-d2a1-4df7-8846-bb3a53164ec2",
        "colab": {
          "base_uri": "https://localhost:8080/",
          "height": 935
        }
      },
      "source": [
        "big_genre"
      ],
      "execution_count": null,
      "outputs": [
        {
          "output_type": "execute_result",
          "data": {
            "text/html": [
              "<div>\n",
              "<style scoped>\n",
              "    .dataframe tbody tr th:only-of-type {\n",
              "        vertical-align: middle;\n",
              "    }\n",
              "\n",
              "    .dataframe tbody tr th {\n",
              "        vertical-align: top;\n",
              "    }\n",
              "\n",
              "    .dataframe thead th {\n",
              "        text-align: right;\n",
              "    }\n",
              "</style>\n",
              "<table border=\"1\" class=\"dataframe\">\n",
              "  <thead>\n",
              "    <tr style=\"text-align: right;\">\n",
              "      <th></th>\n",
              "      <th>장르코드</th>\n",
              "      <th>장르명</th>\n",
              "    </tr>\n",
              "  </thead>\n",
              "  <tbody>\n",
              "    <tr>\n",
              "      <th>0</th>\n",
              "      <td>GN0100</td>\n",
              "      <td>발라드</td>\n",
              "    </tr>\n",
              "    <tr>\n",
              "      <th>6</th>\n",
              "      <td>GN0200</td>\n",
              "      <td>댄스</td>\n",
              "    </tr>\n",
              "    <tr>\n",
              "      <th>12</th>\n",
              "      <td>GN0300</td>\n",
              "      <td>랩/힙합</td>\n",
              "    </tr>\n",
              "    <tr>\n",
              "      <th>18</th>\n",
              "      <td>GN0400</td>\n",
              "      <td>R&amp;B/Soul</td>\n",
              "    </tr>\n",
              "    <tr>\n",
              "      <th>22</th>\n",
              "      <td>GN0500</td>\n",
              "      <td>인디음악</td>\n",
              "    </tr>\n",
              "    <tr>\n",
              "      <th>32</th>\n",
              "      <td>GN0600</td>\n",
              "      <td>록/메탈</td>\n",
              "    </tr>\n",
              "    <tr>\n",
              "      <th>39</th>\n",
              "      <td>GN0700</td>\n",
              "      <td>성인가요</td>\n",
              "    </tr>\n",
              "    <tr>\n",
              "      <th>50</th>\n",
              "      <td>GN0800</td>\n",
              "      <td>포크/블루스</td>\n",
              "    </tr>\n",
              "    <tr>\n",
              "      <th>56</th>\n",
              "      <td>GN0900</td>\n",
              "      <td>POP</td>\n",
              "    </tr>\n",
              "    <tr>\n",
              "      <th>65</th>\n",
              "      <td>GN1000</td>\n",
              "      <td>록/메탈</td>\n",
              "    </tr>\n",
              "    <tr>\n",
              "      <th>80</th>\n",
              "      <td>GN1100</td>\n",
              "      <td>일렉트로니카</td>\n",
              "    </tr>\n",
              "    <tr>\n",
              "      <th>90</th>\n",
              "      <td>GN1200</td>\n",
              "      <td>랩/힙합</td>\n",
              "    </tr>\n",
              "    <tr>\n",
              "      <th>100</th>\n",
              "      <td>GN1300</td>\n",
              "      <td>R&amp;B/Soul</td>\n",
              "    </tr>\n",
              "    <tr>\n",
              "      <th>109</th>\n",
              "      <td>GN1400</td>\n",
              "      <td>포크/블루스/컨트리</td>\n",
              "    </tr>\n",
              "    <tr>\n",
              "      <th>117</th>\n",
              "      <td>GN1500</td>\n",
              "      <td>OST</td>\n",
              "    </tr>\n",
              "    <tr>\n",
              "      <th>128</th>\n",
              "      <td>GN1600</td>\n",
              "      <td>클래식</td>\n",
              "    </tr>\n",
              "    <tr>\n",
              "      <th>144</th>\n",
              "      <td>GN1700</td>\n",
              "      <td>재즈</td>\n",
              "    </tr>\n",
              "    <tr>\n",
              "      <th>155</th>\n",
              "      <td>GN1800</td>\n",
              "      <td>뉴에이지</td>\n",
              "    </tr>\n",
              "    <tr>\n",
              "      <th>163</th>\n",
              "      <td>GN1900</td>\n",
              "      <td>J-POP</td>\n",
              "    </tr>\n",
              "    <tr>\n",
              "      <th>176</th>\n",
              "      <td>GN2000</td>\n",
              "      <td>월드뮤직</td>\n",
              "    </tr>\n",
              "    <tr>\n",
              "      <th>187</th>\n",
              "      <td>GN2100</td>\n",
              "      <td>CCM</td>\n",
              "    </tr>\n",
              "    <tr>\n",
              "      <th>198</th>\n",
              "      <td>GN2200</td>\n",
              "      <td>어린이/태교</td>\n",
              "    </tr>\n",
              "    <tr>\n",
              "      <th>215</th>\n",
              "      <td>GN2300</td>\n",
              "      <td>종교음악</td>\n",
              "    </tr>\n",
              "    <tr>\n",
              "      <th>218</th>\n",
              "      <td>GN2400</td>\n",
              "      <td>국악</td>\n",
              "    </tr>\n",
              "    <tr>\n",
              "      <th>225</th>\n",
              "      <td>GN2500</td>\n",
              "      <td>아이돌</td>\n",
              "    </tr>\n",
              "    <tr>\n",
              "      <th>232</th>\n",
              "      <td>GN2600</td>\n",
              "      <td>일렉트로니카</td>\n",
              "    </tr>\n",
              "    <tr>\n",
              "      <th>237</th>\n",
              "      <td>GN2700</td>\n",
              "      <td>EDM</td>\n",
              "    </tr>\n",
              "    <tr>\n",
              "      <th>242</th>\n",
              "      <td>GN2800</td>\n",
              "      <td>뮤직테라피</td>\n",
              "    </tr>\n",
              "    <tr>\n",
              "      <th>249</th>\n",
              "      <td>GN2900</td>\n",
              "      <td>뮤지컬</td>\n",
              "    </tr>\n",
              "    <tr>\n",
              "      <th>253</th>\n",
              "      <td>GN3000</td>\n",
              "      <td>크리스마스</td>\n",
              "    </tr>\n",
              "  </tbody>\n",
              "</table>\n",
              "</div>"
            ],
            "text/plain": [
              "       장르코드         장르명\n",
              "0    GN0100         발라드\n",
              "6    GN0200          댄스\n",
              "12   GN0300        랩/힙합\n",
              "18   GN0400    R&B/Soul\n",
              "22   GN0500        인디음악\n",
              "32   GN0600        록/메탈\n",
              "39   GN0700        성인가요\n",
              "50   GN0800      포크/블루스\n",
              "56   GN0900         POP\n",
              "65   GN1000        록/메탈\n",
              "80   GN1100      일렉트로니카\n",
              "90   GN1200        랩/힙합\n",
              "100  GN1300    R&B/Soul\n",
              "109  GN1400  포크/블루스/컨트리\n",
              "117  GN1500         OST\n",
              "128  GN1600         클래식\n",
              "144  GN1700          재즈\n",
              "155  GN1800        뉴에이지\n",
              "163  GN1900       J-POP\n",
              "176  GN2000        월드뮤직\n",
              "187  GN2100         CCM\n",
              "198  GN2200      어린이/태교\n",
              "215  GN2300        종교음악\n",
              "218  GN2400          국악\n",
              "225  GN2500         아이돌\n",
              "232  GN2600      일렉트로니카\n",
              "237  GN2700         EDM\n",
              "242  GN2800       뮤직테라피\n",
              "249  GN2900         뮤지컬\n",
              "253  GN3000       크리스마스"
            ]
          },
          "metadata": {
            "tags": []
          },
          "execution_count": 16
        }
      ]
    },
    {
      "cell_type": "markdown",
      "metadata": {
        "id": "2elXENJ6xSf7"
      },
      "source": [
        "#### 상세분류 장르코드 "
      ]
    },
    {
      "cell_type": "code",
      "metadata": {
        "id": "YK1tqV4gnZH1"
      },
      "source": [
        "# 장르코드 뒷자리 두 자리가 00이 아닌 코드를 필터링\n",
        "small_genre = genre[genre['gnr_code'].str[-2:] != '00']\n",
        "small_genre.rename(columns = {'gnr_code' : '세부 장르코드', 'gnr_name' : '세부 장르명'}, inplace = True)"
      ],
      "execution_count": null,
      "outputs": []
    },
    {
      "cell_type": "code",
      "metadata": {
        "id": "41cYCpE0q15K",
        "outputId": "06e58ff7-8b2d-4adc-aa99-2830a66e52c5",
        "colab": {
          "base_uri": "https://localhost:8080/",
          "height": 402
        }
      },
      "source": [
        "small_genre"
      ],
      "execution_count": null,
      "outputs": [
        {
          "output_type": "execute_result",
          "data": {
            "text/html": [
              "<div>\n",
              "<style scoped>\n",
              "    .dataframe tbody tr th:only-of-type {\n",
              "        vertical-align: middle;\n",
              "    }\n",
              "\n",
              "    .dataframe tbody tr th {\n",
              "        vertical-align: top;\n",
              "    }\n",
              "\n",
              "    .dataframe thead th {\n",
              "        text-align: right;\n",
              "    }\n",
              "</style>\n",
              "<table border=\"1\" class=\"dataframe\">\n",
              "  <thead>\n",
              "    <tr style=\"text-align: right;\">\n",
              "      <th></th>\n",
              "      <th>세부 장르코드</th>\n",
              "      <th>세부 장르명</th>\n",
              "    </tr>\n",
              "  </thead>\n",
              "  <tbody>\n",
              "    <tr>\n",
              "      <th>1</th>\n",
              "      <td>GN0101</td>\n",
              "      <td>세부장르전체</td>\n",
              "    </tr>\n",
              "    <tr>\n",
              "      <th>2</th>\n",
              "      <td>GN0102</td>\n",
              "      <td>'80</td>\n",
              "    </tr>\n",
              "    <tr>\n",
              "      <th>3</th>\n",
              "      <td>GN0103</td>\n",
              "      <td>'90</td>\n",
              "    </tr>\n",
              "    <tr>\n",
              "      <th>4</th>\n",
              "      <td>GN0104</td>\n",
              "      <td>'00</td>\n",
              "    </tr>\n",
              "    <tr>\n",
              "      <th>5</th>\n",
              "      <td>GN0105</td>\n",
              "      <td>'10-</td>\n",
              "    </tr>\n",
              "    <tr>\n",
              "      <th>...</th>\n",
              "      <td>...</td>\n",
              "      <td>...</td>\n",
              "    </tr>\n",
              "    <tr>\n",
              "      <th>247</th>\n",
              "      <td>GN2805</td>\n",
              "      <td>숙면유도</td>\n",
              "    </tr>\n",
              "    <tr>\n",
              "      <th>248</th>\n",
              "      <td>GN2806</td>\n",
              "      <td>반려동물</td>\n",
              "    </tr>\n",
              "    <tr>\n",
              "      <th>250</th>\n",
              "      <td>GN2901</td>\n",
              "      <td>세부장르전체</td>\n",
              "    </tr>\n",
              "    <tr>\n",
              "      <th>251</th>\n",
              "      <td>GN2902</td>\n",
              "      <td>국내뮤지컬</td>\n",
              "    </tr>\n",
              "    <tr>\n",
              "      <th>252</th>\n",
              "      <td>GN2903</td>\n",
              "      <td>국외뮤지컬</td>\n",
              "    </tr>\n",
              "  </tbody>\n",
              "</table>\n",
              "<p>224 rows × 2 columns</p>\n",
              "</div>"
            ],
            "text/plain": [
              "    세부 장르코드  세부 장르명\n",
              "1    GN0101  세부장르전체\n",
              "2    GN0102     '80\n",
              "3    GN0103     '90\n",
              "4    GN0104     '00\n",
              "5    GN0105    '10-\n",
              "..      ...     ...\n",
              "247  GN2805    숙면유도\n",
              "248  GN2806    반려동물\n",
              "250  GN2901  세부장르전체\n",
              "251  GN2902   국내뮤지컬\n",
              "252  GN2903   국외뮤지컬\n",
              "\n",
              "[224 rows x 2 columns]"
            ]
          },
          "metadata": {
            "tags": []
          },
          "execution_count": 18
        }
      ]
    },
    {
      "cell_type": "markdown",
      "metadata": {
        "id": "asTVVfoXUI_m"
      },
      "source": [
        "<br>"
      ]
    },
    {
      "cell_type": "markdown",
      "metadata": {
        "id": "BdefDKScq9nu"
      },
      "source": [
        "### 장르 코드 트리(Tree)\n",
        "- 위에서 구분한 **대분류 장르코드와 상세 장르코드 앞자리 네 자리를 활용**하여 장르 코드 트리 구성"
      ]
    },
    {
      "cell_type": "code",
      "metadata": {
        "id": "jw53YEgRq_3b"
      },
      "source": [
        "# 1. 장르id의 앞 네자리로 대분류 장르와 세부 장르를 조인하기 위해 공통컬럼으로 쓸 join_code 열을 새로 만듦\n",
        "\n",
        "big_genre =  big_genre.assign(join_code = big_genre['장르코드'].str[0:4])\n",
        "# 기존 데이터프레임 객체에 새로운 열을 추가해 새로운 데이터프레임 객체를 반환 \n",
        "# -> 기존 데이터프레임에 대입을 해야지만 replace(대체)되는 것이다.\n",
        "# 새로운 열의 이름인 join_cod = gnr_code에서 앞 네글자를 뽑은 어레이\n",
        "\n",
        "# gnr_code2['join_code'] =  gnr_code['gnr_code'].str[0:4]  #-> 이것과 같은 결과가 된다. \n",
        "\n",
        "# 같은 방법으로 join_code열을 새로 만든다. \n",
        "small_genre = small_genre.assign(join_code = small_genre['세부 장르코드'].str[0:4])\n",
        "\n",
        "# 2. Merge \n",
        "# join_code를 공통 컬럼으로 해서 left-join으로 big_gerne와 small_genre 테이블을 Merge \n",
        "genre_tree = pd.merge(big_genre, small_genre, how = 'left', on = 'join_code')"
      ],
      "execution_count": null,
      "outputs": []
    },
    {
      "cell_type": "code",
      "metadata": {
        "id": "sirjd8fQeazj",
        "outputId": "09315e45-c76e-4956-d03f-f99aabf3e1dd",
        "colab": {
          "base_uri": "https://localhost:8080/",
          "height": 402
        }
      },
      "source": [
        "genre_tree"
      ],
      "execution_count": null,
      "outputs": [
        {
          "output_type": "execute_result",
          "data": {
            "text/html": [
              "<div>\n",
              "<style scoped>\n",
              "    .dataframe tbody tr th:only-of-type {\n",
              "        vertical-align: middle;\n",
              "    }\n",
              "\n",
              "    .dataframe tbody tr th {\n",
              "        vertical-align: top;\n",
              "    }\n",
              "\n",
              "    .dataframe thead th {\n",
              "        text-align: right;\n",
              "    }\n",
              "</style>\n",
              "<table border=\"1\" class=\"dataframe\">\n",
              "  <thead>\n",
              "    <tr style=\"text-align: right;\">\n",
              "      <th></th>\n",
              "      <th>장르코드</th>\n",
              "      <th>장르명</th>\n",
              "      <th>join_code</th>\n",
              "      <th>세부 장르코드</th>\n",
              "      <th>세부 장르명</th>\n",
              "    </tr>\n",
              "  </thead>\n",
              "  <tbody>\n",
              "    <tr>\n",
              "      <th>0</th>\n",
              "      <td>GN0100</td>\n",
              "      <td>발라드</td>\n",
              "      <td>GN01</td>\n",
              "      <td>GN0101</td>\n",
              "      <td>세부장르전체</td>\n",
              "    </tr>\n",
              "    <tr>\n",
              "      <th>1</th>\n",
              "      <td>GN0100</td>\n",
              "      <td>발라드</td>\n",
              "      <td>GN01</td>\n",
              "      <td>GN0102</td>\n",
              "      <td>'80</td>\n",
              "    </tr>\n",
              "    <tr>\n",
              "      <th>2</th>\n",
              "      <td>GN0100</td>\n",
              "      <td>발라드</td>\n",
              "      <td>GN01</td>\n",
              "      <td>GN0103</td>\n",
              "      <td>'90</td>\n",
              "    </tr>\n",
              "    <tr>\n",
              "      <th>3</th>\n",
              "      <td>GN0100</td>\n",
              "      <td>발라드</td>\n",
              "      <td>GN01</td>\n",
              "      <td>GN0104</td>\n",
              "      <td>'00</td>\n",
              "    </tr>\n",
              "    <tr>\n",
              "      <th>4</th>\n",
              "      <td>GN0100</td>\n",
              "      <td>발라드</td>\n",
              "      <td>GN01</td>\n",
              "      <td>GN0105</td>\n",
              "      <td>'10-</td>\n",
              "    </tr>\n",
              "    <tr>\n",
              "      <th>...</th>\n",
              "      <td>...</td>\n",
              "      <td>...</td>\n",
              "      <td>...</td>\n",
              "      <td>...</td>\n",
              "      <td>...</td>\n",
              "    </tr>\n",
              "    <tr>\n",
              "      <th>220</th>\n",
              "      <td>GN2800</td>\n",
              "      <td>뮤직테라피</td>\n",
              "      <td>GN28</td>\n",
              "      <td>GN2806</td>\n",
              "      <td>반려동물</td>\n",
              "    </tr>\n",
              "    <tr>\n",
              "      <th>221</th>\n",
              "      <td>GN2900</td>\n",
              "      <td>뮤지컬</td>\n",
              "      <td>GN29</td>\n",
              "      <td>GN2901</td>\n",
              "      <td>세부장르전체</td>\n",
              "    </tr>\n",
              "    <tr>\n",
              "      <th>222</th>\n",
              "      <td>GN2900</td>\n",
              "      <td>뮤지컬</td>\n",
              "      <td>GN29</td>\n",
              "      <td>GN2902</td>\n",
              "      <td>국내뮤지컬</td>\n",
              "    </tr>\n",
              "    <tr>\n",
              "      <th>223</th>\n",
              "      <td>GN2900</td>\n",
              "      <td>뮤지컬</td>\n",
              "      <td>GN29</td>\n",
              "      <td>GN2903</td>\n",
              "      <td>국외뮤지컬</td>\n",
              "    </tr>\n",
              "    <tr>\n",
              "      <th>224</th>\n",
              "      <td>GN3000</td>\n",
              "      <td>크리스마스</td>\n",
              "      <td>GN30</td>\n",
              "      <td>NaN</td>\n",
              "      <td>NaN</td>\n",
              "    </tr>\n",
              "  </tbody>\n",
              "</table>\n",
              "<p>225 rows × 5 columns</p>\n",
              "</div>"
            ],
            "text/plain": [
              "       장르코드    장르명 join_code 세부 장르코드  세부 장르명\n",
              "0    GN0100    발라드      GN01  GN0101  세부장르전체\n",
              "1    GN0100    발라드      GN01  GN0102     '80\n",
              "2    GN0100    발라드      GN01  GN0103     '90\n",
              "3    GN0100    발라드      GN01  GN0104     '00\n",
              "4    GN0100    발라드      GN01  GN0105    '10-\n",
              "..      ...    ...       ...     ...     ...\n",
              "220  GN2800  뮤직테라피      GN28  GN2806    반려동물\n",
              "221  GN2900    뮤지컬      GN29  GN2901  세부장르전체\n",
              "222  GN2900    뮤지컬      GN29  GN2902   국내뮤지컬\n",
              "223  GN2900    뮤지컬      GN29  GN2903   국외뮤지컬\n",
              "224  GN3000  크리스마스      GN30     NaN     NaN\n",
              "\n",
              "[225 rows x 5 columns]"
            ]
          },
          "metadata": {
            "tags": []
          },
          "execution_count": 20
        }
      ]
    },
    {
      "cell_type": "code",
      "metadata": {
        "id": "h6aK59yMTHnR"
      },
      "source": [
        "# 대분류 장르와 세부장르를 쉽게 보기 위해 데이터프레임으로 만들어 준다 \n",
        "# join을 위해 썼던 코드는 제외 시킨다\n",
        "genre_tree= genre_tree[['장르코드', '장르명', '세부 장르코드', '세부 장르명']]"
      ],
      "execution_count": null,
      "outputs": []
    },
    {
      "cell_type": "code",
      "metadata": {
        "id": "J8Tr_i-keEp1",
        "outputId": "614e7389-3838-42ea-c13d-49a9b88c9697",
        "colab": {
          "base_uri": "https://localhost:8080/"
        }
      },
      "source": [
        "genre_tree.head"
      ],
      "execution_count": null,
      "outputs": [
        {
          "output_type": "execute_result",
          "data": {
            "text/plain": [
              "<bound method NDFrame.head of        장르코드    장르명 세부 장르코드  세부 장르명\n",
              "0    GN0100    발라드  GN0101  세부장르전체\n",
              "1    GN0100    발라드  GN0102     '80\n",
              "2    GN0100    발라드  GN0103     '90\n",
              "3    GN0100    발라드  GN0104     '00\n",
              "4    GN0100    발라드  GN0105    '10-\n",
              "..      ...    ...     ...     ...\n",
              "220  GN2800  뮤직테라피  GN2806    반려동물\n",
              "221  GN2900    뮤지컬  GN2901  세부장르전체\n",
              "222  GN2900    뮤지컬  GN2902   국내뮤지컬\n",
              "223  GN2900    뮤지컬  GN2903   국외뮤지컬\n",
              "224  GN3000  크리스마스     NaN     NaN\n",
              "\n",
              "[225 rows x 4 columns]>"
            ]
          },
          "metadata": {
            "tags": []
          },
          "execution_count": 22
        }
      ]
    },
    {
      "cell_type": "markdown",
      "metadata": {
        "id": "Uxnd-qxOUXSI"
      },
      "source": [
        "### 장르 추출 및 살펴보기"
      ]
    },
    {
      "cell_type": "code",
      "metadata": {
        "id": "rsYA8Xg4rsR7",
        "outputId": "f03ad614-1ec6-4411-9c94-4ca89226ff0c",
        "colab": {
          "base_uri": "https://localhost:8080/",
          "height": 166
        }
      },
      "source": [
        "# 대장르에 포함된 세부장르 보기\n",
        "genre_tree[genre_tree[\"장르코드\"] == \"GN2700\"]"
      ],
      "execution_count": null,
      "outputs": [
        {
          "output_type": "execute_result",
          "data": {
            "text/html": [
              "<div>\n",
              "<style scoped>\n",
              "    .dataframe tbody tr th:only-of-type {\n",
              "        vertical-align: middle;\n",
              "    }\n",
              "\n",
              "    .dataframe tbody tr th {\n",
              "        vertical-align: top;\n",
              "    }\n",
              "\n",
              "    .dataframe thead th {\n",
              "        text-align: right;\n",
              "    }\n",
              "</style>\n",
              "<table border=\"1\" class=\"dataframe\">\n",
              "  <thead>\n",
              "    <tr style=\"text-align: right;\">\n",
              "      <th></th>\n",
              "      <th>장르코드</th>\n",
              "      <th>장르명</th>\n",
              "      <th>세부 장르코드</th>\n",
              "      <th>세부 장르명</th>\n",
              "    </tr>\n",
              "  </thead>\n",
              "  <tbody>\n",
              "    <tr>\n",
              "      <th>211</th>\n",
              "      <td>GN2700</td>\n",
              "      <td>EDM</td>\n",
              "      <td>GN2701</td>\n",
              "      <td>세부장르전체</td>\n",
              "    </tr>\n",
              "    <tr>\n",
              "      <th>212</th>\n",
              "      <td>GN2700</td>\n",
              "      <td>EDM</td>\n",
              "      <td>GN2702</td>\n",
              "      <td>하우스</td>\n",
              "    </tr>\n",
              "    <tr>\n",
              "      <th>213</th>\n",
              "      <td>GN2700</td>\n",
              "      <td>EDM</td>\n",
              "      <td>GN2703</td>\n",
              "      <td>클럽</td>\n",
              "    </tr>\n",
              "    <tr>\n",
              "      <th>214</th>\n",
              "      <td>GN2700</td>\n",
              "      <td>EDM</td>\n",
              "      <td>GN2704</td>\n",
              "      <td>DJ</td>\n",
              "    </tr>\n",
              "  </tbody>\n",
              "</table>\n",
              "</div>"
            ],
            "text/plain": [
              "       장르코드  장르명 세부 장르코드  세부 장르명\n",
              "211  GN2700  EDM  GN2701  세부장르전체\n",
              "212  GN2700  EDM  GN2702     하우스\n",
              "213  GN2700  EDM  GN2703      클럽\n",
              "214  GN2700  EDM  GN2704      DJ"
            ]
          },
          "metadata": {
            "tags": []
          },
          "execution_count": 23
        }
      ]
    },
    {
      "cell_type": "code",
      "metadata": {
        "id": "6a7uhZ7rVttD",
        "outputId": "e44edb16-d3f8-48d9-ee92-74e2ea9d9e14",
        "colab": {
          "base_uri": "https://localhost:8080/",
          "height": 77
        }
      },
      "source": [
        "# 세부장르 보기\n",
        "genre_tree[genre_tree[\"세부 장르코드\"] == \"GN2801\"]"
      ],
      "execution_count": null,
      "outputs": [
        {
          "output_type": "execute_result",
          "data": {
            "text/html": [
              "<div>\n",
              "<style scoped>\n",
              "    .dataframe tbody tr th:only-of-type {\n",
              "        vertical-align: middle;\n",
              "    }\n",
              "\n",
              "    .dataframe tbody tr th {\n",
              "        vertical-align: top;\n",
              "    }\n",
              "\n",
              "    .dataframe thead th {\n",
              "        text-align: right;\n",
              "    }\n",
              "</style>\n",
              "<table border=\"1\" class=\"dataframe\">\n",
              "  <thead>\n",
              "    <tr style=\"text-align: right;\">\n",
              "      <th></th>\n",
              "      <th>장르코드</th>\n",
              "      <th>장르명</th>\n",
              "      <th>세부 장르코드</th>\n",
              "      <th>세부 장르명</th>\n",
              "    </tr>\n",
              "  </thead>\n",
              "  <tbody>\n",
              "    <tr>\n",
              "      <th>215</th>\n",
              "      <td>GN2800</td>\n",
              "      <td>뮤직테라피</td>\n",
              "      <td>GN2801</td>\n",
              "      <td>세부장르전체</td>\n",
              "    </tr>\n",
              "  </tbody>\n",
              "</table>\n",
              "</div>"
            ],
            "text/plain": [
              "       장르코드    장르명 세부 장르코드  세부 장르명\n",
              "215  GN2800  뮤직테라피  GN2801  세부장르전체"
            ]
          },
          "metadata": {
            "tags": []
          },
          "execution_count": 24
        }
      ]
    },
    {
      "cell_type": "markdown",
      "metadata": {
        "id": "Vpdp2GwAXtuW"
      },
      "source": [
        "## 2. 곡 별 메타 데이터 : `song_meta.json`\n",
        "\n",
        "*   데이터 불러오기\n",
        "*   곡 별 매핑 되는 장르 수 \n",
        "*   가장 많이 매핑 되는 장르\n",
        "\n",
        "\n",
        "\n"
      ]
    },
    {
      "cell_type": "markdown",
      "metadata": {
        "id": "CAMeexObYm0B"
      },
      "source": [
        "### 데이터 불러오기"
      ]
    },
    {
      "cell_type": "code",
      "metadata": {
        "id": "LHwH8pJ7fKyR"
      },
      "source": [
        "song = pd.read_json('/content/drive/My Drive/Colab Notebooks/Data/song_meta.json',typ = 'frame')"
      ],
      "execution_count": null,
      "outputs": []
    },
    {
      "cell_type": "code",
      "metadata": {
        "id": "F86lfz-Zdp6z",
        "outputId": "27e9ab91-43a0-44c4-d5d7-2b4f5429c57f",
        "colab": {
          "base_uri": "https://localhost:8080/",
          "height": 450
        }
      },
      "source": [
        "song.head()"
      ],
      "execution_count": null,
      "outputs": [
        {
          "output_type": "execute_result",
          "data": {
            "text/html": [
              "<div>\n",
              "<style scoped>\n",
              "    .dataframe tbody tr th:only-of-type {\n",
              "        vertical-align: middle;\n",
              "    }\n",
              "\n",
              "    .dataframe tbody tr th {\n",
              "        vertical-align: top;\n",
              "    }\n",
              "\n",
              "    .dataframe thead th {\n",
              "        text-align: right;\n",
              "    }\n",
              "</style>\n",
              "<table border=\"1\" class=\"dataframe\">\n",
              "  <thead>\n",
              "    <tr style=\"text-align: right;\">\n",
              "      <th></th>\n",
              "      <th>song_gn_dtl_gnr_basket</th>\n",
              "      <th>issue_date</th>\n",
              "      <th>album_name</th>\n",
              "      <th>album_id</th>\n",
              "      <th>artist_id_basket</th>\n",
              "      <th>song_name</th>\n",
              "      <th>song_gn_gnr_basket</th>\n",
              "      <th>artist_name_basket</th>\n",
              "      <th>id</th>\n",
              "    </tr>\n",
              "  </thead>\n",
              "  <tbody>\n",
              "    <tr>\n",
              "      <th>0</th>\n",
              "      <td>[GN0901]</td>\n",
              "      <td>20140512</td>\n",
              "      <td>불후의 명곡 - 7080 추억의 얄개시대 팝송베스트</td>\n",
              "      <td>2255639</td>\n",
              "      <td>[2727]</td>\n",
              "      <td>Feelings</td>\n",
              "      <td>[GN0900]</td>\n",
              "      <td>[Various Artists]</td>\n",
              "      <td>0</td>\n",
              "    </tr>\n",
              "    <tr>\n",
              "      <th>1</th>\n",
              "      <td>[GN1601, GN1606]</td>\n",
              "      <td>20080421</td>\n",
              "      <td>Bach : Partitas Nos. 2, 3 &amp; 4</td>\n",
              "      <td>376431</td>\n",
              "      <td>[29966]</td>\n",
              "      <td>Bach : Partita No. 4 In D Major, BWV 828 - II....</td>\n",
              "      <td>[GN1600]</td>\n",
              "      <td>[Murray Perahia]</td>\n",
              "      <td>1</td>\n",
              "    </tr>\n",
              "    <tr>\n",
              "      <th>2</th>\n",
              "      <td>[GN0901]</td>\n",
              "      <td>20180518</td>\n",
              "      <td>Hit</td>\n",
              "      <td>4698747</td>\n",
              "      <td>[3361]</td>\n",
              "      <td>Solsbury Hill (Remastered 2002)</td>\n",
              "      <td>[GN0900]</td>\n",
              "      <td>[Peter Gabriel]</td>\n",
              "      <td>2</td>\n",
              "    </tr>\n",
              "    <tr>\n",
              "      <th>3</th>\n",
              "      <td>[GN1102, GN1101]</td>\n",
              "      <td>20151016</td>\n",
              "      <td>Feeling Right (Everything Is Nice) (Feat. Popc...</td>\n",
              "      <td>2644882</td>\n",
              "      <td>[838543]</td>\n",
              "      <td>Feeling Right (Everything Is Nice) (Feat. Popc...</td>\n",
              "      <td>[GN1100]</td>\n",
              "      <td>[Matoma]</td>\n",
              "      <td>3</td>\n",
              "    </tr>\n",
              "    <tr>\n",
              "      <th>4</th>\n",
              "      <td>[GN1802, GN1801]</td>\n",
              "      <td>20110824</td>\n",
              "      <td>그남자 그여자</td>\n",
              "      <td>2008470</td>\n",
              "      <td>[560160]</td>\n",
              "      <td>그남자 그여자</td>\n",
              "      <td>[GN1800]</td>\n",
              "      <td>[Jude Law]</td>\n",
              "      <td>4</td>\n",
              "    </tr>\n",
              "  </tbody>\n",
              "</table>\n",
              "</div>"
            ],
            "text/plain": [
              "  song_gn_dtl_gnr_basket  issue_date  ... artist_name_basket  id\n",
              "0               [GN0901]    20140512  ...  [Various Artists]   0\n",
              "1       [GN1601, GN1606]    20080421  ...   [Murray Perahia]   1\n",
              "2               [GN0901]    20180518  ...    [Peter Gabriel]   2\n",
              "3       [GN1102, GN1101]    20151016  ...           [Matoma]   3\n",
              "4       [GN1802, GN1801]    20110824  ...         [Jude Law]   4\n",
              "\n",
              "[5 rows x 9 columns]"
            ]
          },
          "metadata": {
            "tags": []
          },
          "execution_count": 26
        }
      ]
    },
    {
      "cell_type": "code",
      "metadata": {
        "id": "ycS5jHVrh15x",
        "outputId": "8dd72974-edd4-4759-8b7b-d8efb7ab6151",
        "colab": {
          "base_uri": "https://localhost:8080/",
          "height": 518
        }
      },
      "source": [
        "# 변수명 직관적으로 변경\n",
        "song.rename(columns={\"song_gn_dtl_gnr_basket\":\"곡 세부 장르 리스트\", \"issue_date\":\"발매일\", \"album_name\": \"앨범 명\", \"album_id\":\"앨범 ID\", \"artist_id_basket\":\"아티스트 ID 리스트\", \"song_name\":\"곡 제목\", \"song_gn_gnr_basket\":\"곡 장르 리스트\", \"artist_name_basket\":\"아티스트 리스트\",\"id\":\"곡 ID\"},inplace= True )\n",
        "song.head()"
      ],
      "execution_count": null,
      "outputs": [
        {
          "output_type": "execute_result",
          "data": {
            "text/html": [
              "<div>\n",
              "<style scoped>\n",
              "    .dataframe tbody tr th:only-of-type {\n",
              "        vertical-align: middle;\n",
              "    }\n",
              "\n",
              "    .dataframe tbody tr th {\n",
              "        vertical-align: top;\n",
              "    }\n",
              "\n",
              "    .dataframe thead th {\n",
              "        text-align: right;\n",
              "    }\n",
              "</style>\n",
              "<table border=\"1\" class=\"dataframe\">\n",
              "  <thead>\n",
              "    <tr style=\"text-align: right;\">\n",
              "      <th></th>\n",
              "      <th>곡 세부 장르 리스트</th>\n",
              "      <th>발매일</th>\n",
              "      <th>앨범 명</th>\n",
              "      <th>앨범 ID</th>\n",
              "      <th>아티스트 ID 리스트</th>\n",
              "      <th>곡 제목</th>\n",
              "      <th>곡 장르 리스트</th>\n",
              "      <th>아티스트 리스트</th>\n",
              "      <th>곡 ID</th>\n",
              "    </tr>\n",
              "  </thead>\n",
              "  <tbody>\n",
              "    <tr>\n",
              "      <th>0</th>\n",
              "      <td>[GN0901]</td>\n",
              "      <td>20140512</td>\n",
              "      <td>불후의 명곡 - 7080 추억의 얄개시대 팝송베스트</td>\n",
              "      <td>2255639</td>\n",
              "      <td>[2727]</td>\n",
              "      <td>Feelings</td>\n",
              "      <td>[GN0900]</td>\n",
              "      <td>[Various Artists]</td>\n",
              "      <td>0</td>\n",
              "    </tr>\n",
              "    <tr>\n",
              "      <th>1</th>\n",
              "      <td>[GN1601, GN1606]</td>\n",
              "      <td>20080421</td>\n",
              "      <td>Bach : Partitas Nos. 2, 3 &amp; 4</td>\n",
              "      <td>376431</td>\n",
              "      <td>[29966]</td>\n",
              "      <td>Bach : Partita No. 4 In D Major, BWV 828 - II....</td>\n",
              "      <td>[GN1600]</td>\n",
              "      <td>[Murray Perahia]</td>\n",
              "      <td>1</td>\n",
              "    </tr>\n",
              "    <tr>\n",
              "      <th>2</th>\n",
              "      <td>[GN0901]</td>\n",
              "      <td>20180518</td>\n",
              "      <td>Hit</td>\n",
              "      <td>4698747</td>\n",
              "      <td>[3361]</td>\n",
              "      <td>Solsbury Hill (Remastered 2002)</td>\n",
              "      <td>[GN0900]</td>\n",
              "      <td>[Peter Gabriel]</td>\n",
              "      <td>2</td>\n",
              "    </tr>\n",
              "    <tr>\n",
              "      <th>3</th>\n",
              "      <td>[GN1102, GN1101]</td>\n",
              "      <td>20151016</td>\n",
              "      <td>Feeling Right (Everything Is Nice) (Feat. Popc...</td>\n",
              "      <td>2644882</td>\n",
              "      <td>[838543]</td>\n",
              "      <td>Feeling Right (Everything Is Nice) (Feat. Popc...</td>\n",
              "      <td>[GN1100]</td>\n",
              "      <td>[Matoma]</td>\n",
              "      <td>3</td>\n",
              "    </tr>\n",
              "    <tr>\n",
              "      <th>4</th>\n",
              "      <td>[GN1802, GN1801]</td>\n",
              "      <td>20110824</td>\n",
              "      <td>그남자 그여자</td>\n",
              "      <td>2008470</td>\n",
              "      <td>[560160]</td>\n",
              "      <td>그남자 그여자</td>\n",
              "      <td>[GN1800]</td>\n",
              "      <td>[Jude Law]</td>\n",
              "      <td>4</td>\n",
              "    </tr>\n",
              "  </tbody>\n",
              "</table>\n",
              "</div>"
            ],
            "text/plain": [
              "        곡 세부 장르 리스트       발매일  ...           아티스트 리스트  곡 ID\n",
              "0          [GN0901]  20140512  ...  [Various Artists]     0\n",
              "1  [GN1601, GN1606]  20080421  ...   [Murray Perahia]     1\n",
              "2          [GN0901]  20180518  ...    [Peter Gabriel]     2\n",
              "3  [GN1102, GN1101]  20151016  ...           [Matoma]     3\n",
              "4  [GN1802, GN1801]  20110824  ...         [Jude Law]     4\n",
              "\n",
              "[5 rows x 9 columns]"
            ]
          },
          "metadata": {
            "tags": []
          },
          "execution_count": 27
        }
      ]
    },
    {
      "cell_type": "code",
      "metadata": {
        "id": "jWsjdfIskkAt",
        "outputId": "aefb9642-214e-415b-bfee-067827a940e0",
        "colab": {
          "base_uri": "https://localhost:8080/"
        }
      },
      "source": [
        "# 데이터 기초 탐색 \n",
        "song.info()"
      ],
      "execution_count": null,
      "outputs": [
        {
          "output_type": "stream",
          "text": [
            "<class 'pandas.core.frame.DataFrame'>\n",
            "RangeIndex: 707989 entries, 0 to 707988\n",
            "Data columns (total 9 columns):\n",
            " #   Column       Non-Null Count   Dtype \n",
            "---  ------       --------------   ----- \n",
            " 0   곡 세부 장르 리스트  707989 non-null  object\n",
            " 1   발매일          707989 non-null  int64 \n",
            " 2   앨범 명         707985 non-null  object\n",
            " 3   앨범 ID        707989 non-null  int64 \n",
            " 4   아티스트 ID 리스트  707989 non-null  object\n",
            " 5   곡 제목         707989 non-null  object\n",
            " 6   곡 장르 리스트     707989 non-null  object\n",
            " 7   아티스트 리스트     707989 non-null  object\n",
            " 8   곡 ID         707989 non-null  int64 \n",
            "dtypes: int64(3), object(6)\n",
            "memory usage: 48.6+ MB\n"
          ],
          "name": "stdout"
        }
      ]
    },
    {
      "cell_type": "markdown",
      "metadata": {
        "id": "fqUYdcRoouCp"
      },
      "source": [
        "- **총 707,989곡의 메타 정보가 담겨 있으며** 포함하는 값은 아래와 같습니다.\n",
        "  + `song_gn_dtl_gnr_basket` : 상세 장르 코드\n",
        "  + `issue_date` : 곡 발매 일자 (yyyymmdd)\n",
        "  + `album_name` : 앨범 명\n",
        "  + `album_id` : 앨범 아이디\n",
        "  + `artist_id_basket` : 아티스트 아이디 (복수일 경우 띄어쓰기로 구분)\n",
        "  + `song_name` : 곡 제목\n",
        "  + `song_gn_gnr_basket` : 곡 장르 리스트\n",
        "  + `artist_name_basket` : 아티스트 리스트\n",
        "  + `id` : 곡 ID"
      ]
    },
    {
      "cell_type": "markdown",
      "metadata": {
        "id": "BGcYkFx4Yu4M"
      },
      "source": [
        "### 곡 별 매핑 되는 장르 수"
      ]
    },
    {
      "cell_type": "code",
      "metadata": {
        "id": "2EFHapJFG_Tk"
      },
      "source": [
        "# # 곡 아이디(id)와 '곡 장르 리스트' 추출\n",
        "# song_genre = song.loc[:, ['곡 ID', '곡 장르 리스트']]\n",
        "# song_genre.head()"
      ],
      "execution_count": null,
      "outputs": []
    },
    {
      "cell_type": "code",
      "metadata": {
        "id": "qqkKYPXBk_8i"
      },
      "source": [
        "# 곡 ID(id)와 곡 장르 리스트(song_gn_gnr_basket) 추출\n",
        "song_genre = song.loc[:, ['곡 ID', '곡 장르 리스트']]\n",
        "\n",
        "# unnest 곡 장르 리스트 -> # 장르 리스트의 수대로 행을 늘린다.\n",
        "song_genre_unnest = np.dstack(\n",
        "    (\n",
        "        np.repeat(song_genre['곡 ID'].values, list(map(len, song_genre['곡 장르 리스트']))), \n",
        "        # 곡테이블에서 대분류 장르의 수만큼 행을 늘리기 위해, 곡 아이디를 추가한다. (결국, 완성된 건 곡 id컬럼)\n",
        "        np.concatenate(song_genre['곡 장르 리스트'].values)\n",
        "        # 이것을 concatenate 하면, 안의 리스트가 벗겨지고 장르 문자열을 어레이 안에 한번만 감싸서 준다. \n",
        "        # 결국 한 곡에 여러 장르가 있을 경우에도 장르들을 하나하나 갈라서 문자열 요소로 1차원 어레이에 담겨 있다. \n",
        "    )\n",
        ") # \"곡id - 장르 코드\" 테이블이 장르 코드가 다중값이 없도록 행을 추가해서 만듦\n",
        "\n",
        "# unnested 데이터프레임 생성 : song_genre\n",
        "song_genre = pd.DataFrame(data = song_genre_unnest[0], columns = song_genre.columns) \n",
        "# 컬럼이름을 id와 \"곡 장르 리스트\"라고 해서 데이터 프레임으로 변환\n",
        "\n",
        "\n",
        "song_genre['곡 ID'] = song_genre['곡 ID'].astype(str) # id를 문자열 타입으로 \n",
        "song_genre.rename(columns = {'곡 ID' : 'song_id', '곡 장르 리스트' : 'gnr_code'}, inplace = True) # 컬럼이름 변경\n",
        "\n",
        "# unnest 객체 제거\n",
        "del song_genre_unnest # 이제 어레이는 필요가 없으므로 삭제 \n",
        "# 대부분 대분류 장르는 한개이다. "
      ],
      "execution_count": null,
      "outputs": []
    },
    {
      "cell_type": "code",
      "metadata": {
        "id": "YCURG9mHQkcM",
        "outputId": "5562fcd7-5e30-4f71-97b0-2618a5eed417",
        "colab": {
          "base_uri": "https://localhost:8080/",
          "height": 402
        }
      },
      "source": [
        "song_genre # 곡별 대분류 장르 매핑 테이블 (앞으로 많이 쓸 것임)"
      ],
      "execution_count": null,
      "outputs": [
        {
          "output_type": "execute_result",
          "data": {
            "text/html": [
              "<div>\n",
              "<style scoped>\n",
              "    .dataframe tbody tr th:only-of-type {\n",
              "        vertical-align: middle;\n",
              "    }\n",
              "\n",
              "    .dataframe tbody tr th {\n",
              "        vertical-align: top;\n",
              "    }\n",
              "\n",
              "    .dataframe thead th {\n",
              "        text-align: right;\n",
              "    }\n",
              "</style>\n",
              "<table border=\"1\" class=\"dataframe\">\n",
              "  <thead>\n",
              "    <tr style=\"text-align: right;\">\n",
              "      <th></th>\n",
              "      <th>song_id</th>\n",
              "      <th>gnr_code</th>\n",
              "    </tr>\n",
              "  </thead>\n",
              "  <tbody>\n",
              "    <tr>\n",
              "      <th>0</th>\n",
              "      <td>0</td>\n",
              "      <td>GN0900</td>\n",
              "    </tr>\n",
              "    <tr>\n",
              "      <th>1</th>\n",
              "      <td>1</td>\n",
              "      <td>GN1600</td>\n",
              "    </tr>\n",
              "    <tr>\n",
              "      <th>2</th>\n",
              "      <td>2</td>\n",
              "      <td>GN0900</td>\n",
              "    </tr>\n",
              "    <tr>\n",
              "      <th>3</th>\n",
              "      <td>3</td>\n",
              "      <td>GN1100</td>\n",
              "    </tr>\n",
              "    <tr>\n",
              "      <th>4</th>\n",
              "      <td>4</td>\n",
              "      <td>GN1800</td>\n",
              "    </tr>\n",
              "    <tr>\n",
              "      <th>...</th>\n",
              "      <td>...</td>\n",
              "      <td>...</td>\n",
              "    </tr>\n",
              "    <tr>\n",
              "      <th>802854</th>\n",
              "      <td>707984</td>\n",
              "      <td>GN2000</td>\n",
              "    </tr>\n",
              "    <tr>\n",
              "      <th>802855</th>\n",
              "      <td>707985</td>\n",
              "      <td>GN0900</td>\n",
              "    </tr>\n",
              "    <tr>\n",
              "      <th>802856</th>\n",
              "      <td>707986</td>\n",
              "      <td>GN0100</td>\n",
              "    </tr>\n",
              "    <tr>\n",
              "      <th>802857</th>\n",
              "      <td>707987</td>\n",
              "      <td>GN1800</td>\n",
              "    </tr>\n",
              "    <tr>\n",
              "      <th>802858</th>\n",
              "      <td>707988</td>\n",
              "      <td>GN0600</td>\n",
              "    </tr>\n",
              "  </tbody>\n",
              "</table>\n",
              "<p>802859 rows × 2 columns</p>\n",
              "</div>"
            ],
            "text/plain": [
              "       song_id gnr_code\n",
              "0            0   GN0900\n",
              "1            1   GN1600\n",
              "2            2   GN0900\n",
              "3            3   GN1100\n",
              "4            4   GN1800\n",
              "...        ...      ...\n",
              "802854  707984   GN2000\n",
              "802855  707985   GN0900\n",
              "802856  707986   GN0100\n",
              "802857  707987   GN1800\n",
              "802858  707988   GN0600\n",
              "\n",
              "[802859 rows x 2 columns]"
            ]
          },
          "metadata": {
            "tags": []
          },
          "execution_count": 31
        }
      ]
    },
    {
      "cell_type": "code",
      "metadata": {
        "id": "8IALA7T4Qs9L",
        "outputId": "67ebb39b-8ebe-4099-a29f-38827bd33b40",
        "colab": {
          "base_uri": "https://localhost:8080/",
          "height": 402
        }
      },
      "source": [
        "# 1. 곡 별 장르 개수 count 테이블 생성 : song_genre_count\n",
        "song_genre_count = song_genre.groupby('song_id').gnr_code.nunique().reset_index(name = 'mapping_gnr_cnt')\n",
        "# 같은 곡끼리 그룹핑을 해서 대분류 장르코드를 뽑은 시리즈를\n",
        "# nunique()로 장르코드의 유니크한 값의 수를 계산한다.\n",
        "# reset_index(name = 'mapping_gnr_cnt'):이전에 시리즈였던 것을 인덱스를 새로 빼면서 데이터프레임으로 만들고,\n",
        "#                                       장르코드 수를 나타내는 열의 이름을 mapping_gnr_cnt로 바꾼다.\n",
        "song_genre_count"
      ],
      "execution_count": null,
      "outputs": [
        {
          "output_type": "execute_result",
          "data": {
            "text/html": [
              "<div>\n",
              "<style scoped>\n",
              "    .dataframe tbody tr th:only-of-type {\n",
              "        vertical-align: middle;\n",
              "    }\n",
              "\n",
              "    .dataframe tbody tr th {\n",
              "        vertical-align: top;\n",
              "    }\n",
              "\n",
              "    .dataframe thead th {\n",
              "        text-align: right;\n",
              "    }\n",
              "</style>\n",
              "<table border=\"1\" class=\"dataframe\">\n",
              "  <thead>\n",
              "    <tr style=\"text-align: right;\">\n",
              "      <th></th>\n",
              "      <th>song_id</th>\n",
              "      <th>mapping_gnr_cnt</th>\n",
              "    </tr>\n",
              "  </thead>\n",
              "  <tbody>\n",
              "    <tr>\n",
              "      <th>0</th>\n",
              "      <td>0</td>\n",
              "      <td>1</td>\n",
              "    </tr>\n",
              "    <tr>\n",
              "      <th>1</th>\n",
              "      <td>1</td>\n",
              "      <td>1</td>\n",
              "    </tr>\n",
              "    <tr>\n",
              "      <th>2</th>\n",
              "      <td>10</td>\n",
              "      <td>1</td>\n",
              "    </tr>\n",
              "    <tr>\n",
              "      <th>3</th>\n",
              "      <td>100</td>\n",
              "      <td>1</td>\n",
              "    </tr>\n",
              "    <tr>\n",
              "      <th>4</th>\n",
              "      <td>1000</td>\n",
              "      <td>1</td>\n",
              "    </tr>\n",
              "    <tr>\n",
              "      <th>...</th>\n",
              "      <td>...</td>\n",
              "      <td>...</td>\n",
              "    </tr>\n",
              "    <tr>\n",
              "      <th>706925</th>\n",
              "      <td>99995</td>\n",
              "      <td>1</td>\n",
              "    </tr>\n",
              "    <tr>\n",
              "      <th>706926</th>\n",
              "      <td>99996</td>\n",
              "      <td>1</td>\n",
              "    </tr>\n",
              "    <tr>\n",
              "      <th>706927</th>\n",
              "      <td>99997</td>\n",
              "      <td>1</td>\n",
              "    </tr>\n",
              "    <tr>\n",
              "      <th>706928</th>\n",
              "      <td>99998</td>\n",
              "      <td>1</td>\n",
              "    </tr>\n",
              "    <tr>\n",
              "      <th>706929</th>\n",
              "      <td>99999</td>\n",
              "      <td>2</td>\n",
              "    </tr>\n",
              "  </tbody>\n",
              "</table>\n",
              "<p>706930 rows × 2 columns</p>\n",
              "</div>"
            ],
            "text/plain": [
              "       song_id  mapping_gnr_cnt\n",
              "0            0                1\n",
              "1            1                1\n",
              "2           10                1\n",
              "3          100                1\n",
              "4         1000                1\n",
              "...        ...              ...\n",
              "706925   99995                1\n",
              "706926   99996                1\n",
              "706927   99997                1\n",
              "706928   99998                1\n",
              "706929   99999                2\n",
              "\n",
              "[706930 rows x 2 columns]"
            ]
          },
          "metadata": {
            "tags": []
          },
          "execution_count": 32
        }
      ]
    },
    {
      "cell_type": "code",
      "metadata": {
        "id": "s-KQEeiGpMnm",
        "outputId": "fc6da557-34de-4792-a2d8-d982f3110ec8",
        "colab": {
          "base_uri": "https://localhost:8080/",
          "height": 225
        }
      },
      "source": [
        "# 2. 1번에서 생성한 테이블을 가지고 매핑된 장르 개수 별 곡 수 count 테이블 생성 : genre_count_song_count \n",
        "genre_count_song_count = song_genre_count.groupby('mapping_gnr_cnt').song_id.nunique().reset_index(name = '매핑된 곡 수')\n",
        "genre_count_song_count\n",
        "# 그룹바이를 한 기준이 인덱스 이름이 되는 것이고, 그룹함수를 적용한 컬럼의 이름은 그대로 시리즈의 이름이다.\n",
        "# reset_index를 하면 새로운 인덱스를 넣고, 원래 시리즈의 이름(컬럼이름)을 name매개변수를 이용해 바꿀 수 있다. "
      ],
      "execution_count": null,
      "outputs": [
        {
          "output_type": "execute_result",
          "data": {
            "text/html": [
              "<div>\n",
              "<style scoped>\n",
              "    .dataframe tbody tr th:only-of-type {\n",
              "        vertical-align: middle;\n",
              "    }\n",
              "\n",
              "    .dataframe tbody tr th {\n",
              "        vertical-align: top;\n",
              "    }\n",
              "\n",
              "    .dataframe thead th {\n",
              "        text-align: right;\n",
              "    }\n",
              "</style>\n",
              "<table border=\"1\" class=\"dataframe\">\n",
              "  <thead>\n",
              "    <tr style=\"text-align: right;\">\n",
              "      <th></th>\n",
              "      <th>mapping_gnr_cnt</th>\n",
              "      <th>매핑된 곡 수</th>\n",
              "    </tr>\n",
              "  </thead>\n",
              "  <tbody>\n",
              "    <tr>\n",
              "      <th>0</th>\n",
              "      <td>1</td>\n",
              "      <td>612806</td>\n",
              "    </tr>\n",
              "    <tr>\n",
              "      <th>1</th>\n",
              "      <td>2</td>\n",
              "      <td>92378</td>\n",
              "    </tr>\n",
              "    <tr>\n",
              "      <th>2</th>\n",
              "      <td>3</td>\n",
              "      <td>1694</td>\n",
              "    </tr>\n",
              "    <tr>\n",
              "      <th>3</th>\n",
              "      <td>4</td>\n",
              "      <td>48</td>\n",
              "    </tr>\n",
              "    <tr>\n",
              "      <th>4</th>\n",
              "      <td>5</td>\n",
              "      <td>1</td>\n",
              "    </tr>\n",
              "    <tr>\n",
              "      <th>5</th>\n",
              "      <td>6</td>\n",
              "      <td>3</td>\n",
              "    </tr>\n",
              "  </tbody>\n",
              "</table>\n",
              "</div>"
            ],
            "text/plain": [
              "   mapping_gnr_cnt  매핑된 곡 수\n",
              "0                1   612806\n",
              "1                2    92378\n",
              "2                3     1694\n",
              "3                4       48\n",
              "4                5        1\n",
              "5                6        3"
            ]
          },
          "metadata": {
            "tags": []
          },
          "execution_count": 33
        }
      ]
    },
    {
      "cell_type": "code",
      "metadata": {
        "id": "v1b5zu10wD4-"
      },
      "source": [
        "# count = genre_count_song_count.loc[:, \"매핑된 곡 수\"].tolist()\n",
        "# labels = genre_count_song_count.loc[:,\"mapping_gnr_cnt\"].tolist()\n",
        "\n",
        "# plt.pie(count, labels=labels, autopct=\"%.1f%%\")\n",
        "# plt.show()\n"
      ],
      "execution_count": null,
      "outputs": []
    },
    {
      "cell_type": "code",
      "metadata": {
        "id": "jYjtIX3_pNMG",
        "outputId": "928ffe08-34b4-4486-a844-80a37ca67730",
        "colab": {
          "base_uri": "https://localhost:8080/",
          "height": 225
        }
      },
      "source": [
        "# 3. 2번 테이블에 비율 컬럼 추가(그 매핑장르수에 해당하는 곡의 수/전체 곡수)\n",
        "# loc를 이용해서 컬럼을 추가할 수도 있다. \n",
        "genre_count_song_count.loc[:, '비율(%)'] = round(genre_count_song_count ['매핑된 곡 수']/sum(genre_count_song_count['매핑된 곡 수'])*100, 5)\n",
        "\n",
        "# 인덱스를 새롭게 내면서 mapping_gnr_cnt 컬럼의 이름 변경\n",
        "genre_count_song_count = genre_count_song_count .reset_index().rename(columns = {'mapping_gnr_cnt' : '장르 수'}) \n",
        "genre_count_song_count[['장르 수', '매핑된 곡 수', '비율(%)']]\n"
      ],
      "execution_count": null,
      "outputs": [
        {
          "output_type": "execute_result",
          "data": {
            "text/html": [
              "<div>\n",
              "<style scoped>\n",
              "    .dataframe tbody tr th:only-of-type {\n",
              "        vertical-align: middle;\n",
              "    }\n",
              "\n",
              "    .dataframe tbody tr th {\n",
              "        vertical-align: top;\n",
              "    }\n",
              "\n",
              "    .dataframe thead th {\n",
              "        text-align: right;\n",
              "    }\n",
              "</style>\n",
              "<table border=\"1\" class=\"dataframe\">\n",
              "  <thead>\n",
              "    <tr style=\"text-align: right;\">\n",
              "      <th></th>\n",
              "      <th>장르 수</th>\n",
              "      <th>매핑된 곡 수</th>\n",
              "      <th>비율(%)</th>\n",
              "    </tr>\n",
              "  </thead>\n",
              "  <tbody>\n",
              "    <tr>\n",
              "      <th>0</th>\n",
              "      <td>1</td>\n",
              "      <td>612806</td>\n",
              "      <td>86.68553</td>\n",
              "    </tr>\n",
              "    <tr>\n",
              "      <th>1</th>\n",
              "      <td>2</td>\n",
              "      <td>92378</td>\n",
              "      <td>13.06749</td>\n",
              "    </tr>\n",
              "    <tr>\n",
              "      <th>2</th>\n",
              "      <td>3</td>\n",
              "      <td>1694</td>\n",
              "      <td>0.23963</td>\n",
              "    </tr>\n",
              "    <tr>\n",
              "      <th>3</th>\n",
              "      <td>4</td>\n",
              "      <td>48</td>\n",
              "      <td>0.00679</td>\n",
              "    </tr>\n",
              "    <tr>\n",
              "      <th>4</th>\n",
              "      <td>5</td>\n",
              "      <td>1</td>\n",
              "      <td>0.00014</td>\n",
              "    </tr>\n",
              "    <tr>\n",
              "      <th>5</th>\n",
              "      <td>6</td>\n",
              "      <td>3</td>\n",
              "      <td>0.00042</td>\n",
              "    </tr>\n",
              "  </tbody>\n",
              "</table>\n",
              "</div>"
            ],
            "text/plain": [
              "   장르 수  매핑된 곡 수     비율(%)\n",
              "0     1   612806  86.68553\n",
              "1     2    92378  13.06749\n",
              "2     3     1694   0.23963\n",
              "3     4       48   0.00679\n",
              "4     5        1   0.00014\n",
              "5     6        3   0.00042"
            ]
          },
          "metadata": {
            "tags": []
          },
          "execution_count": 35
        }
      ]
    },
    {
      "cell_type": "code",
      "metadata": {
        "id": "v0c855kW2qxr",
        "outputId": "a6523269-bbd4-4f70-90c1-73e08b67655a",
        "colab": {
          "base_uri": "https://localhost:8080/",
          "height": 284
        }
      },
      "source": [
        "count = genre_count_song_count.loc[:, \"매핑된 곡 수\"].tolist()\n",
        "labels = genre_count_song_count.loc[:,\"장르 수\"].tolist()\n",
        "\n",
        "plt.bar(sorted(labels), count,width= 0.9)"
      ],
      "execution_count": null,
      "outputs": [
        {
          "output_type": "execute_result",
          "data": {
            "text/plain": [
              "<BarContainer object of 6 artists>"
            ]
          },
          "metadata": {
            "tags": []
          },
          "execution_count": 36
        },
        {
          "output_type": "display_data",
          "data": {
            "image/png": "[encoded data removed]",
            "text/plain": [
              "<Figure size 432x288 with 1 Axes>"
            ]
          },
          "metadata": {
            "tags": [],
            "image/png": {
              "width": 391,
              "height": 249
            },
            "needs_background": "light"
          }
        }
      ]
    },
    {
      "cell_type": "code",
      "metadata": {
        "id": "3h8nd3I80MUQ",
        "outputId": "88c5cc17-26a4-4a09-dfcb-5e125db35bff",
        "colab": {
          "base_uri": "https://localhost:8080/",
          "height": 251
        }
      },
      "source": [
        "import matplotlib.pyplot as plotter\n",
        "genre_num = genre_count_song_count.loc[:2,\"장르 수\"].tolist()\n",
        "persent = genre_count_song_count.loc[:2,'비율(%)'].tolist()\n",
        "\n",
        "\n",
        "figureObject, axesObject = plotter.subplots ()\n",
        "\n",
        "\n",
        "explodeTuple = (0.1, 0.1, 0.8) \n",
        "# 원형 차트 그리기\n",
        "\n",
        "axesObject.pie (persent, explode = explodeTuple,\n",
        "                labels = genre_num,\n",
        "                autopct = '% 1.2f',\n",
        "                startangle = 90)\n",
        "\n",
        "axesObject.axis('equal')\n",
        "plotter.show()\n",
        "\n"
      ],
      "execution_count": null,
      "outputs": [
        {
          "output_type": "display_data",
          "data": {
            "image/png": "[encoded data removed]",
            "text/plain": [
              "<Figure size 432x288 with 1 Axes>"
            ]
          },
          "metadata": {
            "tags": [],
            "image/png": {
              "width": 349,
              "height": 234
            }
          }
        }
      ]
    },
    {
      "cell_type": "code",
      "metadata": {
        "id": "Ecui4mVkOrUG",
        "outputId": "db8dd192-4852-4bc3-8354-646ebddfde3f",
        "colab": {
          "base_uri": "https://localhost:8080/",
          "height": 264
        }
      },
      "source": [
        "low_genre_num = genre_count_song_count.loc[3:5,\"장르 수\"].tolist()\n",
        "low_genre_count = genre_count_song_count.loc[3:5,\"매핑된 곡 수\"].tolist()\n",
        "title= \"하위 3\"\n",
        "plt.title(title)\n",
        "plt.pie(low_genre_count, labels=low_genre_num, autopct=\"%0.1f%%\",colors=['gold','yellowgreen', 'lightskyblue'])\n",
        "plt.show()"
      ],
      "execution_count": null,
      "outputs": [
        {
          "output_type": "display_data",
          "data": {
            "image/png": "[encoded data removed]",
            "text/plain": [
              "<Figure size 432x288 with 1 Axes>"
            ]
          },
          "metadata": {
            "tags": [],
            "image/png": {
              "width": 231,
              "height": 247
            }
          }
        }
      ]
    },
    {
      "cell_type": "markdown",
      "metadata": {
        "id": "SB2XVABox-vB"
      },
      "source": [
        "- **대부분의 곡들은 한 개의 대분류 장르와 매핑**되어 있습니다.\n",
        "- 전체 곡의 약 13%는 2개 이상의 대분류 장르를 가지며 아래 임의 예시입니다."
      ]
    },
    {
      "cell_type": "code",
      "metadata": {
        "id": "rfPsZza2Qwva",
        "outputId": "44066400-4f5c-4061-f842-20d7f6f9066e",
        "colab": {
          "base_uri": "https://localhost:8080/",
          "height": 212
        }
      },
      "source": [
        "print(\"2개 이상의 대분류 장르를 가지는 곡의 비율 : \",genre_count_song_count[genre_count_song_count['장르 수'] >=2]['비율(%)'].sum())\n",
        "song[song['곡 ID'] == 456506] "
      ],
      "execution_count": null,
      "outputs": [
        {
          "output_type": "stream",
          "text": [
            "2개 이상의 대분류 장르를 가지는 곡의 비율 :  13.31447\n"
          ],
          "name": "stdout"
        },
        {
          "output_type": "execute_result",
          "data": {
            "text/html": [
              "<div>\n",
              "<style scoped>\n",
              "    .dataframe tbody tr th:only-of-type {\n",
              "        vertical-align: middle;\n",
              "    }\n",
              "\n",
              "    .dataframe tbody tr th {\n",
              "        vertical-align: top;\n",
              "    }\n",
              "\n",
              "    .dataframe thead th {\n",
              "        text-align: right;\n",
              "    }\n",
              "</style>\n",
              "<table border=\"1\" class=\"dataframe\">\n",
              "  <thead>\n",
              "    <tr style=\"text-align: right;\">\n",
              "      <th></th>\n",
              "      <th>곡 세부 장르 리스트</th>\n",
              "      <th>발매일</th>\n",
              "      <th>앨범 명</th>\n",
              "      <th>앨범 ID</th>\n",
              "      <th>아티스트 ID 리스트</th>\n",
              "      <th>곡 제목</th>\n",
              "      <th>곡 장르 리스트</th>\n",
              "      <th>아티스트 리스트</th>\n",
              "      <th>곡 ID</th>\n",
              "    </tr>\n",
              "  </thead>\n",
              "  <tbody>\n",
              "    <tr>\n",
              "      <th>456506</th>\n",
              "      <td>[GN0403, GN0101, GN1501, GN1504]</td>\n",
              "      <td>20060731</td>\n",
              "      <td>오버 더 레인보우 OST</td>\n",
              "      <td>321962</td>\n",
              "      <td>[1928]</td>\n",
              "      <td>그리운 건 어쩔 수 없어</td>\n",
              "      <td>[GN0400, GN1500, GN0100]</td>\n",
              "      <td>[환희]</td>\n",
              "      <td>456506</td>\n",
              "    </tr>\n",
              "  </tbody>\n",
              "</table>\n",
              "</div>"
            ],
            "text/plain": [
              "                             곡 세부 장르 리스트       발매일  ... 아티스트 리스트    곡 ID\n",
              "456506  [GN0403, GN0101, GN1501, GN1504]  20060731  ...     [환희]  456506\n",
              "\n",
              "[1 rows x 9 columns]"
            ]
          },
          "metadata": {
            "tags": []
          },
          "execution_count": 39
        }
      ]
    },
    {
      "cell_type": "markdown",
      "metadata": {
        "id": "HoT9k4wWyEb5"
      },
      "source": [
        "<br>"
      ]
    },
    {
      "cell_type": "markdown",
      "metadata": {
        "id": "FyRBaz3FYya8"
      },
      "source": [
        "### 가장 많이 매핑 되는 장르"
      ]
    },
    {
      "cell_type": "code",
      "metadata": {
        "id": "VAKk8Ly5Q7u6",
        "outputId": "c6298f41-ef86-4224-f442-192e2cc859ce",
        "colab": {
          "base_uri": "https://localhost:8080/",
          "height": 906
        }
      },
      "source": [
        "# 장르별 - 매핑 곡수 테이블 만들기\n",
        "\n",
        "# 1. 장르 별 곡 수 count 테이블 생성 : genre_count\n",
        "genre_count = song_genre.groupby('gnr_code').song_id.nunique().reset_index(name = 'song_cnt')\n",
        "genre_count.rename(columns= {\"gnr_code\" : \"장르코드\"}, inplace= True)\n",
        "\n",
        "# 2. 1번 테이블(장르코드별 매칭 곡수)과 대분류장르 테이블(장르코드-장르이름)을 장르코드를 공통컬럼으로 join \n",
        "# -> 장르이름별 그 장르를 가지는 곡들의 개수가 나온다. \n",
        "genre_count = pd.merge(genre_count, big_genre.loc[:, ['장르코드', '장르명']], how = 'left', on = '장르코드')\n",
        "\n",
        "# 대분류장르id(장르이름)으로 새로운 파생컬럼을 만든다. \n",
        "genre_count['gnr_code_name'] = genre_count['장르코드'] + ' (' + genre_count['장르명'] + ')'\n",
        "# genre_count\n",
        "\n",
        "\n",
        "# 3. 대분류장르id(장르이름) 파생컬럼과 장르매핑곡수 컬럼만 남기고\n",
        "# 장르매핑이 되지 않은 일부 곡들은 제거 - 장르 이름이 NaN인 것을 제거 \n",
        "genre_count = genre_count[['gnr_code_name', 'song_cnt']].dropna()\n",
        "genre_count"
      ],
      "execution_count": null,
      "outputs": [
        {
          "output_type": "execute_result",
          "data": {
            "text/html": [
              "<div>\n",
              "<style scoped>\n",
              "    .dataframe tbody tr th:only-of-type {\n",
              "        vertical-align: middle;\n",
              "    }\n",
              "\n",
              "    .dataframe tbody tr th {\n",
              "        vertical-align: top;\n",
              "    }\n",
              "\n",
              "    .dataframe thead th {\n",
              "        text-align: right;\n",
              "    }\n",
              "</style>\n",
              "<table border=\"1\" class=\"dataframe\">\n",
              "  <thead>\n",
              "    <tr style=\"text-align: right;\">\n",
              "      <th></th>\n",
              "      <th>gnr_code_name</th>\n",
              "      <th>song_cnt</th>\n",
              "    </tr>\n",
              "  </thead>\n",
              "  <tbody>\n",
              "    <tr>\n",
              "      <th>0</th>\n",
              "      <td>GN0100 (발라드)</td>\n",
              "      <td>56820</td>\n",
              "    </tr>\n",
              "    <tr>\n",
              "      <th>1</th>\n",
              "      <td>GN0200 (댄스)</td>\n",
              "      <td>19017</td>\n",
              "    </tr>\n",
              "    <tr>\n",
              "      <th>2</th>\n",
              "      <td>GN0300 (랩/힙합)</td>\n",
              "      <td>27784</td>\n",
              "    </tr>\n",
              "    <tr>\n",
              "      <th>3</th>\n",
              "      <td>GN0400 (R&amp;B/Soul)</td>\n",
              "      <td>14476</td>\n",
              "    </tr>\n",
              "    <tr>\n",
              "      <th>4</th>\n",
              "      <td>GN0500 (인디음악)</td>\n",
              "      <td>42468</td>\n",
              "    </tr>\n",
              "    <tr>\n",
              "      <th>5</th>\n",
              "      <td>GN0600 (록/메탈)</td>\n",
              "      <td>29690</td>\n",
              "    </tr>\n",
              "    <tr>\n",
              "      <th>6</th>\n",
              "      <td>GN0700 (성인가요)</td>\n",
              "      <td>12673</td>\n",
              "    </tr>\n",
              "    <tr>\n",
              "      <th>7</th>\n",
              "      <td>GN0800 (포크/블루스)</td>\n",
              "      <td>15203</td>\n",
              "    </tr>\n",
              "    <tr>\n",
              "      <th>8</th>\n",
              "      <td>GN0900 (POP)</td>\n",
              "      <td>77101</td>\n",
              "    </tr>\n",
              "    <tr>\n",
              "      <th>9</th>\n",
              "      <td>GN1000 (록/메탈)</td>\n",
              "      <td>63926</td>\n",
              "    </tr>\n",
              "    <tr>\n",
              "      <th>10</th>\n",
              "      <td>GN1100 (일렉트로니카)</td>\n",
              "      <td>60144</td>\n",
              "    </tr>\n",
              "    <tr>\n",
              "      <th>11</th>\n",
              "      <td>GN1200 (랩/힙합)</td>\n",
              "      <td>35376</td>\n",
              "    </tr>\n",
              "    <tr>\n",
              "      <th>12</th>\n",
              "      <td>GN1300 (R&amp;B/Soul)</td>\n",
              "      <td>32784</td>\n",
              "    </tr>\n",
              "    <tr>\n",
              "      <th>13</th>\n",
              "      <td>GN1400 (포크/블루스/컨트리)</td>\n",
              "      <td>13365</td>\n",
              "    </tr>\n",
              "    <tr>\n",
              "      <th>14</th>\n",
              "      <td>GN1500 (OST)</td>\n",
              "      <td>44272</td>\n",
              "    </tr>\n",
              "    <tr>\n",
              "      <th>15</th>\n",
              "      <td>GN1600 (클래식)</td>\n",
              "      <td>57066</td>\n",
              "    </tr>\n",
              "    <tr>\n",
              "      <th>16</th>\n",
              "      <td>GN1700 (재즈)</td>\n",
              "      <td>48199</td>\n",
              "    </tr>\n",
              "    <tr>\n",
              "      <th>17</th>\n",
              "      <td>GN1800 (뉴에이지)</td>\n",
              "      <td>42515</td>\n",
              "    </tr>\n",
              "    <tr>\n",
              "      <th>18</th>\n",
              "      <td>GN1900 (J-POP)</td>\n",
              "      <td>21413</td>\n",
              "    </tr>\n",
              "    <tr>\n",
              "      <th>19</th>\n",
              "      <td>GN2000 (월드뮤직)</td>\n",
              "      <td>13218</td>\n",
              "    </tr>\n",
              "    <tr>\n",
              "      <th>20</th>\n",
              "      <td>GN2100 (CCM)</td>\n",
              "      <td>20002</td>\n",
              "    </tr>\n",
              "    <tr>\n",
              "      <th>21</th>\n",
              "      <td>GN2200 (어린이/태교)</td>\n",
              "      <td>16706</td>\n",
              "    </tr>\n",
              "    <tr>\n",
              "      <th>22</th>\n",
              "      <td>GN2300 (종교음악)</td>\n",
              "      <td>1137</td>\n",
              "    </tr>\n",
              "    <tr>\n",
              "      <th>23</th>\n",
              "      <td>GN2400 (국악)</td>\n",
              "      <td>2228</td>\n",
              "    </tr>\n",
              "    <tr>\n",
              "      <th>24</th>\n",
              "      <td>GN2500 (아이돌)</td>\n",
              "      <td>12066</td>\n",
              "    </tr>\n",
              "    <tr>\n",
              "      <th>25</th>\n",
              "      <td>GN2600 (일렉트로니카)</td>\n",
              "      <td>6400</td>\n",
              "    </tr>\n",
              "    <tr>\n",
              "      <th>26</th>\n",
              "      <td>GN2700 (EDM)</td>\n",
              "      <td>11440</td>\n",
              "    </tr>\n",
              "    <tr>\n",
              "      <th>27</th>\n",
              "      <td>GN2800 (뮤직테라피)</td>\n",
              "      <td>1783</td>\n",
              "    </tr>\n",
              "    <tr>\n",
              "      <th>28</th>\n",
              "      <td>GN2900 (뮤지컬)</td>\n",
              "      <td>1753</td>\n",
              "    </tr>\n",
              "  </tbody>\n",
              "</table>\n",
              "</div>"
            ],
            "text/plain": [
              "          gnr_code_name  song_cnt\n",
              "0          GN0100 (발라드)     56820\n",
              "1           GN0200 (댄스)     19017\n",
              "2         GN0300 (랩/힙합)     27784\n",
              "3     GN0400 (R&B/Soul)     14476\n",
              "4         GN0500 (인디음악)     42468\n",
              "5         GN0600 (록/메탈)     29690\n",
              "6         GN0700 (성인가요)     12673\n",
              "7       GN0800 (포크/블루스)     15203\n",
              "8          GN0900 (POP)     77101\n",
              "9         GN1000 (록/메탈)     63926\n",
              "10      GN1100 (일렉트로니카)     60144\n",
              "11        GN1200 (랩/힙합)     35376\n",
              "12    GN1300 (R&B/Soul)     32784\n",
              "13  GN1400 (포크/블루스/컨트리)     13365\n",
              "14         GN1500 (OST)     44272\n",
              "15         GN1600 (클래식)     57066\n",
              "16          GN1700 (재즈)     48199\n",
              "17        GN1800 (뉴에이지)     42515\n",
              "18       GN1900 (J-POP)     21413\n",
              "19        GN2000 (월드뮤직)     13218\n",
              "20         GN2100 (CCM)     20002\n",
              "21      GN2200 (어린이/태교)     16706\n",
              "22        GN2300 (종교음악)      1137\n",
              "23          GN2400 (국악)      2228\n",
              "24         GN2500 (아이돌)     12066\n",
              "25      GN2600 (일렉트로니카)      6400\n",
              "26         GN2700 (EDM)     11440\n",
              "27       GN2800 (뮤직테라피)      1783\n",
              "28         GN2900 (뮤지컬)      1753"
            ]
          },
          "metadata": {
            "tags": []
          },
          "execution_count": 40
        }
      ]
    },
    {
      "cell_type": "code",
      "metadata": {
        "id": "UblgyRGgpsBO",
        "outputId": "67f8e9e2-f733-4410-d89b-86ffe4e52490",
        "colab": {
          "base_uri": "https://localhost:8080/",
          "height": 415
        }
      },
      "source": [
        "# 4. 많은 곡이 매핑된 순 기준으로 내림차순 시리즈 생성\n",
        "gnr_list_desc = genre_count.sort_values('song_cnt', ascending = False).gnr_code_name\n",
        "\n",
        "# 5. genre_count테이블로 barplot그리기\n",
        "gnr_code_name_plot = sns.barplot(x = 'gnr_code_name', y = 'song_cnt', data = genre_count, order = gnr_list_desc)\n",
        "\n",
        "# 순서(order)로 gnr_list_desc 시리즈를 지정해줌\n",
        "gnr_code_name_plot.set_title('장르 별 매핑된 곡 수 분포')\n",
        "gnr_code_name_plot.set_xlabel('대분류 장르코드')\n",
        "gnr_code_name_plot.set_ylabel('곡 수')\n",
        "plt.xticks(rotation = 90)# x축 눈금 이름들을 90도 기울임\n",
        "plt.show()"
      ],
      "execution_count": null,
      "outputs": [
        {
          "output_type": "display_data",
          "data": {
            "image/png": "[encoded data removed]",
            "text/plain": [
              "<Figure size 432x288 with 1 Axes>"
            ]
          },
          "metadata": {
            "tags": [],
            "image/png": {
              "width": 400,
              "height": 398
            },
            "needs_background": "light"
          }
        }
      ]
    },
    {
      "cell_type": "markdown",
      "metadata": {
        "id": "hwuxfaXIp8SA"
      },
      "source": [
        "- **POP 장르(`GN0900`)의 곡 비중이 가장 높았고**, 국악, 뮤지컬, 뮤직테라피, 종교음악 등의 장르 비중은 1% 미만의 비중을 보입니다.\n",
        "- 아이돌 아티스트 관련 장르인 아이돌 장르(`GN2500`)와 댄스 장르(`GN0200`) 비중도 비교적 낮게 나타나는 점이 보입니다.\n"
      ]
    },
    {
      "cell_type": "markdown",
      "metadata": {
        "id": "MfxAkLcPRNid"
      },
      "source": [
        "## 3. 학습 데이터 : `train.json`\n",
        "\n",
        "*   데이터 불러오기\n",
        "*   플레이리스트 별 곡/태그/장르 수 분포는?\n",
        "*   곡/태그/플레이리스트명 중복 비율은?\n",
        "*   많은 빈도를 보이는 태그는?\n",
        "*   플레이리스트 태그 별 어떤 곡들이 수록되었나?\n",
        "\n"
      ]
    },
    {
      "cell_type": "markdown",
      "metadata": {
        "id": "4pPeg31NSAJg"
      },
      "source": [
        "### 데이터 불러오기"
      ]
    },
    {
      "cell_type": "code",
      "metadata": {
        "id": "WB_jfS5iSCDD"
      },
      "source": [
        "train = pd.read_json('/content/drive/My Drive/Colab Notebooks/Data/train.json', typ = 'frame')"
      ],
      "execution_count": null,
      "outputs": []
    },
    {
      "cell_type": "code",
      "metadata": {
        "id": "ea5XfbicQ9y1",
        "outputId": "637688d8-8dca-4794-e5fe-8ff4376b8140",
        "colab": {
          "base_uri": "https://localhost:8080/"
        }
      },
      "source": [
        "train.info()"
      ],
      "execution_count": null,
      "outputs": [
        {
          "output_type": "stream",
          "text": [
            "<class 'pandas.core.frame.DataFrame'>\n",
            "RangeIndex: 115071 entries, 0 to 115070\n",
            "Data columns (total 6 columns):\n",
            " #   Column        Non-Null Count   Dtype \n",
            "---  ------        --------------   ----- \n",
            " 0   tags          115071 non-null  object\n",
            " 1   id            115071 non-null  int64 \n",
            " 2   plylst_title  115071 non-null  object\n",
            " 3   songs         115071 non-null  object\n",
            " 4   like_cnt      115071 non-null  int64 \n",
            " 5   updt_date     115071 non-null  object\n",
            "dtypes: int64(2), object(4)\n",
            "memory usage: 5.3+ MB\n"
          ],
          "name": "stdout"
        }
      ]
    },
    {
      "cell_type": "markdown",
      "metadata": {
        "id": "l_EQWVNgygBh"
      },
      "source": [
        "- 학습 데이터에는 **총 115,071개 플레이리스트 정보가 담겨져 있으며** 포함하는 값은 아래와 같습니다.\n",
        "  + `tags` : 플레이리스트에 매핑된 태그\n",
        "  + `id` : 플레이리스트 아이디\n",
        "  + `plylst_title` : 플레이리스트 명\n",
        "  + `songs` : 플레이리스트 내 수록된 곡 아이디\n",
        "  + `like_cnt` : 플레이리스트 좋아요 횟수\n",
        "  + `updt_date` : 플레이리스트 업데이트 일시"
      ]
    },
    {
      "cell_type": "code",
      "metadata": {
        "id": "QkMws94aSDDe",
        "outputId": "7d2871fb-2e9c-49c4-bad7-b32cc98ebca6",
        "colab": {
          "base_uri": "https://localhost:8080/",
          "height": 1000
        }
      },
      "source": [
        "train"
      ],
      "execution_count": null,
      "outputs": [
        {
          "output_type": "execute_result",
          "data": {
            "text/html": [
              "<div>\n",
              "<style scoped>\n",
              "    .dataframe tbody tr th:only-of-type {\n",
              "        vertical-align: middle;\n",
              "    }\n",
              "\n",
              "    .dataframe tbody tr th {\n",
              "        vertical-align: top;\n",
              "    }\n",
              "\n",
              "    .dataframe thead th {\n",
              "        text-align: right;\n",
              "    }\n",
              "</style>\n",
              "<table border=\"1\" class=\"dataframe\">\n",
              "  <thead>\n",
              "    <tr style=\"text-align: right;\">\n",
              "      <th></th>\n",
              "      <th>tags</th>\n",
              "      <th>id</th>\n",
              "      <th>plylst_title</th>\n",
              "      <th>songs</th>\n",
              "      <th>like_cnt</th>\n",
              "      <th>updt_date</th>\n",
              "    </tr>\n",
              "  </thead>\n",
              "  <tbody>\n",
              "    <tr>\n",
              "      <th>0</th>\n",
              "      <td>[락]</td>\n",
              "      <td>61281</td>\n",
              "      <td>여행같은 음악</td>\n",
              "      <td>[525514, 129701, 383374, 562083, 297861, 13954...</td>\n",
              "      <td>71</td>\n",
              "      <td>2013-12-19 18:36:19.000</td>\n",
              "    </tr>\n",
              "    <tr>\n",
              "      <th>1</th>\n",
              "      <td>[추억, 회상]</td>\n",
              "      <td>10532</td>\n",
              "      <td>요즘 너 말야</td>\n",
              "      <td>[432406, 675945, 497066, 120377, 389529, 24427...</td>\n",
              "      <td>1</td>\n",
              "      <td>2014-12-02 16:19:42.000</td>\n",
              "    </tr>\n",
              "    <tr>\n",
              "      <th>2</th>\n",
              "      <td>[까페, 잔잔한]</td>\n",
              "      <td>76951</td>\n",
              "      <td>편하게, 잔잔하게 들을 수 있는 곡.-</td>\n",
              "      <td>[83116, 276692, 166267, 186301, 354465, 256598...</td>\n",
              "      <td>17</td>\n",
              "      <td>2017-08-28 07:09:34.000</td>\n",
              "    </tr>\n",
              "    <tr>\n",
              "      <th>3</th>\n",
              "      <td>[연말, 눈오는날, 캐럴, 분위기, 따듯한, 크리스마스캐럴, 겨울노래, 크리스마스,...</td>\n",
              "      <td>147456</td>\n",
              "      <td>크리스마스 분위기에 흠뻑 취하고 싶을때</td>\n",
              "      <td>[394031, 195524, 540149, 287984, 440773, 10033...</td>\n",
              "      <td>33</td>\n",
              "      <td>2019-12-05 15:15:18.000</td>\n",
              "    </tr>\n",
              "    <tr>\n",
              "      <th>4</th>\n",
              "      <td>[댄스]</td>\n",
              "      <td>27616</td>\n",
              "      <td>추억의 노래 ㅋ</td>\n",
              "      <td>[159327, 553610, 5130, 645103, 294435, 100657,...</td>\n",
              "      <td>9</td>\n",
              "      <td>2011-10-25 13:54:56.000</td>\n",
              "    </tr>\n",
              "    <tr>\n",
              "      <th>...</th>\n",
              "      <td>...</td>\n",
              "      <td>...</td>\n",
              "      <td>...</td>\n",
              "      <td>...</td>\n",
              "      <td>...</td>\n",
              "      <td>...</td>\n",
              "    </tr>\n",
              "    <tr>\n",
              "      <th>115066</th>\n",
              "      <td>[록메탈, 밴드사운드, 록, 락메탈, 메탈, 락, extreme]</td>\n",
              "      <td>120325</td>\n",
              "      <td>METAL E'SM #2</td>\n",
              "      <td>[429629, 441511, 612106, 516359, 691768, 38714...</td>\n",
              "      <td>3</td>\n",
              "      <td>2020-04-17 04:31:11.000</td>\n",
              "    </tr>\n",
              "    <tr>\n",
              "      <th>115067</th>\n",
              "      <td>[일렉]</td>\n",
              "      <td>106976</td>\n",
              "      <td>빠른 리스너를 위한 따끈따끈한 최신 인기 EDM 모음!</td>\n",
              "      <td>[321330, 216057, 534472, 240306, 331098, 23288...</td>\n",
              "      <td>13</td>\n",
              "      <td>2015-12-24 17:23:19.000</td>\n",
              "    </tr>\n",
              "    <tr>\n",
              "      <th>115068</th>\n",
              "      <td>[담시, 가족, 눈물, 그리움, 주인공, 나의_이야기, 사랑, 친구]</td>\n",
              "      <td>11343</td>\n",
              "      <td>#1. 눈물이 앞을 가리는 나의_이야기</td>\n",
              "      <td>[50512, 249024, 250608, 371171, 229942, 694943...</td>\n",
              "      <td>4</td>\n",
              "      <td>2019-08-16 20:59:22.000</td>\n",
              "    </tr>\n",
              "    <tr>\n",
              "      <th>115069</th>\n",
              "      <td>[잔잔한, 버스, 퇴근버스, Pop, 풍경, 퇴근길]</td>\n",
              "      <td>131982</td>\n",
              "      <td>퇴근 버스에서 편히 들으면서 하루를 마무리하기에 좋은 POP</td>\n",
              "      <td>[533534, 608114, 343608, 417140, 609009, 30217...</td>\n",
              "      <td>4</td>\n",
              "      <td>2019-10-25 23:40:42.000</td>\n",
              "    </tr>\n",
              "    <tr>\n",
              "      <th>115070</th>\n",
              "      <td>[노래추천, 팝송추천, 팝송, 팝송모음]</td>\n",
              "      <td>100389</td>\n",
              "      <td>FAVORITE POPSONG!!!</td>\n",
              "      <td>[26008, 456354, 324105, 89871, 135272, 143548,...</td>\n",
              "      <td>17</td>\n",
              "      <td>2020-04-18 20:35:06.000</td>\n",
              "    </tr>\n",
              "  </tbody>\n",
              "</table>\n",
              "<p>115071 rows × 6 columns</p>\n",
              "</div>"
            ],
            "text/plain": [
              "                                                     tags  ...                updt_date\n",
              "0                                                     [락]  ...  2013-12-19 18:36:19.000\n",
              "1                                                [추억, 회상]  ...  2014-12-02 16:19:42.000\n",
              "2                                               [까페, 잔잔한]  ...  2017-08-28 07:09:34.000\n",
              "3       [연말, 눈오는날, 캐럴, 분위기, 따듯한, 크리스마스캐럴, 겨울노래, 크리스마스,...  ...  2019-12-05 15:15:18.000\n",
              "4                                                    [댄스]  ...  2011-10-25 13:54:56.000\n",
              "...                                                   ...  ...                      ...\n",
              "115066               [록메탈, 밴드사운드, 록, 락메탈, 메탈, 락, extreme]  ...  2020-04-17 04:31:11.000\n",
              "115067                                               [일렉]  ...  2015-12-24 17:23:19.000\n",
              "115068             [담시, 가족, 눈물, 그리움, 주인공, 나의_이야기, 사랑, 친구]  ...  2019-08-16 20:59:22.000\n",
              "115069                      [잔잔한, 버스, 퇴근버스, Pop, 풍경, 퇴근길]  ...  2019-10-25 23:40:42.000\n",
              "115070                             [노래추천, 팝송추천, 팝송, 팝송모음]  ...  2020-04-18 20:35:06.000\n",
              "\n",
              "[115071 rows x 6 columns]"
            ]
          },
          "metadata": {
            "tags": []
          },
          "execution_count": 44
        }
      ]
    },
    {
      "cell_type": "code",
      "metadata": {
        "id": "CWjMVO4YHIcX",
        "outputId": "56011466-b810-4c33-88da-254472924516",
        "colab": {
          "base_uri": "https://localhost:8080/",
          "height": 430
        }
      },
      "source": [
        "train.rename(columns={'tags' : '태그 리스트','id' : '플레이리스트 ID', 'plylst_title' : '플레이리스트 제목', 'songs' : '곡 리스트', 'like_cnt' : '좋아요 개수', 'updt_date' : '수정 날' }, inplace=True)\n",
        "train.head()"
      ],
      "execution_count": null,
      "outputs": [
        {
          "output_type": "execute_result",
          "data": {
            "text/html": [
              "<div>\n",
              "<style scoped>\n",
              "    .dataframe tbody tr th:only-of-type {\n",
              "        vertical-align: middle;\n",
              "    }\n",
              "\n",
              "    .dataframe tbody tr th {\n",
              "        vertical-align: top;\n",
              "    }\n",
              "\n",
              "    .dataframe thead th {\n",
              "        text-align: right;\n",
              "    }\n",
              "</style>\n",
              "<table border=\"1\" class=\"dataframe\">\n",
              "  <thead>\n",
              "    <tr style=\"text-align: right;\">\n",
              "      <th></th>\n",
              "      <th>태그 리스트</th>\n",
              "      <th>플레이리스트 ID</th>\n",
              "      <th>플레이리스트 제목</th>\n",
              "      <th>곡 리스트</th>\n",
              "      <th>좋아요 개수</th>\n",
              "      <th>수정 날</th>\n",
              "    </tr>\n",
              "  </thead>\n",
              "  <tbody>\n",
              "    <tr>\n",
              "      <th>0</th>\n",
              "      <td>[락]</td>\n",
              "      <td>61281</td>\n",
              "      <td>여행같은 음악</td>\n",
              "      <td>[525514, 129701, 383374, 562083, 297861, 13954...</td>\n",
              "      <td>71</td>\n",
              "      <td>2013-12-19 18:36:19.000</td>\n",
              "    </tr>\n",
              "    <tr>\n",
              "      <th>1</th>\n",
              "      <td>[추억, 회상]</td>\n",
              "      <td>10532</td>\n",
              "      <td>요즘 너 말야</td>\n",
              "      <td>[432406, 675945, 497066, 120377, 389529, 24427...</td>\n",
              "      <td>1</td>\n",
              "      <td>2014-12-02 16:19:42.000</td>\n",
              "    </tr>\n",
              "    <tr>\n",
              "      <th>2</th>\n",
              "      <td>[까페, 잔잔한]</td>\n",
              "      <td>76951</td>\n",
              "      <td>편하게, 잔잔하게 들을 수 있는 곡.-</td>\n",
              "      <td>[83116, 276692, 166267, 186301, 354465, 256598...</td>\n",
              "      <td>17</td>\n",
              "      <td>2017-08-28 07:09:34.000</td>\n",
              "    </tr>\n",
              "    <tr>\n",
              "      <th>3</th>\n",
              "      <td>[연말, 눈오는날, 캐럴, 분위기, 따듯한, 크리스마스캐럴, 겨울노래, 크리스마스,...</td>\n",
              "      <td>147456</td>\n",
              "      <td>크리스마스 분위기에 흠뻑 취하고 싶을때</td>\n",
              "      <td>[394031, 195524, 540149, 287984, 440773, 10033...</td>\n",
              "      <td>33</td>\n",
              "      <td>2019-12-05 15:15:18.000</td>\n",
              "    </tr>\n",
              "    <tr>\n",
              "      <th>4</th>\n",
              "      <td>[댄스]</td>\n",
              "      <td>27616</td>\n",
              "      <td>추억의 노래 ㅋ</td>\n",
              "      <td>[159327, 553610, 5130, 645103, 294435, 100657,...</td>\n",
              "      <td>9</td>\n",
              "      <td>2011-10-25 13:54:56.000</td>\n",
              "    </tr>\n",
              "  </tbody>\n",
              "</table>\n",
              "</div>"
            ],
            "text/plain": [
              "                                              태그 리스트  ...                     수정 날\n",
              "0                                                [락]  ...  2013-12-19 18:36:19.000\n",
              "1                                           [추억, 회상]  ...  2014-12-02 16:19:42.000\n",
              "2                                          [까페, 잔잔한]  ...  2017-08-28 07:09:34.000\n",
              "3  [연말, 눈오는날, 캐럴, 분위기, 따듯한, 크리스마스캐럴, 겨울노래, 크리스마스,...  ...  2019-12-05 15:15:18.000\n",
              "4                                               [댄스]  ...  2011-10-25 13:54:56.000\n",
              "\n",
              "[5 rows x 6 columns]"
            ]
          },
          "metadata": {
            "tags": []
          },
          "execution_count": 45
        }
      ]
    },
    {
      "cell_type": "code",
      "metadata": {
        "id": "KN32Sk7NR9S9"
      },
      "source": [
        "# 플레이리스트 아이디(id)와 수록곡(songs) 추출\n",
        "plylst_song = train[['플레이리스트 ID', '곡 리스트']]\n",
        "\n",
        "# unnest songs\n",
        "# a. 플레이리스트id를 곡의 수(songs컬럼위 요소인 리스트 길이)만큼 반복 -> 플레이리스트id 컬럼(1차원 어레이)\n",
        "# b. songs의 리스트의 곡id를 하나하나 갈라서 한 리스트에 담음 -> 곡id컬럼(1차원 어레이)\n",
        "# a와 b 두 어레이를 세로로 붙인다. -> 3차원 어레이가 된다.\n",
        "plylst_song_unnest = np.dstack(\n",
        "    (\n",
        "        np.repeat(plylst_song['플레이리스트 ID'].values, list(map(len, plylst_song['곡 리스트']))), \n",
        "        np.concatenate(plylst_song['곡 리스트'].values)\n",
        "    )\n",
        ")\n",
        "\n",
        "# plylst_song_unnest어레이를 이용해 unnested 데이터프레임 생성 : plylst_song\n",
        "plylst_song = pd.DataFrame(data = plylst_song_unnest[0], columns = plylst_song.columns)\n",
        "# plylst_song_unnest[0] -> 가장 겉의 어레이를 벗겨서 data 매개변수에 전달\n",
        "plylst_song['플레이리스트 ID'] = plylst_song['플레이리스트 ID'].astype(str) # int타입을 str타입으로 형변환\n",
        "plylst_song['곡 리스트'] = plylst_song['곡 리스트'].astype(str) # int타입을 str타입으로 형변환\n",
        "\n",
        "# unnest 객체 제거\n",
        "del plylst_song_unnest # 어레이는 이제 필요없으니까 삭제 "
      ],
      "execution_count": null,
      "outputs": []
    },
    {
      "cell_type": "code",
      "metadata": {
        "id": "e1LA4Sc9RMC7",
        "outputId": "65ebe981-ccc1-44ba-a503-265aa25aeb8c",
        "colab": {
          "base_uri": "https://localhost:8080/",
          "height": 402
        }
      },
      "source": [
        "plylst_song # (플레이리스트id - 수록곡id 테이블)"
      ],
      "execution_count": null,
      "outputs": [
        {
          "output_type": "execute_result",
          "data": {
            "text/html": [
              "<div>\n",
              "<style scoped>\n",
              "    .dataframe tbody tr th:only-of-type {\n",
              "        vertical-align: middle;\n",
              "    }\n",
              "\n",
              "    .dataframe tbody tr th {\n",
              "        vertical-align: top;\n",
              "    }\n",
              "\n",
              "    .dataframe thead th {\n",
              "        text-align: right;\n",
              "    }\n",
              "</style>\n",
              "<table border=\"1\" class=\"dataframe\">\n",
              "  <thead>\n",
              "    <tr style=\"text-align: right;\">\n",
              "      <th></th>\n",
              "      <th>플레이리스트 ID</th>\n",
              "      <th>곡 리스트</th>\n",
              "    </tr>\n",
              "  </thead>\n",
              "  <tbody>\n",
              "    <tr>\n",
              "      <th>0</th>\n",
              "      <td>61281</td>\n",
              "      <td>525514</td>\n",
              "    </tr>\n",
              "    <tr>\n",
              "      <th>1</th>\n",
              "      <td>61281</td>\n",
              "      <td>129701</td>\n",
              "    </tr>\n",
              "    <tr>\n",
              "      <th>2</th>\n",
              "      <td>61281</td>\n",
              "      <td>383374</td>\n",
              "    </tr>\n",
              "    <tr>\n",
              "      <th>3</th>\n",
              "      <td>61281</td>\n",
              "      <td>562083</td>\n",
              "    </tr>\n",
              "    <tr>\n",
              "      <th>4</th>\n",
              "      <td>61281</td>\n",
              "      <td>297861</td>\n",
              "    </tr>\n",
              "    <tr>\n",
              "      <th>...</th>\n",
              "      <td>...</td>\n",
              "      <td>...</td>\n",
              "    </tr>\n",
              "    <tr>\n",
              "      <th>5285866</th>\n",
              "      <td>100389</td>\n",
              "      <td>111365</td>\n",
              "    </tr>\n",
              "    <tr>\n",
              "      <th>5285867</th>\n",
              "      <td>100389</td>\n",
              "      <td>51373</td>\n",
              "    </tr>\n",
              "    <tr>\n",
              "      <th>5285868</th>\n",
              "      <td>100389</td>\n",
              "      <td>640239</td>\n",
              "    </tr>\n",
              "    <tr>\n",
              "      <th>5285869</th>\n",
              "      <td>100389</td>\n",
              "      <td>13759</td>\n",
              "    </tr>\n",
              "    <tr>\n",
              "      <th>5285870</th>\n",
              "      <td>100389</td>\n",
              "      <td>154078</td>\n",
              "    </tr>\n",
              "  </tbody>\n",
              "</table>\n",
              "<p>5285871 rows × 2 columns</p>\n",
              "</div>"
            ],
            "text/plain": [
              "        플레이리스트 ID   곡 리스트\n",
              "0           61281  525514\n",
              "1           61281  129701\n",
              "2           61281  383374\n",
              "3           61281  562083\n",
              "4           61281  297861\n",
              "...           ...     ...\n",
              "5285866    100389  111365\n",
              "5285867    100389   51373\n",
              "5285868    100389  640239\n",
              "5285869    100389   13759\n",
              "5285870    100389  154078\n",
              "\n",
              "[5285871 rows x 2 columns]"
            ]
          },
          "metadata": {
            "tags": []
          },
          "execution_count": 47
        }
      ]
    },
    {
      "cell_type": "code",
      "metadata": {
        "id": "8xNhenKYS0uj"
      },
      "source": [
        "# 플레이리스트 아이디(id)와 매핑된 태그(tags) 추출\n",
        "plylst_tag = train[['플레이리스트 ID', '태그 리스트']]\n",
        "\n",
        "# unnest tags\n",
        "plylst_tag_unnest = np.dstack(\n",
        "    (\n",
        "        np.repeat(plylst_tag['플레이리스트 ID'].values, list(map(len, plylst_tag['태그 리스트']))), \n",
        "        np.concatenate(plylst_tag['태그 리스트'].values)\n",
        "    )\n",
        ")\n",
        "\n",
        "# unnested 데이터프레임 생성 : plylst_tag_map\n",
        "plylst_tag= pd.DataFrame(data = plylst_tag_unnest[0], columns = plylst_tag.columns)\n",
        "plylst_tag['id'] = plylst_tag['플레이리스트 ID'].astype(str)\n",
        "\n",
        "# unnest 객체 제거\n",
        "del plylst_tag_unnest"
      ],
      "execution_count": null,
      "outputs": []
    },
    {
      "cell_type": "code",
      "metadata": {
        "id": "6pIr-2FES2cj",
        "outputId": "28e54d83-42ff-4da8-d40e-5e426fc07eae",
        "colab": {
          "base_uri": "https://localhost:8080/",
          "height": 402
        }
      },
      "source": [
        "plylst_tag.rename(columns= {'id': '태그 테이블'}) # 플레이리스트 id - 태그 테이블"
      ],
      "execution_count": null,
      "outputs": [
        {
          "output_type": "execute_result",
          "data": {
            "text/html": [
              "<div>\n",
              "<style scoped>\n",
              "    .dataframe tbody tr th:only-of-type {\n",
              "        vertical-align: middle;\n",
              "    }\n",
              "\n",
              "    .dataframe tbody tr th {\n",
              "        vertical-align: top;\n",
              "    }\n",
              "\n",
              "    .dataframe thead th {\n",
              "        text-align: right;\n",
              "    }\n",
              "</style>\n",
              "<table border=\"1\" class=\"dataframe\">\n",
              "  <thead>\n",
              "    <tr style=\"text-align: right;\">\n",
              "      <th></th>\n",
              "      <th>플레이리스트 ID</th>\n",
              "      <th>태그 리스트</th>\n",
              "      <th>태그 테이블</th>\n",
              "    </tr>\n",
              "  </thead>\n",
              "  <tbody>\n",
              "    <tr>\n",
              "      <th>0</th>\n",
              "      <td>61281</td>\n",
              "      <td>락</td>\n",
              "      <td>61281</td>\n",
              "    </tr>\n",
              "    <tr>\n",
              "      <th>1</th>\n",
              "      <td>10532</td>\n",
              "      <td>추억</td>\n",
              "      <td>10532</td>\n",
              "    </tr>\n",
              "    <tr>\n",
              "      <th>2</th>\n",
              "      <td>10532</td>\n",
              "      <td>회상</td>\n",
              "      <td>10532</td>\n",
              "    </tr>\n",
              "    <tr>\n",
              "      <th>3</th>\n",
              "      <td>76951</td>\n",
              "      <td>까페</td>\n",
              "      <td>76951</td>\n",
              "    </tr>\n",
              "    <tr>\n",
              "      <th>4</th>\n",
              "      <td>76951</td>\n",
              "      <td>잔잔한</td>\n",
              "      <td>76951</td>\n",
              "    </tr>\n",
              "    <tr>\n",
              "      <th>...</th>\n",
              "      <td>...</td>\n",
              "      <td>...</td>\n",
              "      <td>...</td>\n",
              "    </tr>\n",
              "    <tr>\n",
              "      <th>476326</th>\n",
              "      <td>131982</td>\n",
              "      <td>퇴근길</td>\n",
              "      <td>131982</td>\n",
              "    </tr>\n",
              "    <tr>\n",
              "      <th>476327</th>\n",
              "      <td>100389</td>\n",
              "      <td>노래추천</td>\n",
              "      <td>100389</td>\n",
              "    </tr>\n",
              "    <tr>\n",
              "      <th>476328</th>\n",
              "      <td>100389</td>\n",
              "      <td>팝송추천</td>\n",
              "      <td>100389</td>\n",
              "    </tr>\n",
              "    <tr>\n",
              "      <th>476329</th>\n",
              "      <td>100389</td>\n",
              "      <td>팝송</td>\n",
              "      <td>100389</td>\n",
              "    </tr>\n",
              "    <tr>\n",
              "      <th>476330</th>\n",
              "      <td>100389</td>\n",
              "      <td>팝송모음</td>\n",
              "      <td>100389</td>\n",
              "    </tr>\n",
              "  </tbody>\n",
              "</table>\n",
              "<p>476331 rows × 3 columns</p>\n",
              "</div>"
            ],
            "text/plain": [
              "       플레이리스트 ID 태그 리스트  태그 테이블\n",
              "0          61281      락   61281\n",
              "1          10532     추억   10532\n",
              "2          10532     회상   10532\n",
              "3          76951     까페   76951\n",
              "4          76951    잔잔한   76951\n",
              "...          ...    ...     ...\n",
              "476326    131982    퇴근길  131982\n",
              "476327    100389   노래추천  100389\n",
              "476328    100389   팝송추천  100389\n",
              "476329    100389     팝송  100389\n",
              "476330    100389   팝송모음  100389\n",
              "\n",
              "[476331 rows x 3 columns]"
            ]
          },
          "metadata": {
            "tags": []
          },
          "execution_count": 49
        }
      ]
    },
    {
      "cell_type": "code",
      "metadata": {
        "id": "4fZd9noCS3yz",
        "outputId": "6a48bbf7-8dcf-445a-e11b-b5b8f74f1533",
        "colab": {
          "base_uri": "https://localhost:8080/"
        }
      },
      "source": [
        "train_uniq_song_cnt = plylst_song['곡 리스트'].nunique() # 유니크 곡 수\n",
        "train_uniq_tag_cnt = plylst_tag['태그 리스트'].nunique() # 유니크 태그 수\n",
        "\n",
        "print('train dataset에 있는 수록곡의 가짓수 : %s' %train_uniq_song_cnt)\n",
        "print('train dataset에 있는 태그의 가짓수 : %s' %train_uniq_tag_cnt)"
      ],
      "execution_count": null,
      "outputs": [
        {
          "output_type": "stream",
          "text": [
            "train dataset에 있는 수록곡의 가짓수 : 615142\n",
            "train dataset에 있는 태그의 가짓수 : 29160\n"
          ],
          "name": "stdout"
        }
      ]
    },
    {
      "cell_type": "markdown",
      "metadata": {
        "id": "1L6_ukcOTLov"
      },
      "source": [
        "### 플레이리스트 별 곡/태그/장르 수 분포"
      ]
    },
    {
      "cell_type": "markdown",
      "metadata": {
        "id": "ReT_FLjrTRcL"
      },
      "source": [
        "#### 수록곡"
      ]
    },
    {
      "cell_type": "code",
      "metadata": {
        "id": "ij4RI5xzrWPr",
        "outputId": "82a924ab-6348-45bd-d55f-c10f26a59e5d",
        "colab": {
          "base_uri": "https://localhost:8080/",
          "height": 431
        }
      },
      "source": [
        "# 1. 플레이리스트 별 수록곡의 수 count 테이블 생성 : plylst_song_count\n",
        "plylst_song_count = pd.DataFrame(plylst_song.groupby('플레이리스트 ID')['곡 리스트'].nunique()) # 플레이리스트 ID로 그룹핑을 하고 유니크한 곡ID수를 계산\n",
        "plylst_song_count"
      ],
      "execution_count": null,
      "outputs": [
        {
          "output_type": "execute_result",
          "data": {
            "text/html": [
              "<div>\n",
              "<style scoped>\n",
              "    .dataframe tbody tr th:only-of-type {\n",
              "        vertical-align: middle;\n",
              "    }\n",
              "\n",
              "    .dataframe tbody tr th {\n",
              "        vertical-align: top;\n",
              "    }\n",
              "\n",
              "    .dataframe thead th {\n",
              "        text-align: right;\n",
              "    }\n",
              "</style>\n",
              "<table border=\"1\" class=\"dataframe\">\n",
              "  <thead>\n",
              "    <tr style=\"text-align: right;\">\n",
              "      <th></th>\n",
              "      <th>곡 리스트</th>\n",
              "    </tr>\n",
              "    <tr>\n",
              "      <th>플레이리스트 ID</th>\n",
              "      <th></th>\n",
              "    </tr>\n",
              "  </thead>\n",
              "  <tbody>\n",
              "    <tr>\n",
              "      <th>1</th>\n",
              "      <td>5</td>\n",
              "    </tr>\n",
              "    <tr>\n",
              "      <th>1000</th>\n",
              "      <td>18</td>\n",
              "    </tr>\n",
              "    <tr>\n",
              "      <th>100000</th>\n",
              "      <td>28</td>\n",
              "    </tr>\n",
              "    <tr>\n",
              "      <th>100001</th>\n",
              "      <td>50</td>\n",
              "    </tr>\n",
              "    <tr>\n",
              "      <th>100002</th>\n",
              "      <td>19</td>\n",
              "    </tr>\n",
              "    <tr>\n",
              "      <th>...</th>\n",
              "      <td>...</td>\n",
              "    </tr>\n",
              "    <tr>\n",
              "      <th>99991</th>\n",
              "      <td>42</td>\n",
              "    </tr>\n",
              "    <tr>\n",
              "      <th>99992</th>\n",
              "      <td>20</td>\n",
              "    </tr>\n",
              "    <tr>\n",
              "      <th>99993</th>\n",
              "      <td>8</td>\n",
              "    </tr>\n",
              "    <tr>\n",
              "      <th>99997</th>\n",
              "      <td>43</td>\n",
              "    </tr>\n",
              "    <tr>\n",
              "      <th>99999</th>\n",
              "      <td>7</td>\n",
              "    </tr>\n",
              "  </tbody>\n",
              "</table>\n",
              "<p>115071 rows × 1 columns</p>\n",
              "</div>"
            ],
            "text/plain": [
              "           곡 리스트\n",
              "플레이리스트 ID       \n",
              "1              5\n",
              "1000          18\n",
              "100000        28\n",
              "100001        50\n",
              "100002        19\n",
              "...          ...\n",
              "99991         42\n",
              "99992         20\n",
              "99993          8\n",
              "99997         43\n",
              "99999          7\n",
              "\n",
              "[115071 rows x 1 columns]"
            ]
          },
          "metadata": {
            "tags": []
          },
          "execution_count": 51
        }
      ]
    },
    {
      "cell_type": "code",
      "metadata": {
        "id": "-I7FJ-nvS59O",
        "outputId": "2b82392f-25a4-46fd-8b47-574bd4518650",
        "colab": {
          "base_uri": "https://localhost:8080/",
          "height": 266
        }
      },
      "source": [
        "# 2-1. grid setting\n",
        "grid_list = [i*2 for i in range(1, 101)] # 2,4,...,200의 수를 리스트로 만듦 -> plt.hist함수에 bins 매개변수(막대수)에 전달해준다.\n",
        "\n",
        "# 2-2. 플레이리스트별 매핑되는 곡의 수를 plotting \n",
        "plt.hist(plylst_song_count['곡 리스트'], bins = grid_list, color = \"lightblue\", edgecolor = \"black\")\n",
        "plt.show()"
      ],
      "execution_count": null,
      "outputs": [
        {
          "output_type": "display_data",
          "data": {
            "image/png": "[encoded data removed]",
            "text/plain": [
              "<Figure size 432x288 with 1 Axes>"
            ]
          },
          "metadata": {
            "tags": [],
            "image/png": {
              "width": 385,
              "height": 249
            },
            "needs_background": "light"
          }
        }
      ]
    },
    {
      "cell_type": "code",
      "metadata": {
        "id": "PT_FPsImTZ1j",
        "outputId": "c1dfa5f6-fe59-4edc-cbd7-bcda90513179",
        "colab": {
          "base_uri": "https://localhost:8080/",
          "height": 77
        }
      },
      "source": [
        "round(plylst_song_count.describe().loc[['min', '25%', '50%', 'mean', '75%', 'max', 'std'],:].transpose(), 2)\n",
        "# 기초 통계 정보를 보여주는 describe 메서드를 적용 -> 세로로 긴 데이터 프레임\n",
        "# loc로 라벨명을 이용해 원래 행의 순서를 다르게 바꾼다. \n",
        "# transpose()를 적용해 데이터프레임을 가로형으로 전치한다."
      ],
      "execution_count": null,
      "outputs": [
        {
          "output_type": "execute_result",
          "data": {
            "text/html": [
              "<div>\n",
              "<style scoped>\n",
              "    .dataframe tbody tr th:only-of-type {\n",
              "        vertical-align: middle;\n",
              "    }\n",
              "\n",
              "    .dataframe tbody tr th {\n",
              "        vertical-align: top;\n",
              "    }\n",
              "\n",
              "    .dataframe thead th {\n",
              "        text-align: right;\n",
              "    }\n",
              "</style>\n",
              "<table border=\"1\" class=\"dataframe\">\n",
              "  <thead>\n",
              "    <tr style=\"text-align: right;\">\n",
              "      <th></th>\n",
              "      <th>min</th>\n",
              "      <th>25%</th>\n",
              "      <th>50%</th>\n",
              "      <th>mean</th>\n",
              "      <th>75%</th>\n",
              "      <th>max</th>\n",
              "      <th>std</th>\n",
              "    </tr>\n",
              "  </thead>\n",
              "  <tbody>\n",
              "    <tr>\n",
              "      <th>곡 리스트</th>\n",
              "      <td>1.0</td>\n",
              "      <td>19.0</td>\n",
              "      <td>30.0</td>\n",
              "      <td>45.94</td>\n",
              "      <td>54.0</td>\n",
              "      <td>200.0</td>\n",
              "      <td>43.95</td>\n",
              "    </tr>\n",
              "  </tbody>\n",
              "</table>\n",
              "</div>"
            ],
            "text/plain": [
              "       min   25%   50%   mean   75%    max    std\n",
              "곡 리스트  1.0  19.0  30.0  45.94  54.0  200.0  43.95"
            ]
          },
          "metadata": {
            "tags": []
          },
          "execution_count": 53
        }
      ]
    },
    {
      "cell_type": "markdown",
      "metadata": {
        "id": "J3vwb__Erg1v"
      },
      "source": [
        "- 플레이리스트 별 수록된 곡 수의 분포를 확인해본 결과 **평균 약 46개**(중앙값 30개)**의 곡이 수록**되어 있으며 최대 200곡의 수록곡을 포함한 플레이리스트가 존재합니다."
      ]
    },
    {
      "cell_type": "markdown",
      "metadata": {
        "id": "RetSUpw2TfXE"
      },
      "source": [
        "#### 태그"
      ]
    },
    {
      "cell_type": "code",
      "metadata": {
        "id": "F11-sghZTg_N",
        "outputId": "ea140d94-5e26-4ba8-e69c-7bbf66b6f923",
        "colab": {
          "base_uri": "https://localhost:8080/",
          "height": 266
        }
      },
      "source": [
        "# 1. 플레이리스트 별 매핑 태그 수 count 테이블 생성 : plylst_tag_count\n",
        "# 플레이리스트id로 그룹핑을해서 유니크한 태그의 수(그 플레이리스트에 매핑된 태그의 수)를 계산\n",
        "plylst_tag_count= pd.DataFrame(plylst_tag.groupby('플레이리스트 ID')['태그 리스트'].nunique())\n",
        "\n",
        "# 2. plotting - 플레이리스트에 매핑된 태그 수(최소1개~최대11개)에 대해 히스토그램으로 빈도 분포를 본다.\n",
        "# 예시 ) 첫번째 막대의 의미 : (1<=매핑태그수<2인 플레이리스트의 수)\n",
        "plt.hist(x= plylst_tag_count['태그 리스트'], bins = range(1, 12), color = \"lightblue\", edgecolor = \"black\")\n",
        "plt.show()"
      ],
      "execution_count": null,
      "outputs": [
        {
          "output_type": "display_data",
          "data": {
            "image/png": "[encoded data removed]",
            "text/plain": [
              "<Figure size 432x288 with 1 Axes>"
            ]
          },
          "metadata": {
            "tags": [],
            "image/png": {
              "width": 385,
              "height": 249
            },
            "needs_background": "light"
          }
        }
      ]
    },
    {
      "cell_type": "code",
      "metadata": {
        "id": "AuNlDEqirn0s",
        "outputId": "9eee0fad-b362-4683-efde-e66784511628",
        "colab": {
          "base_uri": "https://localhost:8080/",
          "height": 431
        }
      },
      "source": [
        "plylst_tag_count"
      ],
      "execution_count": null,
      "outputs": [
        {
          "output_type": "execute_result",
          "data": {
            "text/html": [
              "<div>\n",
              "<style scoped>\n",
              "    .dataframe tbody tr th:only-of-type {\n",
              "        vertical-align: middle;\n",
              "    }\n",
              "\n",
              "    .dataframe tbody tr th {\n",
              "        vertical-align: top;\n",
              "    }\n",
              "\n",
              "    .dataframe thead th {\n",
              "        text-align: right;\n",
              "    }\n",
              "</style>\n",
              "<table border=\"1\" class=\"dataframe\">\n",
              "  <thead>\n",
              "    <tr style=\"text-align: right;\">\n",
              "      <th></th>\n",
              "      <th>태그 리스트</th>\n",
              "    </tr>\n",
              "    <tr>\n",
              "      <th>플레이리스트 ID</th>\n",
              "      <th></th>\n",
              "    </tr>\n",
              "  </thead>\n",
              "  <tbody>\n",
              "    <tr>\n",
              "      <th>1</th>\n",
              "      <td>2</td>\n",
              "    </tr>\n",
              "    <tr>\n",
              "      <th>1000</th>\n",
              "      <td>2</td>\n",
              "    </tr>\n",
              "    <tr>\n",
              "      <th>100000</th>\n",
              "      <td>2</td>\n",
              "    </tr>\n",
              "    <tr>\n",
              "      <th>100001</th>\n",
              "      <td>2</td>\n",
              "    </tr>\n",
              "    <tr>\n",
              "      <th>100002</th>\n",
              "      <td>1</td>\n",
              "    </tr>\n",
              "    <tr>\n",
              "      <th>...</th>\n",
              "      <td>...</td>\n",
              "    </tr>\n",
              "    <tr>\n",
              "      <th>99991</th>\n",
              "      <td>3</td>\n",
              "    </tr>\n",
              "    <tr>\n",
              "      <th>99992</th>\n",
              "      <td>1</td>\n",
              "    </tr>\n",
              "    <tr>\n",
              "      <th>99993</th>\n",
              "      <td>1</td>\n",
              "    </tr>\n",
              "    <tr>\n",
              "      <th>99997</th>\n",
              "      <td>3</td>\n",
              "    </tr>\n",
              "    <tr>\n",
              "      <th>99999</th>\n",
              "      <td>1</td>\n",
              "    </tr>\n",
              "  </tbody>\n",
              "</table>\n",
              "<p>115071 rows × 1 columns</p>\n",
              "</div>"
            ],
            "text/plain": [
              "           태그 리스트\n",
              "플레이리스트 ID        \n",
              "1               2\n",
              "1000            2\n",
              "100000          2\n",
              "100001          2\n",
              "100002          1\n",
              "...           ...\n",
              "99991           3\n",
              "99992           1\n",
              "99993           1\n",
              "99997           3\n",
              "99999           1\n",
              "\n",
              "[115071 rows x 1 columns]"
            ]
          },
          "metadata": {
            "tags": []
          },
          "execution_count": 55
        }
      ]
    },
    {
      "cell_type": "code",
      "metadata": {
        "id": "DiE1Q6t9TSqR",
        "outputId": "093ddfd2-4288-450d-f993-151e68f7daec",
        "colab": {
          "base_uri": "https://localhost:8080/",
          "height": 77
        }
      },
      "source": [
        "round(plylst_tag_count.describe().loc[['min', '25%', '50%', 'mean', '75%', 'max', 'std']].transpose(), 2)"
      ],
      "execution_count": null,
      "outputs": [
        {
          "output_type": "execute_result",
          "data": {
            "text/html": [
              "<div>\n",
              "<style scoped>\n",
              "    .dataframe tbody tr th:only-of-type {\n",
              "        vertical-align: middle;\n",
              "    }\n",
              "\n",
              "    .dataframe tbody tr th {\n",
              "        vertical-align: top;\n",
              "    }\n",
              "\n",
              "    .dataframe thead th {\n",
              "        text-align: right;\n",
              "    }\n",
              "</style>\n",
              "<table border=\"1\" class=\"dataframe\">\n",
              "  <thead>\n",
              "    <tr style=\"text-align: right;\">\n",
              "      <th></th>\n",
              "      <th>min</th>\n",
              "      <th>25%</th>\n",
              "      <th>50%</th>\n",
              "      <th>mean</th>\n",
              "      <th>75%</th>\n",
              "      <th>max</th>\n",
              "      <th>std</th>\n",
              "    </tr>\n",
              "  </thead>\n",
              "  <tbody>\n",
              "    <tr>\n",
              "      <th>태그 리스트</th>\n",
              "      <td>1.0</td>\n",
              "      <td>2.0</td>\n",
              "      <td>3.0</td>\n",
              "      <td>4.14</td>\n",
              "      <td>6.0</td>\n",
              "      <td>11.0</td>\n",
              "      <td>3.07</td>\n",
              "    </tr>\n",
              "  </tbody>\n",
              "</table>\n",
              "</div>"
            ],
            "text/plain": [
              "        min  25%  50%  mean  75%   max   std\n",
              "태그 리스트  1.0  2.0  3.0  4.14  6.0  11.0  3.07"
            ]
          },
          "metadata": {
            "tags": []
          },
          "execution_count": 56
        }
      ]
    },
    {
      "cell_type": "markdown",
      "metadata": {
        "id": "LUzXtiDdrpsy"
      },
      "source": [
        "- 플레이리스트 당 **태그는 평균 약 4.1개**(중앙값 3개)**가 포함**되어 있으며 가장 많은 태그 수는 11개 입니다."
      ]
    },
    {
      "cell_type": "markdown",
      "metadata": {
        "id": "yx7sdbDOTn1z"
      },
      "source": [
        "#### 장르"
      ]
    },
    {
      "cell_type": "code",
      "metadata": {
        "id": "cLn-1obrTmNh",
        "outputId": "cfbb7940-6dec-4c26-af41-51a9cfb1d8dd",
        "colab": {
          "base_uri": "https://localhost:8080/",
          "height": 402
        }
      },
      "source": [
        "# # 1-1. join 목적으로 곡 아이디 integer에서 string으로 변환\n",
        "plylst_song['곡 리스트'] = plylst_song['곡 리스트'].astype(str)\n",
        "\n",
        "# # 1-2. 플레이리스트-곡 테이블 plylst_song + 곡-장르 테이블 song_gnr_map을 곡ID를 공통컬럼으로 join\n",
        "plylst_song_genre = pd.merge(plylst_song, song_genre, how = 'left', left_on = '곡 리스트', right_on = 'song_id')\n",
        "plylst_song_genre"
      ],
      "execution_count": null,
      "outputs": [
        {
          "output_type": "execute_result",
          "data": {
            "text/html": [
              "<div>\n",
              "<style scoped>\n",
              "    .dataframe tbody tr th:only-of-type {\n",
              "        vertical-align: middle;\n",
              "    }\n",
              "\n",
              "    .dataframe tbody tr th {\n",
              "        vertical-align: top;\n",
              "    }\n",
              "\n",
              "    .dataframe thead th {\n",
              "        text-align: right;\n",
              "    }\n",
              "</style>\n",
              "<table border=\"1\" class=\"dataframe\">\n",
              "  <thead>\n",
              "    <tr style=\"text-align: right;\">\n",
              "      <th></th>\n",
              "      <th>플레이리스트 ID</th>\n",
              "      <th>곡 리스트</th>\n",
              "      <th>song_id</th>\n",
              "      <th>gnr_code</th>\n",
              "    </tr>\n",
              "  </thead>\n",
              "  <tbody>\n",
              "    <tr>\n",
              "      <th>0</th>\n",
              "      <td>61281</td>\n",
              "      <td>525514</td>\n",
              "      <td>525514</td>\n",
              "      <td>GN1400</td>\n",
              "    </tr>\n",
              "    <tr>\n",
              "      <th>1</th>\n",
              "      <td>61281</td>\n",
              "      <td>129701</td>\n",
              "      <td>129701</td>\n",
              "      <td>GN0900</td>\n",
              "    </tr>\n",
              "    <tr>\n",
              "      <th>2</th>\n",
              "      <td>61281</td>\n",
              "      <td>129701</td>\n",
              "      <td>129701</td>\n",
              "      <td>GN1000</td>\n",
              "    </tr>\n",
              "    <tr>\n",
              "      <th>3</th>\n",
              "      <td>61281</td>\n",
              "      <td>383374</td>\n",
              "      <td>383374</td>\n",
              "      <td>GN1000</td>\n",
              "    </tr>\n",
              "    <tr>\n",
              "      <th>4</th>\n",
              "      <td>61281</td>\n",
              "      <td>562083</td>\n",
              "      <td>562083</td>\n",
              "      <td>GN0900</td>\n",
              "    </tr>\n",
              "    <tr>\n",
              "      <th>...</th>\n",
              "      <td>...</td>\n",
              "      <td>...</td>\n",
              "      <td>...</td>\n",
              "      <td>...</td>\n",
              "    </tr>\n",
              "    <tr>\n",
              "      <th>6837821</th>\n",
              "      <td>100389</td>\n",
              "      <td>51373</td>\n",
              "      <td>51373</td>\n",
              "      <td>GN1300</td>\n",
              "    </tr>\n",
              "    <tr>\n",
              "      <th>6837822</th>\n",
              "      <td>100389</td>\n",
              "      <td>640239</td>\n",
              "      <td>640239</td>\n",
              "      <td>GN1500</td>\n",
              "    </tr>\n",
              "    <tr>\n",
              "      <th>6837823</th>\n",
              "      <td>100389</td>\n",
              "      <td>13759</td>\n",
              "      <td>13759</td>\n",
              "      <td>GN0900</td>\n",
              "    </tr>\n",
              "    <tr>\n",
              "      <th>6837824</th>\n",
              "      <td>100389</td>\n",
              "      <td>13759</td>\n",
              "      <td>13759</td>\n",
              "      <td>GN1000</td>\n",
              "    </tr>\n",
              "    <tr>\n",
              "      <th>6837825</th>\n",
              "      <td>100389</td>\n",
              "      <td>154078</td>\n",
              "      <td>154078</td>\n",
              "      <td>GN1000</td>\n",
              "    </tr>\n",
              "  </tbody>\n",
              "</table>\n",
              "<p>6837826 rows × 4 columns</p>\n",
              "</div>"
            ],
            "text/plain": [
              "        플레이리스트 ID   곡 리스트 song_id gnr_code\n",
              "0           61281  525514  525514   GN1400\n",
              "1           61281  129701  129701   GN0900\n",
              "2           61281  129701  129701   GN1000\n",
              "3           61281  383374  383374   GN1000\n",
              "4           61281  562083  562083   GN0900\n",
              "...           ...     ...     ...      ...\n",
              "6837821    100389   51373   51373   GN1300\n",
              "6837822    100389  640239  640239   GN1500\n",
              "6837823    100389   13759   13759   GN0900\n",
              "6837824    100389   13759   13759   GN1000\n",
              "6837825    100389  154078  154078   GN1000\n",
              "\n",
              "[6837826 rows x 4 columns]"
            ]
          },
          "metadata": {
            "tags": []
          },
          "execution_count": 57
        }
      ]
    },
    {
      "cell_type": "code",
      "metadata": {
        "id": "JJDFaD9vryXu",
        "outputId": "42024ce6-7328-4025-a487-e38543066797",
        "colab": {
          "base_uri": "https://localhost:8080/",
          "height": 533
        }
      },
      "source": [
        "# 2. 플레이리스트 - 수록곡들이 가지는 장르 종류 수 테이블 생성 : plylst_genre_count\n",
        "# 플레이리스트 id로 그룹핑을하고 각 플레이리스트가 가지는 유니크한 장르코드의 수를 계산\n",
        "plylst_genre_count = pd.DataFrame(plylst_song_genre.groupby('플레이리스트 ID').gnr_code.nunique())\n",
        "print(plylst_genre_count)\n",
        "\n",
        "# 3. plotting - 히스토그램으로 플레이리스트에 매핑되는 장르 수의 빈도 분포를 확인\n",
        "plt.hist(plylst_genre_count['gnr_code'], range(0, 27), color = \"lightblue\", edgecolor = \"black\")\n",
        "plt.show()"
      ],
      "execution_count": null,
      "outputs": [
        {
          "output_type": "stream",
          "text": [
            "           gnr_code\n",
            "플레이리스트 ID          \n",
            "1                 2\n",
            "1000             10\n",
            "100000            6\n",
            "100001           13\n",
            "100002            6\n",
            "...             ...\n",
            "99991             8\n",
            "99992             3\n",
            "99993             3\n",
            "99997             4\n",
            "99999             5\n",
            "\n",
            "[115071 rows x 1 columns]\n"
          ],
          "name": "stdout"
        },
        {
          "output_type": "display_data",
          "data": {
            "image/png": "[encoded data removed]",
            "text/plain": [
              "<Figure size 432x288 with 1 Axes>"
            ]
          },
          "metadata": {
            "tags": [],
            "image/png": {
              "width": 385,
              "height": 252
            },
            "needs_background": "light"
          }
        }
      ]
    },
    {
      "cell_type": "code",
      "metadata": {
        "id": "V_9IOSvUTpIN",
        "outputId": "6e593dbf-da6a-463a-cac4-6bac824a6d68",
        "colab": {
          "base_uri": "https://localhost:8080/",
          "height": 77
        }
      },
      "source": [
        "round(plylst_genre_count.describe().loc[['min', '25%', '50%', 'mean', '75%', 'max', 'std']].transpose(), 2)"
      ],
      "execution_count": null,
      "outputs": [
        {
          "output_type": "execute_result",
          "data": {
            "text/html": [
              "<div>\n",
              "<style scoped>\n",
              "    .dataframe tbody tr th:only-of-type {\n",
              "        vertical-align: middle;\n",
              "    }\n",
              "\n",
              "    .dataframe tbody tr th {\n",
              "        vertical-align: top;\n",
              "    }\n",
              "\n",
              "    .dataframe thead th {\n",
              "        text-align: right;\n",
              "    }\n",
              "</style>\n",
              "<table border=\"1\" class=\"dataframe\">\n",
              "  <thead>\n",
              "    <tr style=\"text-align: right;\">\n",
              "      <th></th>\n",
              "      <th>min</th>\n",
              "      <th>25%</th>\n",
              "      <th>50%</th>\n",
              "      <th>mean</th>\n",
              "      <th>75%</th>\n",
              "      <th>max</th>\n",
              "      <th>std</th>\n",
              "    </tr>\n",
              "  </thead>\n",
              "  <tbody>\n",
              "    <tr>\n",
              "      <th>gnr_code</th>\n",
              "      <td>0.0</td>\n",
              "      <td>4.0</td>\n",
              "      <td>6.0</td>\n",
              "      <td>6.55</td>\n",
              "      <td>9.0</td>\n",
              "      <td>26.0</td>\n",
              "      <td>3.62</td>\n",
              "    </tr>\n",
              "  </tbody>\n",
              "</table>\n",
              "</div>"
            ],
            "text/plain": [
              "          min  25%  50%  mean  75%   max   std\n",
              "gnr_code  0.0  4.0  6.0  6.55  9.0  26.0  3.62"
            ]
          },
          "metadata": {
            "tags": []
          },
          "execution_count": 59
        }
      ]
    },
    {
      "cell_type": "markdown",
      "metadata": {
        "id": "SDYV-Du4sBRO"
      },
      "source": [
        "- 플레이리스트에 수록된 곡에서 대분류 장르 수 분포를 확인해본 결과 플레이리스트 당 **평균 6.6개**(중앙값 6개)**의 장르를 포함**하고 있습니다. "
      ]
    },
    {
      "cell_type": "markdown",
      "metadata": {
        "id": "94wyQdKWsF31"
      },
      "source": [
        "<br>"
      ]
    },
    {
      "cell_type": "markdown",
      "metadata": {
        "id": "bXKWAgcTT_41"
      },
      "source": [
        "### 곡/태그/플레이리스트명 중복 비율은?"
      ]
    },
    {
      "cell_type": "markdown",
      "metadata": {
        "id": "S1HSUY5zUKbA"
      },
      "source": [
        "#### 중복 수록 곡 비중"
      ]
    },
    {
      "cell_type": "code",
      "metadata": {
        "id": "xBUYfYueTskM",
        "outputId": "2f753ddf-999e-4a78-c8d0-4d51d4a7b90c",
        "colab": {
          "base_uri": "https://localhost:8080/",
          "height": 402
        }
      },
      "source": [
        "# 1. 곡 별 그 곡이 포함된 플레이리스트의 개수 테이블 생성 : song_plylst_count\n",
        "# 곡ID(songs컬럼)로 그룹핑해서 매핑된 플레이리스트ID의 수를 계산한다. \n",
        "# reset_index() : 새로운 인덱스를 빼고, id(플레이리스트ID) 컬럼의 이름을 새로 지정한다. \n",
        "song_plylst_count = plylst_song.groupby('곡 리스트')['플레이리스트 ID'].nunique().reset_index(name = 'mapping_plylst_cnt')\n",
        "\n",
        "# 2. 단일/중복 수록 구분 : 곡 별 수록된 플레이리스트가 한 개면 '단일 수록', 두 개 이상이면 '중복 수록'\n",
        "song_plylst_count = song_plylst_count.assign(\n",
        "    mapping_plylst_cnt_category = pd.cut(song_plylst_count['mapping_plylst_cnt'], bins = [0, 1, np.inf], labels = ['단일 수록', '중복 수록'])\n",
        ")\n",
        "# np.inf : 무한대의 양수를 표현\n",
        "# bins = [0, 1, np.inf] -> (0,1], (1,무한대]로 범위를 나눠서 카테고리화한다.\n",
        "\n",
        "song_plylst_count"
      ],
      "execution_count": null,
      "outputs": [
        {
          "output_type": "execute_result",
          "data": {
            "text/html": [
              "<div>\n",
              "<style scoped>\n",
              "    .dataframe tbody tr th:only-of-type {\n",
              "        vertical-align: middle;\n",
              "    }\n",
              "\n",
              "    .dataframe tbody tr th {\n",
              "        vertical-align: top;\n",
              "    }\n",
              "\n",
              "    .dataframe thead th {\n",
              "        text-align: right;\n",
              "    }\n",
              "</style>\n",
              "<table border=\"1\" class=\"dataframe\">\n",
              "  <thead>\n",
              "    <tr style=\"text-align: right;\">\n",
              "      <th></th>\n",
              "      <th>곡 리스트</th>\n",
              "      <th>mapping_plylst_cnt</th>\n",
              "      <th>mapping_plylst_cnt_category</th>\n",
              "    </tr>\n",
              "  </thead>\n",
              "  <tbody>\n",
              "    <tr>\n",
              "      <th>0</th>\n",
              "      <td>0</td>\n",
              "      <td>2</td>\n",
              "      <td>중복 수록</td>\n",
              "    </tr>\n",
              "    <tr>\n",
              "      <th>1</th>\n",
              "      <td>10</td>\n",
              "      <td>32</td>\n",
              "      <td>중복 수록</td>\n",
              "    </tr>\n",
              "    <tr>\n",
              "      <th>2</th>\n",
              "      <td>1000</td>\n",
              "      <td>11</td>\n",
              "      <td>중복 수록</td>\n",
              "    </tr>\n",
              "    <tr>\n",
              "      <th>3</th>\n",
              "      <td>100000</td>\n",
              "      <td>2</td>\n",
              "      <td>중복 수록</td>\n",
              "    </tr>\n",
              "    <tr>\n",
              "      <th>4</th>\n",
              "      <td>100001</td>\n",
              "      <td>2</td>\n",
              "      <td>중복 수록</td>\n",
              "    </tr>\n",
              "    <tr>\n",
              "      <th>...</th>\n",
              "      <td>...</td>\n",
              "      <td>...</td>\n",
              "      <td>...</td>\n",
              "    </tr>\n",
              "    <tr>\n",
              "      <th>615137</th>\n",
              "      <td>99993</td>\n",
              "      <td>1</td>\n",
              "      <td>단일 수록</td>\n",
              "    </tr>\n",
              "    <tr>\n",
              "      <th>615138</th>\n",
              "      <td>99995</td>\n",
              "      <td>3</td>\n",
              "      <td>중복 수록</td>\n",
              "    </tr>\n",
              "    <tr>\n",
              "      <th>615139</th>\n",
              "      <td>99996</td>\n",
              "      <td>2</td>\n",
              "      <td>중복 수록</td>\n",
              "    </tr>\n",
              "    <tr>\n",
              "      <th>615140</th>\n",
              "      <td>99997</td>\n",
              "      <td>1</td>\n",
              "      <td>단일 수록</td>\n",
              "    </tr>\n",
              "    <tr>\n",
              "      <th>615141</th>\n",
              "      <td>99999</td>\n",
              "      <td>28</td>\n",
              "      <td>중복 수록</td>\n",
              "    </tr>\n",
              "  </tbody>\n",
              "</table>\n",
              "<p>615142 rows × 3 columns</p>\n",
              "</div>"
            ],
            "text/plain": [
              "         곡 리스트  mapping_plylst_cnt mapping_plylst_cnt_category\n",
              "0            0                   2                       중복 수록\n",
              "1           10                  32                       중복 수록\n",
              "2         1000                  11                       중복 수록\n",
              "3       100000                   2                       중복 수록\n",
              "4       100001                   2                       중복 수록\n",
              "...        ...                 ...                         ...\n",
              "615137   99993                   1                       단일 수록\n",
              "615138   99995                   3                       중복 수록\n",
              "615139   99996                   2                       중복 수록\n",
              "615140   99997                   1                       단일 수록\n",
              "615141   99999                  28                       중복 수록\n",
              "\n",
              "[615142 rows x 3 columns]"
            ]
          },
          "metadata": {
            "tags": []
          },
          "execution_count": 60
        }
      ]
    },
    {
      "cell_type": "code",
      "metadata": {
        "id": "mh7pPnDNsK6Q",
        "outputId": "a1a79ca9-449a-4b75-9126-b90ef0436ceb",
        "colab": {
          "base_uri": "https://localhost:8080/",
          "height": 136
        }
      },
      "source": [
        "# 3. 단일/중복 수록 구분 별 곡 수 count 테이블 생성 : song_plylst_mapping_division\n",
        "# 그룹바이를 하면 그룹핑 기준 컬럼은 테이블의 라벨이 된다.\n",
        "# count() : songs와 mapping_plylst_cnt의 행의 수를 더한다.(결국 곡의 수가 나온다. 행 하나가 곡하나를 의미하므로)\n",
        "song_plylst_mapping_division = pd.DataFrame(song_plylst_count.groupby('mapping_plylst_cnt_category').count())\n",
        "song_plylst_mapping_division"
      ],
      "execution_count": null,
      "outputs": [
        {
          "output_type": "execute_result",
          "data": {
            "text/html": [
              "<div>\n",
              "<style scoped>\n",
              "    .dataframe tbody tr th:only-of-type {\n",
              "        vertical-align: middle;\n",
              "    }\n",
              "\n",
              "    .dataframe tbody tr th {\n",
              "        vertical-align: top;\n",
              "    }\n",
              "\n",
              "    .dataframe thead th {\n",
              "        text-align: right;\n",
              "    }\n",
              "</style>\n",
              "<table border=\"1\" class=\"dataframe\">\n",
              "  <thead>\n",
              "    <tr style=\"text-align: right;\">\n",
              "      <th></th>\n",
              "      <th>곡 리스트</th>\n",
              "      <th>mapping_plylst_cnt</th>\n",
              "    </tr>\n",
              "    <tr>\n",
              "      <th>mapping_plylst_cnt_category</th>\n",
              "      <th></th>\n",
              "      <th></th>\n",
              "    </tr>\n",
              "  </thead>\n",
              "  <tbody>\n",
              "    <tr>\n",
              "      <th>단일 수록</th>\n",
              "      <td>299028</td>\n",
              "      <td>299028</td>\n",
              "    </tr>\n",
              "    <tr>\n",
              "      <th>중복 수록</th>\n",
              "      <td>316114</td>\n",
              "      <td>316114</td>\n",
              "    </tr>\n",
              "  </tbody>\n",
              "</table>\n",
              "</div>"
            ],
            "text/plain": [
              "                              곡 리스트  mapping_plylst_cnt\n",
              "mapping_plylst_cnt_category                            \n",
              "단일 수록                        299028              299028\n",
              "중복 수록                        316114              316114"
            ]
          },
          "metadata": {
            "tags": []
          },
          "execution_count": 61
        }
      ]
    },
    {
      "cell_type": "code",
      "metadata": {
        "id": "68BLdRjMsNIF",
        "outputId": "b67b2f16-1839-45fa-a8e8-e7f58c188364",
        "colab": {
          "base_uri": "https://localhost:8080/",
          "height": 106
        }
      },
      "source": [
        "# 4. 3번 테이블에 비율 값 추가\n",
        "# 컬럼의 이름을 바꾸기\n",
        "song_plylst_mapping_division.rename(columns = {'곡 리스트' : '곡 수'}, inplace = True)\n",
        "# \"비율\" 파생컬럼 추가하기\n",
        "song_plylst_mapping_division.loc[:, '비율(%)'] = round(song_plylst_mapping_division['곡 수']/sum(song_plylst_mapping_division['곡 수'])*100, 2)\n",
        "# 라벨명을 새로 만들고, 원래 라벨 컬럼이었던 mapping_plylst_cnt_category의 컬럼명을 바꾼다.\n",
        "song_plylst_mapping_division = song_plylst_mapping_division.reset_index().rename(columns = {'mapping_plylst_cnt_category' : '중복 수록 여부'})\n",
        "# 중복되는 의미를 가지는 mapping_plylst_cnt열은 제외하고 세 컬럼만 뽑아서 본다.\n",
        "song_plylst_mapping_division[['중복 수록 여부', '곡 수', '비율(%)']]"
      ],
      "execution_count": null,
      "outputs": [
        {
          "output_type": "execute_result",
          "data": {
            "text/html": [
              "<div>\n",
              "<style scoped>\n",
              "    .dataframe tbody tr th:only-of-type {\n",
              "        vertical-align: middle;\n",
              "    }\n",
              "\n",
              "    .dataframe tbody tr th {\n",
              "        vertical-align: top;\n",
              "    }\n",
              "\n",
              "    .dataframe thead th {\n",
              "        text-align: right;\n",
              "    }\n",
              "</style>\n",
              "<table border=\"1\" class=\"dataframe\">\n",
              "  <thead>\n",
              "    <tr style=\"text-align: right;\">\n",
              "      <th></th>\n",
              "      <th>중복 수록 여부</th>\n",
              "      <th>곡 수</th>\n",
              "      <th>비율(%)</th>\n",
              "    </tr>\n",
              "  </thead>\n",
              "  <tbody>\n",
              "    <tr>\n",
              "      <th>0</th>\n",
              "      <td>단일 수록</td>\n",
              "      <td>299028</td>\n",
              "      <td>48.61</td>\n",
              "    </tr>\n",
              "    <tr>\n",
              "      <th>1</th>\n",
              "      <td>중복 수록</td>\n",
              "      <td>316114</td>\n",
              "      <td>51.39</td>\n",
              "    </tr>\n",
              "  </tbody>\n",
              "</table>\n",
              "</div>"
            ],
            "text/plain": [
              "  중복 수록 여부     곡 수  비율(%)\n",
              "0    단일 수록  299028  48.61\n",
              "1    중복 수록  316114  51.39"
            ]
          },
          "metadata": {
            "tags": []
          },
          "execution_count": 62
        }
      ]
    },
    {
      "cell_type": "markdown",
      "metadata": {
        "id": "XTvCHx26sWlY"
      },
      "source": [
        "- **수록 곡의 약 51%는 두 개 이상의 플레이리스트에 중복 수록**된 곡 입니다."
      ]
    },
    {
      "cell_type": "markdown",
      "metadata": {
        "id": "yzZohy51UdkK"
      },
      "source": [
        "#### 중복 수록 곡 중 많이 수록된 횟수 기준 상위 30곡 "
      ]
    },
    {
      "cell_type": "code",
      "metadata": {
        "id": "f7fWihI-T-x_",
        "outputId": "e3e5dcbc-6a43-4c9a-eefb-3cab702d79d4",
        "colab": {
          "base_uri": "https://localhost:8080/",
          "height": 935
        }
      },
      "source": [
        "# 1. song_plylst_count 테이블에서 중복 수록 곡 중 수록 횟수 기준 상위 30곡 필터링 테이블 생성 : duplicate_song_top30\n",
        "song_included_count_top30 = song_plylst_count[song_plylst_count['mapping_plylst_cnt_category'] == '중복 수록'].nlargest(30, 'mapping_plylst_cnt')\n",
        "# 중복 수록인 곡들만 뽑아서 \n",
        "# nlargest(30, 'mapping_plylst_cnt'):mapping_plylst_cnt 컬럼의 값이 가장 큰 것부터 상위30개를 뽑는다.\n",
        "song_included_count_top30"
      ],
      "execution_count": null,
      "outputs": [
        {
          "output_type": "execute_result",
          "data": {
            "text/html": [
              "<div>\n",
              "<style scoped>\n",
              "    .dataframe tbody tr th:only-of-type {\n",
              "        vertical-align: middle;\n",
              "    }\n",
              "\n",
              "    .dataframe tbody tr th {\n",
              "        vertical-align: top;\n",
              "    }\n",
              "\n",
              "    .dataframe thead th {\n",
              "        text-align: right;\n",
              "    }\n",
              "</style>\n",
              "<table border=\"1\" class=\"dataframe\">\n",
              "  <thead>\n",
              "    <tr style=\"text-align: right;\">\n",
              "      <th></th>\n",
              "      <th>곡 리스트</th>\n",
              "      <th>mapping_plylst_cnt</th>\n",
              "      <th>mapping_plylst_cnt_category</th>\n",
              "    </tr>\n",
              "  </thead>\n",
              "  <tbody>\n",
              "    <tr>\n",
              "      <th>43143</th>\n",
              "      <td>144663</td>\n",
              "      <td>2175</td>\n",
              "      <td>중복 수록</td>\n",
              "    </tr>\n",
              "    <tr>\n",
              "      <th>16000</th>\n",
              "      <td>116573</td>\n",
              "      <td>2121</td>\n",
              "      <td>중복 수록</td>\n",
              "    </tr>\n",
              "    <tr>\n",
              "      <th>248358</th>\n",
              "      <td>357367</td>\n",
              "      <td>1981</td>\n",
              "      <td>중복 수록</td>\n",
              "    </tr>\n",
              "    <tr>\n",
              "      <th>257557</th>\n",
              "      <td>366786</td>\n",
              "      <td>1919</td>\n",
              "      <td>중복 수록</td>\n",
              "    </tr>\n",
              "    <tr>\n",
              "      <th>535426</th>\n",
              "      <td>654757</td>\n",
              "      <td>1647</td>\n",
              "      <td>중복 수록</td>\n",
              "    </tr>\n",
              "    <tr>\n",
              "      <th>32038</th>\n",
              "      <td>133143</td>\n",
              "      <td>1633</td>\n",
              "      <td>중복 수록</td>\n",
              "    </tr>\n",
              "    <tr>\n",
              "      <th>240756</th>\n",
              "      <td>349492</td>\n",
              "      <td>1599</td>\n",
              "      <td>중복 수록</td>\n",
              "    </tr>\n",
              "    <tr>\n",
              "      <th>555125</th>\n",
              "      <td>675115</td>\n",
              "      <td>1598</td>\n",
              "      <td>중복 수록</td>\n",
              "    </tr>\n",
              "    <tr>\n",
              "      <th>350594</th>\n",
              "      <td>463173</td>\n",
              "      <td>1544</td>\n",
              "      <td>중복 수록</td>\n",
              "    </tr>\n",
              "    <tr>\n",
              "      <th>310462</th>\n",
              "      <td>42155</td>\n",
              "      <td>1540</td>\n",
              "      <td>중복 수록</td>\n",
              "    </tr>\n",
              "    <tr>\n",
              "      <th>286596</th>\n",
              "      <td>396828</td>\n",
              "      <td>1538</td>\n",
              "      <td>중복 수록</td>\n",
              "    </tr>\n",
              "    <tr>\n",
              "      <th>493142</th>\n",
              "      <td>610933</td>\n",
              "      <td>1538</td>\n",
              "      <td>중복 수록</td>\n",
              "    </tr>\n",
              "    <tr>\n",
              "      <th>348827</th>\n",
              "      <td>461341</td>\n",
              "      <td>1526</td>\n",
              "      <td>중복 수록</td>\n",
              "    </tr>\n",
              "    <tr>\n",
              "      <th>72171</th>\n",
              "      <td>174749</td>\n",
              "      <td>1512</td>\n",
              "      <td>중복 수록</td>\n",
              "    </tr>\n",
              "    <tr>\n",
              "      <th>405506</th>\n",
              "      <td>520093</td>\n",
              "      <td>1508</td>\n",
              "      <td>중복 수록</td>\n",
              "    </tr>\n",
              "    <tr>\n",
              "      <th>580659</th>\n",
              "      <td>701557</td>\n",
              "      <td>1507</td>\n",
              "      <td>중복 수록</td>\n",
              "    </tr>\n",
              "    <tr>\n",
              "      <th>433592</th>\n",
              "      <td>549178</td>\n",
              "      <td>1501</td>\n",
              "      <td>중복 수록</td>\n",
              "    </tr>\n",
              "    <tr>\n",
              "      <th>371732</th>\n",
              "      <td>485155</td>\n",
              "      <td>1492</td>\n",
              "      <td>중복 수록</td>\n",
              "    </tr>\n",
              "    <tr>\n",
              "      <th>531299</th>\n",
              "      <td>650494</td>\n",
              "      <td>1479</td>\n",
              "      <td>중복 수록</td>\n",
              "    </tr>\n",
              "    <tr>\n",
              "      <th>408815</th>\n",
              "      <td>523521</td>\n",
              "      <td>1476</td>\n",
              "      <td>중복 수록</td>\n",
              "    </tr>\n",
              "    <tr>\n",
              "      <th>31705</th>\n",
              "      <td>13281</td>\n",
              "      <td>1473</td>\n",
              "      <td>중복 수록</td>\n",
              "    </tr>\n",
              "    <tr>\n",
              "      <th>529491</th>\n",
              "      <td>648628</td>\n",
              "      <td>1470</td>\n",
              "      <td>중복 수록</td>\n",
              "    </tr>\n",
              "    <tr>\n",
              "      <th>337178</th>\n",
              "      <td>449244</td>\n",
              "      <td>1468</td>\n",
              "      <td>중복 수록</td>\n",
              "    </tr>\n",
              "    <tr>\n",
              "      <th>560170</th>\n",
              "      <td>680366</td>\n",
              "      <td>1467</td>\n",
              "      <td>중복 수록</td>\n",
              "    </tr>\n",
              "    <tr>\n",
              "      <th>67571</th>\n",
              "      <td>169984</td>\n",
              "      <td>1463</td>\n",
              "      <td>중복 수록</td>\n",
              "    </tr>\n",
              "    <tr>\n",
              "      <th>311793</th>\n",
              "      <td>422915</td>\n",
              "      <td>1455</td>\n",
              "      <td>중복 수록</td>\n",
              "    </tr>\n",
              "    <tr>\n",
              "      <th>15996</th>\n",
              "      <td>11657</td>\n",
              "      <td>1452</td>\n",
              "      <td>중복 수록</td>\n",
              "    </tr>\n",
              "    <tr>\n",
              "      <th>307942</th>\n",
              "      <td>418935</td>\n",
              "      <td>1446</td>\n",
              "      <td>중복 수록</td>\n",
              "    </tr>\n",
              "    <tr>\n",
              "      <th>83999</th>\n",
              "      <td>187047</td>\n",
              "      <td>1437</td>\n",
              "      <td>중복 수록</td>\n",
              "    </tr>\n",
              "    <tr>\n",
              "      <th>432422</th>\n",
              "      <td>547967</td>\n",
              "      <td>1434</td>\n",
              "      <td>중복 수록</td>\n",
              "    </tr>\n",
              "  </tbody>\n",
              "</table>\n",
              "</div>"
            ],
            "text/plain": [
              "         곡 리스트  mapping_plylst_cnt mapping_plylst_cnt_category\n",
              "43143   144663                2175                       중복 수록\n",
              "16000   116573                2121                       중복 수록\n",
              "248358  357367                1981                       중복 수록\n",
              "257557  366786                1919                       중복 수록\n",
              "535426  654757                1647                       중복 수록\n",
              "32038   133143                1633                       중복 수록\n",
              "240756  349492                1599                       중복 수록\n",
              "555125  675115                1598                       중복 수록\n",
              "350594  463173                1544                       중복 수록\n",
              "310462   42155                1540                       중복 수록\n",
              "286596  396828                1538                       중복 수록\n",
              "493142  610933                1538                       중복 수록\n",
              "348827  461341                1526                       중복 수록\n",
              "72171   174749                1512                       중복 수록\n",
              "405506  520093                1508                       중복 수록\n",
              "580659  701557                1507                       중복 수록\n",
              "433592  549178                1501                       중복 수록\n",
              "371732  485155                1492                       중복 수록\n",
              "531299  650494                1479                       중복 수록\n",
              "408815  523521                1476                       중복 수록\n",
              "31705    13281                1473                       중복 수록\n",
              "529491  648628                1470                       중복 수록\n",
              "337178  449244                1468                       중복 수록\n",
              "560170  680366                1467                       중복 수록\n",
              "67571   169984                1463                       중복 수록\n",
              "311793  422915                1455                       중복 수록\n",
              "15996    11657                1452                       중복 수록\n",
              "307942  418935                1446                       중복 수록\n",
              "83999   187047                1437                       중복 수록\n",
              "432422  547967                1434                       중복 수록"
            ]
          },
          "metadata": {
            "tags": []
          },
          "execution_count": 63
        }
      ]
    },
    {
      "cell_type": "code",
      "metadata": {
        "id": "T5C60uVQsaRo",
        "outputId": "a4a59fce-b6f3-4755-9361-d27c48d298d7",
        "colab": {
          "base_uri": "https://localhost:8080/",
          "height": 1000
        }
      },
      "source": [
        "# 2-1. duplicate_song_top30과 song_meta를 join하기 위해 곡id를 integer에서 string 변환\n",
        "song_included_count_top30['곡 리스트'] = song_included_count_top30['곡 리스트'].astype(str)\n",
        "song['곡 ID'] = song['곡 ID'].astype(str)\n",
        "\n",
        "# 2-2. 상위 30곡 테이블 song_included_count_top30 + 곡 메타 song_meta join\n",
        "# 수록 횟수 기준 상위 30곡의 곡 이름 아티스트명을 함께 보기 위해 \n",
        "# 곡ID를 공통 컬럼으로 조인해서 곡 아이디와 곡명, 아티스트명, 수록 횟수 컬럼만 추출\n",
        "(\n",
        "    pd.merge(song_included_count_top30, song[['곡 ID', '곡 제목', '아티스트 리스트']],\n",
        "             how = 'left', left_on = '곡 리스트', right_on = '곡 ID')\n",
        "    [['곡 리스트', '곡 제목', '아티스트 리스트', 'mapping_plylst_cnt']]\n",
        "    .rename(columns = {'songs' : '곡 아이디', '곡 제목' : '곡 명', '아티스트 리스트' : '아티스트 명', 'mapping_plylst_cnt' : '수록 횟수'})\n",
        ")"
      ],
      "execution_count": null,
      "outputs": [
        {
          "output_type": "execute_result",
          "data": {
            "text/html": [
              "<div>\n",
              "<style scoped>\n",
              "    .dataframe tbody tr th:only-of-type {\n",
              "        vertical-align: middle;\n",
              "    }\n",
              "\n",
              "    .dataframe tbody tr th {\n",
              "        vertical-align: top;\n",
              "    }\n",
              "\n",
              "    .dataframe thead th {\n",
              "        text-align: right;\n",
              "    }\n",
              "</style>\n",
              "<table border=\"1\" class=\"dataframe\">\n",
              "  <thead>\n",
              "    <tr style=\"text-align: right;\">\n",
              "      <th></th>\n",
              "      <th>곡 리스트</th>\n",
              "      <th>곡 명</th>\n",
              "      <th>아티스트 명</th>\n",
              "      <th>수록 횟수</th>\n",
              "    </tr>\n",
              "  </thead>\n",
              "  <tbody>\n",
              "    <tr>\n",
              "      <th>0</th>\n",
              "      <td>144663</td>\n",
              "      <td>밤편지</td>\n",
              "      <td>[아이유]</td>\n",
              "      <td>2175</td>\n",
              "    </tr>\n",
              "    <tr>\n",
              "      <th>1</th>\n",
              "      <td>116573</td>\n",
              "      <td>안아줘</td>\n",
              "      <td>[정준일]</td>\n",
              "      <td>2121</td>\n",
              "    </tr>\n",
              "    <tr>\n",
              "      <th>2</th>\n",
              "      <td>357367</td>\n",
              "      <td>비</td>\n",
              "      <td>[폴킴]</td>\n",
              "      <td>1981</td>\n",
              "    </tr>\n",
              "    <tr>\n",
              "      <th>3</th>\n",
              "      <td>366786</td>\n",
              "      <td>가끔 미치도록 네가 안고 싶어질 때가 있어</td>\n",
              "      <td>[가을방학]</td>\n",
              "      <td>1919</td>\n",
              "    </tr>\n",
              "    <tr>\n",
              "      <th>4</th>\n",
              "      <td>654757</td>\n",
              "      <td>눈의 꽃</td>\n",
              "      <td>[박효신]</td>\n",
              "      <td>1647</td>\n",
              "    </tr>\n",
              "    <tr>\n",
              "      <th>5</th>\n",
              "      <td>133143</td>\n",
              "      <td>그대와 나, 설레임 (Feat. 소울맨)</td>\n",
              "      <td>[어쿠스틱 콜라보]</td>\n",
              "      <td>1633</td>\n",
              "    </tr>\n",
              "    <tr>\n",
              "      <th>6</th>\n",
              "      <td>349492</td>\n",
              "      <td>어떤이별</td>\n",
              "      <td>[임승부]</td>\n",
              "      <td>1599</td>\n",
              "    </tr>\n",
              "    <tr>\n",
              "      <th>7</th>\n",
              "      <td>675115</td>\n",
              "      <td>야생화</td>\n",
              "      <td>[박효신]</td>\n",
              "      <td>1598</td>\n",
              "    </tr>\n",
              "    <tr>\n",
              "      <th>8</th>\n",
              "      <td>463173</td>\n",
              "      <td>비가 내렸어 (Vocal by 스티브언니)</td>\n",
              "      <td>[업라이트 (Upright)]</td>\n",
              "      <td>1544</td>\n",
              "    </tr>\n",
              "    <tr>\n",
              "      <th>9</th>\n",
              "      <td>42155</td>\n",
              "      <td>벙어리</td>\n",
              "      <td>[홍아]</td>\n",
              "      <td>1540</td>\n",
              "    </tr>\n",
              "    <tr>\n",
              "      <th>10</th>\n",
              "      <td>396828</td>\n",
              "      <td>쉬운사랑</td>\n",
              "      <td>[중신]</td>\n",
              "      <td>1538</td>\n",
              "    </tr>\n",
              "    <tr>\n",
              "      <th>11</th>\n",
              "      <td>610933</td>\n",
              "      <td>널 생각해</td>\n",
              "      <td>[원 모어 찬스 (one more chance)]</td>\n",
              "      <td>1538</td>\n",
              "    </tr>\n",
              "    <tr>\n",
              "      <th>12</th>\n",
              "      <td>461341</td>\n",
              "      <td>어떻게 지내</td>\n",
              "      <td>[Crush]</td>\n",
              "      <td>1526</td>\n",
              "    </tr>\n",
              "    <tr>\n",
              "      <th>13</th>\n",
              "      <td>174749</td>\n",
              "      <td>비도 오고 그래서 (Feat. 신용재)</td>\n",
              "      <td>[헤이즈 (Heize)]</td>\n",
              "      <td>1512</td>\n",
              "    </tr>\n",
              "    <tr>\n",
              "      <th>14</th>\n",
              "      <td>520093</td>\n",
              "      <td>고마운 사람 (Vocal by 이소진)</td>\n",
              "      <td>[업라이트 (Upright)]</td>\n",
              "      <td>1508</td>\n",
              "    </tr>\n",
              "    <tr>\n",
              "      <th>15</th>\n",
              "      <td>701557</td>\n",
              "      <td>우연히 봄</td>\n",
              "      <td>[로꼬, 유주 (여자친구)]</td>\n",
              "      <td>1507</td>\n",
              "    </tr>\n",
              "    <tr>\n",
              "      <th>16</th>\n",
              "      <td>549178</td>\n",
              "      <td>금요일에 만나요 (Feat. 장이정 Of HISTORY)</td>\n",
              "      <td>[아이유]</td>\n",
              "      <td>1501</td>\n",
              "    </tr>\n",
              "    <tr>\n",
              "      <th>17</th>\n",
              "      <td>485155</td>\n",
              "      <td>선물</td>\n",
              "      <td>[민우]</td>\n",
              "      <td>1492</td>\n",
              "    </tr>\n",
              "    <tr>\n",
              "      <th>18</th>\n",
              "      <td>650494</td>\n",
              "      <td>봄 사랑 벚꽃 말고</td>\n",
              "      <td>[HIGH4 (하이포), 아이유]</td>\n",
              "      <td>1479</td>\n",
              "    </tr>\n",
              "    <tr>\n",
              "      <th>19</th>\n",
              "      <td>523521</td>\n",
              "      <td>사랑을 놓치고</td>\n",
              "      <td>[박은옥]</td>\n",
              "      <td>1476</td>\n",
              "    </tr>\n",
              "    <tr>\n",
              "      <th>20</th>\n",
              "      <td>13281</td>\n",
              "      <td>넌 이별 난 아직 (With 한소현 Of 3rd Coast)</td>\n",
              "      <td>[스탠딩 에그]</td>\n",
              "      <td>1473</td>\n",
              "    </tr>\n",
              "    <tr>\n",
              "      <th>21</th>\n",
              "      <td>648628</td>\n",
              "      <td>분홍빛 가득한 날에 (Vocal by 호수)</td>\n",
              "      <td>[아재]</td>\n",
              "      <td>1470</td>\n",
              "    </tr>\n",
              "    <tr>\n",
              "      <th>22</th>\n",
              "      <td>449244</td>\n",
              "      <td>스토커</td>\n",
              "      <td>[10CM]</td>\n",
              "      <td>1468</td>\n",
              "    </tr>\n",
              "    <tr>\n",
              "      <th>23</th>\n",
              "      <td>680366</td>\n",
              "      <td>끝내지 못한 이야기 (Feat. 호수)</td>\n",
              "      <td>[어쿠스틱 멜로디 (Acoustic Melody)]</td>\n",
              "      <td>1467</td>\n",
              "    </tr>\n",
              "    <tr>\n",
              "      <th>24</th>\n",
              "      <td>169984</td>\n",
              "      <td>같은 시간 속의 너</td>\n",
              "      <td>[나얼]</td>\n",
              "      <td>1463</td>\n",
              "    </tr>\n",
              "    <tr>\n",
              "      <th>25</th>\n",
              "      <td>422915</td>\n",
              "      <td>연인</td>\n",
              "      <td>[중신]</td>\n",
              "      <td>1455</td>\n",
              "    </tr>\n",
              "    <tr>\n",
              "      <th>26</th>\n",
              "      <td>11657</td>\n",
              "      <td>Lost Stars</td>\n",
              "      <td>[Adam Levine]</td>\n",
              "      <td>1452</td>\n",
              "    </tr>\n",
              "    <tr>\n",
              "      <th>27</th>\n",
              "      <td>418935</td>\n",
              "      <td>수고했어, 오늘도</td>\n",
              "      <td>[옥상달빛]</td>\n",
              "      <td>1446</td>\n",
              "    </tr>\n",
              "    <tr>\n",
              "      <th>28</th>\n",
              "      <td>187047</td>\n",
              "      <td>착각</td>\n",
              "      <td>[박은옥]</td>\n",
              "      <td>1437</td>\n",
              "    </tr>\n",
              "    <tr>\n",
              "      <th>29</th>\n",
              "      <td>547967</td>\n",
              "      <td>불안해</td>\n",
              "      <td>[혜지 (Hyeji)]</td>\n",
              "      <td>1434</td>\n",
              "    </tr>\n",
              "  </tbody>\n",
              "</table>\n",
              "</div>"
            ],
            "text/plain": [
              "     곡 리스트  ... 수록 횟수\n",
              "0   144663  ...  2175\n",
              "1   116573  ...  2121\n",
              "2   357367  ...  1981\n",
              "3   366786  ...  1919\n",
              "4   654757  ...  1647\n",
              "5   133143  ...  1633\n",
              "6   349492  ...  1599\n",
              "7   675115  ...  1598\n",
              "8   463173  ...  1544\n",
              "9    42155  ...  1540\n",
              "10  396828  ...  1538\n",
              "11  610933  ...  1538\n",
              "12  461341  ...  1526\n",
              "13  174749  ...  1512\n",
              "14  520093  ...  1508\n",
              "15  701557  ...  1507\n",
              "16  549178  ...  1501\n",
              "17  485155  ...  1492\n",
              "18  650494  ...  1479\n",
              "19  523521  ...  1476\n",
              "20   13281  ...  1473\n",
              "21  648628  ...  1470\n",
              "22  449244  ...  1468\n",
              "23  680366  ...  1467\n",
              "24  169984  ...  1463\n",
              "25  422915  ...  1455\n",
              "26   11657  ...  1452\n",
              "27  418935  ...  1446\n",
              "28  187047  ...  1437\n",
              "29  547967  ...  1434\n",
              "\n",
              "[30 rows x 4 columns]"
            ]
          },
          "metadata": {
            "tags": []
          },
          "execution_count": 64
        }
      ]
    },
    {
      "cell_type": "markdown",
      "metadata": {
        "id": "JUJkN0EcUoYP"
      },
      "source": [
        "#### 단일 수록 곡의 장르 중 가장 많은 곡이 가지고 있는 장르 상위 30개"
      ]
    },
    {
      "cell_type": "code",
      "metadata": {
        "id": "8oUVp9xAUBaz",
        "outputId": "b802ab78-2835-4e6e-e973-5817c9f874a0",
        "colab": {
          "base_uri": "https://localhost:8080/",
          "height": 438
        }
      },
      "source": [
        "# 1. 곡별 자신을 수록한 플레이리스트 수 테이블에서 단일 수록 곡만 필터링 하여 테이블 생성 : single_song\n",
        "single_included_song = song_plylst_count[song_plylst_count['mapping_plylst_cnt_category'] == '단일 수록']\n",
        "\n",
        "# 2-1. join 목적으로 곡 아이디 integer to string 변환\n",
        "single_included_song['곡 리스트'] = single_included_song['곡 리스트'].astype(str)\n",
        "\n",
        "# 2-2. 단일 수록 곡 테이블 single_included_song + 곡 메타 song join : 아티스트 기준 single_song_artist, 장르 기준 single_song_gnr\n",
        "single_song_artist = pd.merge(single_included_song, song[['곡 ID', '곡 제목', '아티스트 리스트']], how = 'left', left_on = '곡 리스트', right_on = '곡 ID')\n",
        "single_included_song_genre = pd.merge(single_included_song, song_genre, how = 'left', left_on = '곡 리스트', right_on = 'song_id')\n",
        "single_included_song_genre"
      ],
      "execution_count": null,
      "outputs": [
        {
          "output_type": "execute_result",
          "data": {
            "text/html": [
              "<div>\n",
              "<style scoped>\n",
              "    .dataframe tbody tr th:only-of-type {\n",
              "        vertical-align: middle;\n",
              "    }\n",
              "\n",
              "    .dataframe tbody tr th {\n",
              "        vertical-align: top;\n",
              "    }\n",
              "\n",
              "    .dataframe thead th {\n",
              "        text-align: right;\n",
              "    }\n",
              "</style>\n",
              "<table border=\"1\" class=\"dataframe\">\n",
              "  <thead>\n",
              "    <tr style=\"text-align: right;\">\n",
              "      <th></th>\n",
              "      <th>곡 리스트</th>\n",
              "      <th>mapping_plylst_cnt</th>\n",
              "      <th>mapping_plylst_cnt_category</th>\n",
              "      <th>song_id</th>\n",
              "      <th>gnr_code</th>\n",
              "    </tr>\n",
              "  </thead>\n",
              "  <tbody>\n",
              "    <tr>\n",
              "      <th>0</th>\n",
              "      <td>100002</td>\n",
              "      <td>1</td>\n",
              "      <td>단일 수록</td>\n",
              "      <td>100002</td>\n",
              "      <td>GN1100</td>\n",
              "    </tr>\n",
              "    <tr>\n",
              "      <th>1</th>\n",
              "      <td>100004</td>\n",
              "      <td>1</td>\n",
              "      <td>단일 수록</td>\n",
              "      <td>100004</td>\n",
              "      <td>GN1800</td>\n",
              "    </tr>\n",
              "    <tr>\n",
              "      <th>2</th>\n",
              "      <td>100007</td>\n",
              "      <td>1</td>\n",
              "      <td>단일 수록</td>\n",
              "      <td>100007</td>\n",
              "      <td>GN0500</td>\n",
              "    </tr>\n",
              "    <tr>\n",
              "      <th>3</th>\n",
              "      <td>100007</td>\n",
              "      <td>1</td>\n",
              "      <td>단일 수록</td>\n",
              "      <td>100007</td>\n",
              "      <td>GN0400</td>\n",
              "    </tr>\n",
              "    <tr>\n",
              "      <th>4</th>\n",
              "      <td>100009</td>\n",
              "      <td>1</td>\n",
              "      <td>단일 수록</td>\n",
              "      <td>100009</td>\n",
              "      <td>GN1600</td>\n",
              "    </tr>\n",
              "    <tr>\n",
              "      <th>...</th>\n",
              "      <td>...</td>\n",
              "      <td>...</td>\n",
              "      <td>...</td>\n",
              "      <td>...</td>\n",
              "      <td>...</td>\n",
              "    </tr>\n",
              "    <tr>\n",
              "      <th>325731</th>\n",
              "      <td>99988</td>\n",
              "      <td>1</td>\n",
              "      <td>단일 수록</td>\n",
              "      <td>99988</td>\n",
              "      <td>GN1100</td>\n",
              "    </tr>\n",
              "    <tr>\n",
              "      <th>325732</th>\n",
              "      <td>9999</td>\n",
              "      <td>1</td>\n",
              "      <td>단일 수록</td>\n",
              "      <td>9999</td>\n",
              "      <td>GN1600</td>\n",
              "    </tr>\n",
              "    <tr>\n",
              "      <th>325733</th>\n",
              "      <td>99991</td>\n",
              "      <td>1</td>\n",
              "      <td>단일 수록</td>\n",
              "      <td>99991</td>\n",
              "      <td>GN1200</td>\n",
              "    </tr>\n",
              "    <tr>\n",
              "      <th>325734</th>\n",
              "      <td>99993</td>\n",
              "      <td>1</td>\n",
              "      <td>단일 수록</td>\n",
              "      <td>99993</td>\n",
              "      <td>GN1000</td>\n",
              "    </tr>\n",
              "    <tr>\n",
              "      <th>325735</th>\n",
              "      <td>99997</td>\n",
              "      <td>1</td>\n",
              "      <td>단일 수록</td>\n",
              "      <td>99997</td>\n",
              "      <td>GN1300</td>\n",
              "    </tr>\n",
              "  </tbody>\n",
              "</table>\n",
              "<p>325736 rows × 5 columns</p>\n",
              "</div>"
            ],
            "text/plain": [
              "         곡 리스트  mapping_plylst_cnt mapping_plylst_cnt_category song_id gnr_code\n",
              "0       100002                   1                       단일 수록  100002   GN1100\n",
              "1       100004                   1                       단일 수록  100004   GN1800\n",
              "2       100007                   1                       단일 수록  100007   GN0500\n",
              "3       100007                   1                       단일 수록  100007   GN0400\n",
              "4       100009                   1                       단일 수록  100009   GN1600\n",
              "...        ...                 ...                         ...     ...      ...\n",
              "325731   99988                   1                       단일 수록   99988   GN1100\n",
              "325732    9999                   1                       단일 수록    9999   GN1600\n",
              "325733   99991                   1                       단일 수록   99991   GN1200\n",
              "325734   99993                   1                       단일 수록   99993   GN1000\n",
              "325735   99997                   1                       단일 수록   99997   GN1300\n",
              "\n",
              "[325736 rows x 5 columns]"
            ]
          },
          "metadata": {
            "tags": []
          },
          "execution_count": 65
        }
      ]
    },
    {
      "cell_type": "code",
      "metadata": {
        "id": "cykPzTxYs1qe",
        "outputId": "beec0afc-2732-4560-d69b-3b1813e2ded4",
        "colab": {
          "base_uri": "https://localhost:8080/",
          "height": 935
        }
      },
      "source": [
        "# 3. 수록 곡 개수 기준 상위 30개 장르 : genre_single_song_count\n",
        "# genre_single_song_count : 장르 - 그 장르를 가지는 플레이리스트에 한번만 수록된 곡의 수 \n",
        "# 한번만 수록되었다는 것은 인기있는 곡이 아닐 수 있다. \n",
        "genre_single_song_count = single_included_song_genre.groupby('gnr_code')['곡 리스트'].nunique().reset_index(name = 'song_cnt')\n",
        "\n",
        "(\n",
        "    pd.merge(genre_single_song_count, genre, how = 'left', on = 'gnr_code')[['gnr_code', 'gnr_name', 'song_cnt']]\n",
        "    .rename(columns = {'gnr_code' : '대분류 장르코드', 'gnr_name' : '장르명', 'song_cnt' : '수록 곡 수'}) # 컬럼이름 변경\n",
        "    .sort_values('수록 곡 수', ascending = False) # 수록곡의 수 기준으로 내림차순 정렬\n",
        ")"
      ],
      "execution_count": null,
      "outputs": [
        {
          "output_type": "execute_result",
          "data": {
            "text/html": [
              "<div>\n",
              "<style scoped>\n",
              "    .dataframe tbody tr th:only-of-type {\n",
              "        vertical-align: middle;\n",
              "    }\n",
              "\n",
              "    .dataframe tbody tr th {\n",
              "        vertical-align: top;\n",
              "    }\n",
              "\n",
              "    .dataframe thead th {\n",
              "        text-align: right;\n",
              "    }\n",
              "</style>\n",
              "<table border=\"1\" class=\"dataframe\">\n",
              "  <thead>\n",
              "    <tr style=\"text-align: right;\">\n",
              "      <th></th>\n",
              "      <th>대분류 장르코드</th>\n",
              "      <th>장르명</th>\n",
              "      <th>수록 곡 수</th>\n",
              "    </tr>\n",
              "  </thead>\n",
              "  <tbody>\n",
              "    <tr>\n",
              "      <th>15</th>\n",
              "      <td>GN1600</td>\n",
              "      <td>클래식</td>\n",
              "      <td>32841</td>\n",
              "    </tr>\n",
              "    <tr>\n",
              "      <th>8</th>\n",
              "      <td>GN0900</td>\n",
              "      <td>POP</td>\n",
              "      <td>30987</td>\n",
              "    </tr>\n",
              "    <tr>\n",
              "      <th>9</th>\n",
              "      <td>GN1000</td>\n",
              "      <td>록/메탈</td>\n",
              "      <td>30028</td>\n",
              "    </tr>\n",
              "    <tr>\n",
              "      <th>10</th>\n",
              "      <td>GN1100</td>\n",
              "      <td>일렉트로니카</td>\n",
              "      <td>25725</td>\n",
              "    </tr>\n",
              "    <tr>\n",
              "      <th>16</th>\n",
              "      <td>GN1700</td>\n",
              "      <td>재즈</td>\n",
              "      <td>23158</td>\n",
              "    </tr>\n",
              "    <tr>\n",
              "      <th>17</th>\n",
              "      <td>GN1800</td>\n",
              "      <td>뉴에이지</td>\n",
              "      <td>19370</td>\n",
              "    </tr>\n",
              "    <tr>\n",
              "      <th>14</th>\n",
              "      <td>GN1500</td>\n",
              "      <td>OST</td>\n",
              "      <td>16855</td>\n",
              "    </tr>\n",
              "    <tr>\n",
              "      <th>11</th>\n",
              "      <td>GN1200</td>\n",
              "      <td>랩/힙합</td>\n",
              "      <td>15054</td>\n",
              "    </tr>\n",
              "    <tr>\n",
              "      <th>0</th>\n",
              "      <td>GN0100</td>\n",
              "      <td>발라드</td>\n",
              "      <td>14575</td>\n",
              "    </tr>\n",
              "    <tr>\n",
              "      <th>12</th>\n",
              "      <td>GN1300</td>\n",
              "      <td>R&amp;B/Soul</td>\n",
              "      <td>13136</td>\n",
              "    </tr>\n",
              "    <tr>\n",
              "      <th>4</th>\n",
              "      <td>GN0500</td>\n",
              "      <td>인디음악</td>\n",
              "      <td>12560</td>\n",
              "    </tr>\n",
              "    <tr>\n",
              "      <th>20</th>\n",
              "      <td>GN2100</td>\n",
              "      <td>CCM</td>\n",
              "      <td>10376</td>\n",
              "    </tr>\n",
              "    <tr>\n",
              "      <th>18</th>\n",
              "      <td>GN1900</td>\n",
              "      <td>J-POP</td>\n",
              "      <td>9871</td>\n",
              "    </tr>\n",
              "    <tr>\n",
              "      <th>5</th>\n",
              "      <td>GN0600</td>\n",
              "      <td>록/메탈</td>\n",
              "      <td>9386</td>\n",
              "    </tr>\n",
              "    <tr>\n",
              "      <th>21</th>\n",
              "      <td>GN2200</td>\n",
              "      <td>어린이/태교</td>\n",
              "      <td>8665</td>\n",
              "    </tr>\n",
              "    <tr>\n",
              "      <th>19</th>\n",
              "      <td>GN2000</td>\n",
              "      <td>월드뮤직</td>\n",
              "      <td>8073</td>\n",
              "    </tr>\n",
              "    <tr>\n",
              "      <th>2</th>\n",
              "      <td>GN0300</td>\n",
              "      <td>랩/힙합</td>\n",
              "      <td>7712</td>\n",
              "    </tr>\n",
              "    <tr>\n",
              "      <th>13</th>\n",
              "      <td>GN1400</td>\n",
              "      <td>포크/블루스/컨트리</td>\n",
              "      <td>6901</td>\n",
              "    </tr>\n",
              "    <tr>\n",
              "      <th>6</th>\n",
              "      <td>GN0700</td>\n",
              "      <td>성인가요</td>\n",
              "      <td>6161</td>\n",
              "    </tr>\n",
              "    <tr>\n",
              "      <th>1</th>\n",
              "      <td>GN0200</td>\n",
              "      <td>댄스</td>\n",
              "      <td>4672</td>\n",
              "    </tr>\n",
              "    <tr>\n",
              "      <th>7</th>\n",
              "      <td>GN0800</td>\n",
              "      <td>포크/블루스</td>\n",
              "      <td>4403</td>\n",
              "    </tr>\n",
              "    <tr>\n",
              "      <th>26</th>\n",
              "      <td>GN2700</td>\n",
              "      <td>EDM</td>\n",
              "      <td>3806</td>\n",
              "    </tr>\n",
              "    <tr>\n",
              "      <th>3</th>\n",
              "      <td>GN0400</td>\n",
              "      <td>R&amp;B/Soul</td>\n",
              "      <td>3125</td>\n",
              "    </tr>\n",
              "    <tr>\n",
              "      <th>25</th>\n",
              "      <td>GN2600</td>\n",
              "      <td>일렉트로니카</td>\n",
              "      <td>2292</td>\n",
              "    </tr>\n",
              "    <tr>\n",
              "      <th>23</th>\n",
              "      <td>GN2400</td>\n",
              "      <td>국악</td>\n",
              "      <td>1226</td>\n",
              "    </tr>\n",
              "    <tr>\n",
              "      <th>24</th>\n",
              "      <td>GN2500</td>\n",
              "      <td>아이돌</td>\n",
              "      <td>1134</td>\n",
              "    </tr>\n",
              "    <tr>\n",
              "      <th>29</th>\n",
              "      <td>GN9000</td>\n",
              "      <td>NaN</td>\n",
              "      <td>924</td>\n",
              "    </tr>\n",
              "    <tr>\n",
              "      <th>27</th>\n",
              "      <td>GN2800</td>\n",
              "      <td>뮤직테라피</td>\n",
              "      <td>909</td>\n",
              "    </tr>\n",
              "    <tr>\n",
              "      <th>28</th>\n",
              "      <td>GN2900</td>\n",
              "      <td>뮤지컬</td>\n",
              "      <td>818</td>\n",
              "    </tr>\n",
              "    <tr>\n",
              "      <th>22</th>\n",
              "      <td>GN2300</td>\n",
              "      <td>종교음악</td>\n",
              "      <td>528</td>\n",
              "    </tr>\n",
              "  </tbody>\n",
              "</table>\n",
              "</div>"
            ],
            "text/plain": [
              "   대분류 장르코드         장르명  수록 곡 수\n",
              "15   GN1600         클래식   32841\n",
              "8    GN0900         POP   30987\n",
              "9    GN1000        록/메탈   30028\n",
              "10   GN1100      일렉트로니카   25725\n",
              "16   GN1700          재즈   23158\n",
              "17   GN1800        뉴에이지   19370\n",
              "14   GN1500         OST   16855\n",
              "11   GN1200        랩/힙합   15054\n",
              "0    GN0100         발라드   14575\n",
              "12   GN1300    R&B/Soul   13136\n",
              "4    GN0500        인디음악   12560\n",
              "20   GN2100         CCM   10376\n",
              "18   GN1900       J-POP    9871\n",
              "5    GN0600        록/메탈    9386\n",
              "21   GN2200      어린이/태교    8665\n",
              "19   GN2000        월드뮤직    8073\n",
              "2    GN0300        랩/힙합    7712\n",
              "13   GN1400  포크/블루스/컨트리    6901\n",
              "6    GN0700        성인가요    6161\n",
              "1    GN0200          댄스    4672\n",
              "7    GN0800      포크/블루스    4403\n",
              "26   GN2700         EDM    3806\n",
              "3    GN0400    R&B/Soul    3125\n",
              "25   GN2600      일렉트로니카    2292\n",
              "23   GN2400          국악    1226\n",
              "24   GN2500         아이돌    1134\n",
              "29   GN9000         NaN     924\n",
              "27   GN2800       뮤직테라피     909\n",
              "28   GN2900         뮤지컬     818\n",
              "22   GN2300        종교음악     528"
            ]
          },
          "metadata": {
            "tags": []
          },
          "execution_count": 66
        }
      ]
    },
    {
      "cell_type": "markdown",
      "metadata": {
        "id": "XCtYGB3hVMiA"
      },
      "source": [
        "#### 중복 매핑 태그 비중"
      ]
    },
    {
      "cell_type": "code",
      "metadata": {
        "id": "42hvzeW-Uz8P",
        "outputId": "38d76e54-9f25-4983-f523-ed5490729f97",
        "colab": {
          "base_uri": "https://localhost:8080/",
          "height": 402
        }
      },
      "source": [
        "# 1. 태그 별 수록된 플레이리스트 개수 count 테이블 생성 : tag_plylst_count\n",
        "/\n",
        "tag_plylst_count = plylst_tag.groupby('태그 리스트').id.nunique().reset_index(name = 'mapping_plylst_cnt')\n",
        "\n",
        "# 2. 단일/중복 매핑 구분 : 태그 별 매핑된 플레이리스트가 한 개면 '단일 매핑', 두 개 이상이면 '중복 매핑'\n",
        "tag_plylst_count = tag_plylst_count.assign(\n",
        "    mapping_plylst_cnt_category = pd.cut(tag_plylst_count['mapping_plylst_cnt'], [0, 1, np.inf], labels = ['단일 매핑', '중복 매핑'])\n",
        ")\n",
        "# np.inf : 동일 길이로 나누어서 범주를 만든 후 GroupBy()로 그룹별 통계량 구하기 (참고 : https://rfriend.tistory.com/404)\n",
        "\n",
        "tag_plylst_count"
      ],
      "execution_count": null,
      "outputs": [
        {
          "output_type": "execute_result",
          "data": {
            "text/html": [
              "<div>\n",
              "<style scoped>\n",
              "    .dataframe tbody tr th:only-of-type {\n",
              "        vertical-align: middle;\n",
              "    }\n",
              "\n",
              "    .dataframe tbody tr th {\n",
              "        vertical-align: top;\n",
              "    }\n",
              "\n",
              "    .dataframe thead th {\n",
              "        text-align: right;\n",
              "    }\n",
              "</style>\n",
              "<table border=\"1\" class=\"dataframe\">\n",
              "  <thead>\n",
              "    <tr style=\"text-align: right;\">\n",
              "      <th></th>\n",
              "      <th>태그 리스트</th>\n",
              "      <th>mapping_plylst_cnt</th>\n",
              "      <th>mapping_plylst_cnt_category</th>\n",
              "    </tr>\n",
              "  </thead>\n",
              "  <tbody>\n",
              "    <tr>\n",
              "      <th>0</th>\n",
              "      <td></td>\n",
              "      <td>1</td>\n",
              "      <td>단일 매핑</td>\n",
              "    </tr>\n",
              "    <tr>\n",
              "      <th>1</th>\n",
              "      <td>00</td>\n",
              "      <td>4</td>\n",
              "      <td>중복 매핑</td>\n",
              "    </tr>\n",
              "    <tr>\n",
              "      <th>2</th>\n",
              "      <td>007</td>\n",
              "      <td>3</td>\n",
              "      <td>중복 매핑</td>\n",
              "    </tr>\n",
              "    <tr>\n",
              "      <th>3</th>\n",
              "      <td>007시리즈</td>\n",
              "      <td>2</td>\n",
              "      <td>중복 매핑</td>\n",
              "    </tr>\n",
              "    <tr>\n",
              "      <th>4</th>\n",
              "      <td>00s</td>\n",
              "      <td>3</td>\n",
              "      <td>중복 매핑</td>\n",
              "    </tr>\n",
              "    <tr>\n",
              "      <th>...</th>\n",
              "      <td>...</td>\n",
              "      <td>...</td>\n",
              "      <td>...</td>\n",
              "    </tr>\n",
              "    <tr>\n",
              "      <th>29155</th>\n",
              "      <td>힙해</td>\n",
              "      <td>5</td>\n",
              "      <td>중복 매핑</td>\n",
              "    </tr>\n",
              "    <tr>\n",
              "      <th>29156</th>\n",
              "      <td>힙힙힙</td>\n",
              "      <td>2</td>\n",
              "      <td>중복 매핑</td>\n",
              "    </tr>\n",
              "    <tr>\n",
              "      <th>29157</th>\n",
              "      <td>힛뎀포크</td>\n",
              "      <td>1</td>\n",
              "      <td>단일 매핑</td>\n",
              "    </tr>\n",
              "    <tr>\n",
              "      <th>29158</th>\n",
              "      <td>힛뎀폭</td>\n",
              "      <td>1</td>\n",
              "      <td>단일 매핑</td>\n",
              "    </tr>\n",
              "    <tr>\n",
              "      <th>29159</th>\n",
              "      <td>힛뎀폭스</td>\n",
              "      <td>2</td>\n",
              "      <td>중복 매핑</td>\n",
              "    </tr>\n",
              "  </tbody>\n",
              "</table>\n",
              "<p>29160 rows × 3 columns</p>\n",
              "</div>"
            ],
            "text/plain": [
              "       태그 리스트  mapping_plylst_cnt mapping_plylst_cnt_category\n",
              "0                               1                       단일 매핑\n",
              "1          00                   4                       중복 매핑\n",
              "2         007                   3                       중복 매핑\n",
              "3      007시리즈                   2                       중복 매핑\n",
              "4         00s                   3                       중복 매핑\n",
              "...       ...                 ...                         ...\n",
              "29155      힙해                   5                       중복 매핑\n",
              "29156     힙힙힙                   2                       중복 매핑\n",
              "29157    힛뎀포크                   1                       단일 매핑\n",
              "29158     힛뎀폭                   1                       단일 매핑\n",
              "29159    힛뎀폭스                   2                       중복 매핑\n",
              "\n",
              "[29160 rows x 3 columns]"
            ]
          },
          "metadata": {
            "tags": []
          },
          "execution_count": 67
        }
      ]
    },
    {
      "cell_type": "code",
      "metadata": {
        "id": "85bVytG7s6ju",
        "outputId": "a28d28a5-ace0-47b8-f729-9ace6a43eef5",
        "colab": {
          "base_uri": "https://localhost:8080/",
          "height": 106
        }
      },
      "source": [
        "# 3. 단일/중복 매핑 구분 별 태그 수 count 테이블 생성 : tag_plylst_mapping_division\n",
        "tag_plylst_mapping_division = pd.DataFrame(tag_plylst_count.groupby('mapping_plylst_cnt_category').count())\n",
        "\n",
        "# 4. 3번 테이블에 비율 값 추가\n",
        "tag_plylst_mapping_division.rename(columns = {'태그 리스트' : '태그 수'}, inplace = True)\n",
        "tag_plylst_mapping_division.loc[:, '비율(%)'] = round(tag_plylst_mapping_division['태그 수']/sum(tag_plylst_mapping_division['태그 수'])*100, 2)\n",
        "tag_plylst_mapping_division = tag_plylst_mapping_division.reset_index().rename(columns = {'mapping_plylst_cnt_category' : '중복 매핑 여부'})\n",
        "tag_plylst_mapping_division[['중복 매핑 여부', '태그 수', '비율(%)']]"
      ],
      "execution_count": null,
      "outputs": [
        {
          "output_type": "execute_result",
          "data": {
            "text/html": [
              "<div>\n",
              "<style scoped>\n",
              "    .dataframe tbody tr th:only-of-type {\n",
              "        vertical-align: middle;\n",
              "    }\n",
              "\n",
              "    .dataframe tbody tr th {\n",
              "        vertical-align: top;\n",
              "    }\n",
              "\n",
              "    .dataframe thead th {\n",
              "        text-align: right;\n",
              "    }\n",
              "</style>\n",
              "<table border=\"1\" class=\"dataframe\">\n",
              "  <thead>\n",
              "    <tr style=\"text-align: right;\">\n",
              "      <th></th>\n",
              "      <th>중복 매핑 여부</th>\n",
              "      <th>태그 수</th>\n",
              "      <th>비율(%)</th>\n",
              "    </tr>\n",
              "  </thead>\n",
              "  <tbody>\n",
              "    <tr>\n",
              "      <th>0</th>\n",
              "      <td>단일 매핑</td>\n",
              "      <td>17431</td>\n",
              "      <td>59.78</td>\n",
              "    </tr>\n",
              "    <tr>\n",
              "      <th>1</th>\n",
              "      <td>중복 매핑</td>\n",
              "      <td>11729</td>\n",
              "      <td>40.22</td>\n",
              "    </tr>\n",
              "  </tbody>\n",
              "</table>\n",
              "</div>"
            ],
            "text/plain": [
              "  중복 매핑 여부   태그 수  비율(%)\n",
              "0    단일 매핑  17431  59.78\n",
              "1    중복 매핑  11729  40.22"
            ]
          },
          "metadata": {
            "tags": []
          },
          "execution_count": 68
        }
      ]
    },
    {
      "cell_type": "markdown",
      "metadata": {
        "id": "30HmzjE5tCs2"
      },
      "source": [
        "- 태그의 매핑 중복 비율을 확인해본 결과 **전체 대비 약 40.2%는 두 개 이상 플레이리스트에 매핑된 태그**이며  \n",
        "  한 개 플레이리스트에만 매핑된 태그는 과반 이상의 비중을 차지합니다."
      ]
    },
    {
      "cell_type": "markdown",
      "metadata": {
        "id": "-MCslV5NtFv4"
      },
      "source": [
        "<br>"
      ]
    },
    {
      "cell_type": "markdown",
      "metadata": {
        "id": "mkiIxSbzVTyC"
      },
      "source": [
        "#### 플레이리스트명 중복 비중"
      ]
    },
    {
      "cell_type": "code",
      "metadata": {
        "id": "2FxvocdfVPSs",
        "outputId": "8c331223-b36d-448d-f3d3-d1d5122f36d0",
        "colab": {
          "base_uri": "https://localhost:8080/",
          "height": 402
        }
      },
      "source": [
        "# 1. 플레이리스트 아이디(id)와 플레이리스트 명(plylst_title) 추출\n",
        "plylst_title = train[['플레이리스트 ID', '플레이리스트 제목']]\n",
        "\n",
        "# 2. 플레이리스트 이름 별 플레이리스트 ID count 테이블 생성 :  plylst_id_count\n",
        "plylst_id_count = plylst_title.groupby('플레이리스트 제목')['플레이리스트 ID'].nunique().reset_index(name = 'mapping_plylst_cnt')\n",
        "plylst_id_count"
      ],
      "execution_count": null,
      "outputs": [
        {
          "output_type": "execute_result",
          "data": {
            "text/html": [
              "<div>\n",
              "<style scoped>\n",
              "    .dataframe tbody tr th:only-of-type {\n",
              "        vertical-align: middle;\n",
              "    }\n",
              "\n",
              "    .dataframe tbody tr th {\n",
              "        vertical-align: top;\n",
              "    }\n",
              "\n",
              "    .dataframe thead th {\n",
              "        text-align: right;\n",
              "    }\n",
              "</style>\n",
              "<table border=\"1\" class=\"dataframe\">\n",
              "  <thead>\n",
              "    <tr style=\"text-align: right;\">\n",
              "      <th></th>\n",
              "      <th>플레이리스트 제목</th>\n",
              "      <th>mapping_plylst_cnt</th>\n",
              "    </tr>\n",
              "  </thead>\n",
              "  <tbody>\n",
              "    <tr>\n",
              "      <th>0</th>\n",
              "      <td>[헤어진 날] 꺼내 듣는 노래모음</td>\n",
              "      <td>1</td>\n",
              "    </tr>\n",
              "    <tr>\n",
              "      <th>1</th>\n",
              "      <td>○ 여행&amp;드라이브 차안에서 함께들의면 기분좋아지는 리스트 ○</td>\n",
              "      <td>1</td>\n",
              "    </tr>\n",
              "    <tr>\n",
              "      <th>2</th>\n",
              "      <td># 추억의 댄스 가요(운동, 드라이브)</td>\n",
              "      <td>1</td>\n",
              "    </tr>\n",
              "    <tr>\n",
              "      <th>3</th>\n",
              "      <td>#Sleep</td>\n",
              "      <td>1</td>\n",
              "    </tr>\n",
              "    <tr>\n",
              "      <th>4</th>\n",
              "      <td>#가을 #비 #밤 #새벽</td>\n",
              "      <td>1</td>\n",
              "    </tr>\n",
              "    <tr>\n",
              "      <th>...</th>\n",
              "      <td>...</td>\n",
              "      <td>...</td>\n",
              "    </tr>\n",
              "    <tr>\n",
              "      <th>110526</th>\n",
              "      <td>＊팝으로말하는 사랑 이야기＊</td>\n",
              "      <td>1</td>\n",
              "    </tr>\n",
              "    <tr>\n",
              "      <th>110527</th>\n",
              "      <td>＊＊＊</td>\n",
              "      <td>1</td>\n",
              "    </tr>\n",
              "    <tr>\n",
              "      <th>110528</th>\n",
              "      <td>＊＊＊nb＊＊＊</td>\n",
              "      <td>1</td>\n",
              "    </tr>\n",
              "    <tr>\n",
              "      <th>110529</th>\n",
              "      <td>＿Now and Here</td>\n",
              "      <td>1</td>\n",
              "    </tr>\n",
              "    <tr>\n",
              "      <th>110530</th>\n",
              "      <td>ｓｅｎｓｕｏｕｓ</td>\n",
              "      <td>1</td>\n",
              "    </tr>\n",
              "  </tbody>\n",
              "</table>\n",
              "<p>110531 rows × 2 columns</p>\n",
              "</div>"
            ],
            "text/plain": [
              "                                  플레이리스트 제목  mapping_plylst_cnt\n",
              "0                        [헤어진 날] 꺼내 듣는 노래모음                   1\n",
              "1         ○ 여행&드라이브 차안에서 함께들의면 기분좋아지는 리스트 ○                   1\n",
              "2                     # 추억의 댄스 가요(운동, 드라이브)                   1\n",
              "3                                    #Sleep                   1\n",
              "4                             #가을 #비 #밤 #새벽                   1\n",
              "...                                     ...                 ...\n",
              "110526                      ＊팝으로말하는 사랑 이야기＊                   1\n",
              "110527                                  ＊＊＊                   1\n",
              "110528                             ＊＊＊nb＊＊＊                   1\n",
              "110529                        ＿Now and Here                   1\n",
              "110530                             ｓｅｎｓｕｏｕｓ                   1\n",
              "\n",
              "[110531 rows x 2 columns]"
            ]
          },
          "metadata": {
            "tags": []
          },
          "execution_count": 69
        }
      ]
    },
    {
      "cell_type": "code",
      "metadata": {
        "id": "xyeyMFK6tKOx",
        "outputId": "a2243b68-15a1-4f82-ec81-9fd2e12bafe1",
        "colab": {
          "base_uri": "https://localhost:8080/",
          "height": 136
        }
      },
      "source": [
        "# 3. 플레이리스트 명 중복 구분 파생컬럼 추가\n",
        "# mapping_plylst_cnt이 1이면 '중복 없음', 그 외 '중복 있음'\n",
        "plylst_id_count =  plylst_id_count.assign(\n",
        "    mapping_plylst_cnt_category = pd.cut(plylst_id_count['mapping_plylst_cnt'], [0, 1, np.inf], labels = ['중복 없음', '중복 있음'])\n",
        ")\n",
        "\n",
        "# 4. 중복 구분 별 플레이리스트 수 count 테이블 생성 : plylst_id_count_division\n",
        "plylst_id_count_division = pd.DataFrame( plylst_id_count.groupby('mapping_plylst_cnt_category').count())\n",
        "\n",
        "plylst_id_count_division"
      ],
      "execution_count": null,
      "outputs": [
        {
          "output_type": "execute_result",
          "data": {
            "text/html": [
              "<div>\n",
              "<style scoped>\n",
              "    .dataframe tbody tr th:only-of-type {\n",
              "        vertical-align: middle;\n",
              "    }\n",
              "\n",
              "    .dataframe tbody tr th {\n",
              "        vertical-align: top;\n",
              "    }\n",
              "\n",
              "    .dataframe thead th {\n",
              "        text-align: right;\n",
              "    }\n",
              "</style>\n",
              "<table border=\"1\" class=\"dataframe\">\n",
              "  <thead>\n",
              "    <tr style=\"text-align: right;\">\n",
              "      <th></th>\n",
              "      <th>플레이리스트 제목</th>\n",
              "      <th>mapping_plylst_cnt</th>\n",
              "    </tr>\n",
              "    <tr>\n",
              "      <th>mapping_plylst_cnt_category</th>\n",
              "      <th></th>\n",
              "      <th></th>\n",
              "    </tr>\n",
              "  </thead>\n",
              "  <tbody>\n",
              "    <tr>\n",
              "      <th>중복 없음</th>\n",
              "      <td>108214</td>\n",
              "      <td>108214</td>\n",
              "    </tr>\n",
              "    <tr>\n",
              "      <th>중복 있음</th>\n",
              "      <td>2317</td>\n",
              "      <td>2317</td>\n",
              "    </tr>\n",
              "  </tbody>\n",
              "</table>\n",
              "</div>"
            ],
            "text/plain": [
              "                             플레이리스트 제목  mapping_plylst_cnt\n",
              "mapping_plylst_cnt_category                               \n",
              "중복 없음                           108214              108214\n",
              "중복 있음                             2317                2317"
            ]
          },
          "metadata": {
            "tags": []
          },
          "execution_count": 70
        }
      ]
    },
    {
      "cell_type": "code",
      "metadata": {
        "id": "s1jEXFUPtJ_n",
        "outputId": "244bf2b8-fba6-4120-80d7-395f01f3b791",
        "colab": {
          "base_uri": "https://localhost:8080/",
          "height": 106
        }
      },
      "source": [
        "# 5. 4번 테이블에 비율 값 추가\n",
        "plylst_id_count_division.rename(columns = {'mapping_plylst_cnt' : '플레이리스트 아이디 수'}, inplace = True)\n",
        "plylst_id_count_division.loc[:, '비율(%)'] = round(plylst_id_count_division['플레이리스트 아이디 수']/sum(plylst_id_count_division['플레이리스트 아이디 수'])*100, 2)\n",
        "plylst_id_count_division = plylst_id_count_division.reset_index().rename(columns = {'mapping_plylst_cnt_category' : '중복 이름 여부'})\n",
        "plylst_id_count_division.loc[:, ['중복 이름 여부', '플레이리스트 아이디 수', '비율(%)']]"
      ],
      "execution_count": null,
      "outputs": [
        {
          "output_type": "execute_result",
          "data": {
            "text/html": [
              "<div>\n",
              "<style scoped>\n",
              "    .dataframe tbody tr th:only-of-type {\n",
              "        vertical-align: middle;\n",
              "    }\n",
              "\n",
              "    .dataframe tbody tr th {\n",
              "        vertical-align: top;\n",
              "    }\n",
              "\n",
              "    .dataframe thead th {\n",
              "        text-align: right;\n",
              "    }\n",
              "</style>\n",
              "<table border=\"1\" class=\"dataframe\">\n",
              "  <thead>\n",
              "    <tr style=\"text-align: right;\">\n",
              "      <th></th>\n",
              "      <th>중복 이름 여부</th>\n",
              "      <th>플레이리스트 아이디 수</th>\n",
              "      <th>비율(%)</th>\n",
              "    </tr>\n",
              "  </thead>\n",
              "  <tbody>\n",
              "    <tr>\n",
              "      <th>0</th>\n",
              "      <td>중복 없음</td>\n",
              "      <td>108214</td>\n",
              "      <td>97.9</td>\n",
              "    </tr>\n",
              "    <tr>\n",
              "      <th>1</th>\n",
              "      <td>중복 있음</td>\n",
              "      <td>2317</td>\n",
              "      <td>2.1</td>\n",
              "    </tr>\n",
              "  </tbody>\n",
              "</table>\n",
              "</div>"
            ],
            "text/plain": [
              "  중복 이름 여부  플레이리스트 아이디 수  비율(%)\n",
              "0    중복 없음        108214   97.9\n",
              "1    중복 있음          2317    2.1"
            ]
          },
          "metadata": {
            "tags": []
          },
          "execution_count": 71
        }
      ]
    },
    {
      "cell_type": "markdown",
      "metadata": {
        "id": "3hCBG8GmtctJ"
      },
      "source": [
        "- 또한 **플레이리스트 아이디는 다르지만 같은 이름을 갖는 플레이리스트도 전체 대비 약 2% 정도**로 소수 존재 합니다.\n",
        "- 이러한 플레이리스트들은 대부분 곡 수와 태그 수도 비슷한 편이 많았습니다. -> 확인 필요"
      ]
    },
    {
      "cell_type": "markdown",
      "metadata": {
        "id": "VW6mFQXetepn"
      },
      "source": [
        "<br>"
      ]
    },
    {
      "cell_type": "markdown",
      "metadata": {
        "id": "j6T8LMYiVjMq"
      },
      "source": [
        "### 많은 빈도를 보이는 태그"
      ]
    },
    {
      "cell_type": "code",
      "metadata": {
        "id": "o3ezSo9QVkha",
        "outputId": "25828cf8-f5b7-46db-bf9d-9f89b2606cc1",
        "colab": {
          "base_uri": "https://localhost:8080/",
          "height": 402
        }
      },
      "source": [
        "# 태그 별 매핑 빈도 수 저장 \n",
        "# 플레이리스트 id - 태그 테이블을 태그를 기준으로 그룹핑한 후, 행의 수(그 태그를 가지는 플레이리스트의 수)를 계산 \n",
        "# 기존에 tags컬럼이 라벨이었던 것에서 새로 정수 라벨을 만들고, 플레이리스트 수를 나타내는 컬럼의 이름을 mapping_cnt로 바꾼다. \n",
        "tag_count = plylst_tag.groupby('태그 리스트')['태그 리스트'].count().reset_index(name = 'mapping_cnt')\n",
        "# tag_cnt['tags'] = tag_cnt['tags'].astype(str) # tags의 타입을 문자열로 형변환 \n",
        "# tag_cnt['mapping_cnt'] = tag_cnt['mapping_cnt'].astype(int) # mapping_cnt열의 타입을 int로 형변환\n",
        "tag_count"
      ],
      "execution_count": null,
      "outputs": [
        {
          "output_type": "execute_result",
          "data": {
            "text/html": [
              "<div>\n",
              "<style scoped>\n",
              "    .dataframe tbody tr th:only-of-type {\n",
              "        vertical-align: middle;\n",
              "    }\n",
              "\n",
              "    .dataframe tbody tr th {\n",
              "        vertical-align: top;\n",
              "    }\n",
              "\n",
              "    .dataframe thead th {\n",
              "        text-align: right;\n",
              "    }\n",
              "</style>\n",
              "<table border=\"1\" class=\"dataframe\">\n",
              "  <thead>\n",
              "    <tr style=\"text-align: right;\">\n",
              "      <th></th>\n",
              "      <th>태그 리스트</th>\n",
              "      <th>mapping_cnt</th>\n",
              "    </tr>\n",
              "  </thead>\n",
              "  <tbody>\n",
              "    <tr>\n",
              "      <th>0</th>\n",
              "      <td></td>\n",
              "      <td>1</td>\n",
              "    </tr>\n",
              "    <tr>\n",
              "      <th>1</th>\n",
              "      <td>00</td>\n",
              "      <td>4</td>\n",
              "    </tr>\n",
              "    <tr>\n",
              "      <th>2</th>\n",
              "      <td>007</td>\n",
              "      <td>3</td>\n",
              "    </tr>\n",
              "    <tr>\n",
              "      <th>3</th>\n",
              "      <td>007시리즈</td>\n",
              "      <td>2</td>\n",
              "    </tr>\n",
              "    <tr>\n",
              "      <th>4</th>\n",
              "      <td>00s</td>\n",
              "      <td>3</td>\n",
              "    </tr>\n",
              "    <tr>\n",
              "      <th>...</th>\n",
              "      <td>...</td>\n",
              "      <td>...</td>\n",
              "    </tr>\n",
              "    <tr>\n",
              "      <th>29155</th>\n",
              "      <td>힙해</td>\n",
              "      <td>5</td>\n",
              "    </tr>\n",
              "    <tr>\n",
              "      <th>29156</th>\n",
              "      <td>힙힙힙</td>\n",
              "      <td>2</td>\n",
              "    </tr>\n",
              "    <tr>\n",
              "      <th>29157</th>\n",
              "      <td>힛뎀포크</td>\n",
              "      <td>1</td>\n",
              "    </tr>\n",
              "    <tr>\n",
              "      <th>29158</th>\n",
              "      <td>힛뎀폭</td>\n",
              "      <td>1</td>\n",
              "    </tr>\n",
              "    <tr>\n",
              "      <th>29159</th>\n",
              "      <td>힛뎀폭스</td>\n",
              "      <td>2</td>\n",
              "    </tr>\n",
              "  </tbody>\n",
              "</table>\n",
              "<p>29160 rows × 2 columns</p>\n",
              "</div>"
            ],
            "text/plain": [
              "       태그 리스트  mapping_cnt\n",
              "0                        1\n",
              "1          00            4\n",
              "2         007            3\n",
              "3      007시리즈            2\n",
              "4         00s            3\n",
              "...       ...          ...\n",
              "29155      힙해            5\n",
              "29156     힙힙힙            2\n",
              "29157    힛뎀포크            1\n",
              "29158     힛뎀폭            1\n",
              "29159    힛뎀폭스            2\n",
              "\n",
              "[29160 rows x 2 columns]"
            ]
          },
          "metadata": {
            "tags": []
          },
          "execution_count": 72
        }
      ]
    },
    {
      "cell_type": "code",
      "metadata": {
        "id": "YM4HzD_iVXyo",
        "outputId": "ae551983-5620-4dbe-f3dd-4328a1db5d3c",
        "colab": {
          "base_uri": "https://localhost:8080/"
        }
      },
      "source": [
        "# 빈도 수가 1000회 이상인 태그만 뽑아서 태그와 빈도수 쌍을 word_count에 저장\n",
        "tag_count = tag_count[tag_count['mapping_cnt'] >= 1000]\n",
        "word_count = list(zip(tag_count['태그 리스트'], tag_count['mapping_cnt'])) # zip 내장함수 : 동일한 개수로 이루어진 자료형을 묶어 주는 역할\n",
        "word_count"
      ],
      "execution_count": null,
      "outputs": [
        {
          "output_type": "execute_result",
          "data": {
            "text/plain": [
              "[('EDM', 1528),\n",
              " ('OST', 2323),\n",
              " ('Pop', 3248),\n",
              " ('가을', 4042),\n",
              " ('감성', 11417),\n",
              " ('겨울', 3965),\n",
              " ('그루브', 1237),\n",
              " ('기분전환', 16465),\n",
              " ('까페', 2856),\n",
              " ('뉴에이지', 3493),\n",
              " ('댄스', 3293),\n",
              " ('드라이브', 10095),\n",
              " ('락', 4007),\n",
              " ('랩', 3421),\n",
              " ('매장', 1311),\n",
              " ('매장음악', 4576),\n",
              " ('명곡', 1445),\n",
              " ('발라드', 10796),\n",
              " ('밤', 7615),\n",
              " ('봄', 3387),\n",
              " ('분위기', 2467),\n",
              " ('비오는날', 2982),\n",
              " ('사랑', 8704),\n",
              " ('산책', 2731),\n",
              " ('새벽', 8320),\n",
              " ('설렘', 4910),\n",
              " ('소울', 1871),\n",
              " ('스트레스', 3925),\n",
              " ('슬픔', 3527),\n",
              " ('신나는', 4861),\n",
              " ('아이돌', 1322),\n",
              " ('아침', 1183),\n",
              " ('알앤비', 3186),\n",
              " ('어쿠스틱', 1241),\n",
              " ('여름', 3297),\n",
              " ('여행', 4559),\n",
              " ('연주곡', 1539),\n",
              " ('오후', 1338),\n",
              " ('우울', 1133),\n",
              " ('운동', 2646),\n",
              " ('위로', 1910),\n",
              " ('이별', 5400),\n",
              " ('인디', 4531),\n",
              " ('일렉', 2234),\n",
              " ('잔잔한', 10218),\n",
              " ('재즈', 3213),\n",
              " ('저녁', 1286),\n",
              " ('주말', 1490),\n",
              " ('추억', 6520),\n",
              " ('취향저격', 1352),\n",
              " ('카페', 6837),\n",
              " ('커피', 1356),\n",
              " ('클래식', 2155),\n",
              " ('클럽', 1644),\n",
              " ('트렌디', 1483),\n",
              " ('팝', 6425),\n",
              " ('팝송', 1623),\n",
              " ('편안한', 1094),\n",
              " ('피아노', 1920),\n",
              " ('회상', 4579),\n",
              " ('휴식', 11215),\n",
              " ('힐링', 9783),\n",
              " ('힙합', 6413)]"
            ]
          },
          "metadata": {
            "tags": []
          },
          "execution_count": 73
        }
      ]
    },
    {
      "cell_type": "code",
      "metadata": {
        "id": "pwhINtRmVgcd",
        "outputId": "8748f663-9d71-4ffc-89e7-130af7ae235f",
        "colab": {
          "base_uri": "https://localhost:8080/",
          "height": 605
        }
      },
      "source": [
        "# plotting - wordcloud \n",
        "melon_mask = np.array(Image.open(\"/content/drive/My Drive/Colab Notebooks/Data/melon_logo.png\"))\n",
        "wc = WordCloud(font_path = fontpath, background_color = \"white\", colormap=\"winter\",mask = melon_mask, max_words = 100, width = 450, height = 450,random_state=0)\n",
        "# 단어에대한 빈도표(dict(word_count))를 매개변수에 전달해 word_cloud를 만든다.\n",
        "wc.generate_from_frequencies(frequencies=dict(word_count)).to_image() "
      ],
      "execution_count": null,
      "outputs": [
        {
          "output_type": "execute_result",
          "data": {
            "image/png": "[encoded data removed]",
            "text/plain": [
              "<PIL.Image.Image image mode=RGB size=627x588 at 0x7F52901C47F0>"
            ]
          },
          "metadata": {
            "tags": []
          },
          "execution_count": 74
        }
      ]
    },
    {
      "cell_type": "markdown",
      "metadata": {
        "id": "TK9r7Ie4t_Ix"
      },
      "source": [
        "- 매핑 기준 상위 1,000번 이상 매핑된 태그를 살펴본 결과 **기분전환 태그명이 가장 높은 비중을 차지**하고 있으며  \n",
        "  여름/가을/겨울 등 계절이나 드라이브, 카페, 매장음악 등 특정 상황과 어울리는 태그 등이 상위권에 분포되어 있습니다.\n",
        "- 발라드, 힙합, 팝, 인디, 락, 댄스, 뉴에이지 등 **장르와 관련된 태그도 일부 상위권**에 속합니다."
      ]
    },
    {
      "cell_type": "code",
      "metadata": {
        "id": "obMR66NwuA1-",
        "outputId": "9919423e-379b-4f21-b5bd-9291a9549c34",
        "colab": {
          "base_uri": "https://localhost:8080/",
          "height": 895
        }
      },
      "source": [
        "# 1. unnest 데이터프레임인 plylst_tag테이블에서 태그 이름 정렬 후 list로 묶기\n",
        "plylst_tag_list_sort = plylst_tag.sort_values(by = ['플레이리스트 ID', '태그 리스트']).groupby('플레이리스트 ID')['태그 리스트'].apply(list).reset_index(name = 'tag_list')\n",
        "\n",
        "# 2. 집계를 위해 1번 테이블에서 list 타입을 문자열 타입으로 변경\n",
        "plylst_tag_list_sort['tag_list'] = plylst_tag_list_sort['tag_list'].astype(str)\n",
        "\n",
        "# 3. 태그 리스트 별 매핑되는 플레이리스트 수 집계 테이블 생성 : tag_list_plylst_count\n",
        "tag_list_plylst_count = plylst_tag_list_sort.groupby('tag_list')['플레이리스트 ID'].nunique().reset_index(name = 'plylst_cnt')\n",
        "\n",
        "# 4. 매핑 수 기준 상위 50개 필터링\n",
        "tag_list_plylst_count = tag_list_plylst_count.nlargest(50, 'plylst_cnt')\n",
        "\n",
        "# 5. plotting\n",
        "plt.figure(figsize = (11, 15))\n",
        "tag_list_plylst_count_plot = sns.barplot(y = 'tag_list', x = 'plylst_cnt', data = tag_list_plylst_count, color = 'grey')\n",
        "tag_list_plylst_count_plot.set_title('매핑된 태그 리스트 상위 50개')\n",
        "tag_list_plylst_count_plot.set_xlabel('매핑된 플레이리스트 수')\n",
        "tag_list_plylst_count_plot.set_ylabel('태그 리스트')\n",
        "plt.show()"
      ],
      "execution_count": null,
      "outputs": [
        {
          "output_type": "display_data",
          "data": {
            "image/png": "[encoded data removed]",
            "text/plain": [
              "<Figure size 792x1080 with 1 Axes>"
            ]
          },
          "metadata": {
            "tags": [],
            "image/png": {
              "width": 770,
              "height": 878
            },
            "needs_background": "light"
          }
        }
      ]
    },
    {
      "cell_type": "markdown",
      "metadata": {
        "id": "AcR98sQXuH2G"
      },
      "source": [
        "- 플레이리스트에 매핑된 태그 리스트를 기준으로 매핑 기준 상위 50개를 확인해본 결과  \n",
        "  **다른 태그와 조합 없는 장르 관련 태그가 상위권을 차지**하고 있으며, 발라드 단일 태그가 가장 많았습니다.\n",
        "- **이 밖에 가장 빈도가 높았던 기분전환 태그명은 휴식, 힐링 뿐만 아니라 스트레스, 드라이브, 사랑, 설렘 등 다양한 태그와 같이 조합을 이루는 케이스가 많았습니다.**"
      ]
    },
    {
      "cell_type": "markdown",
      "metadata": {
        "id": "wM-7zK3CuNhG"
      },
      "source": [
        "<br>"
      ]
    },
    {
      "cell_type": "markdown",
      "metadata": {
        "id": "VZjP9iVbuZqm"
      },
      "source": [
        "### 플레이리스트 태그 별 어떤 곡들이 수록되었을까?"
      ]
    },
    {
      "cell_type": "code",
      "metadata": {
        "id": "158g5W16us3_",
        "outputId": "ea9e328a-08fc-46fc-9b3f-e04666a762b2",
        "colab": {
          "base_uri": "https://localhost:8080/",
          "height": 402
        }
      },
      "source": [
        "# 1. 플레이리스트-곡 테이블 plylst_song + 플레이리스트-태그 테이블 plylst_tag join 테이블 생성 : plylst_song_tag\n",
        "# 곡의 입장에서 자신을 수록한 플레이리스트의 태그를 모두 갖게되는 것이 된다. \n",
        "plylst_song_tag = pd.merge(plylst_song, plylst_tag, how = 'left', on = '플레이리스트 ID')\n",
        "plylst_song_tag"
      ],
      "execution_count": null,
      "outputs": [
        {
          "output_type": "execute_result",
          "data": {
            "text/html": [
              "<div>\n",
              "<style scoped>\n",
              "    .dataframe tbody tr th:only-of-type {\n",
              "        vertical-align: middle;\n",
              "    }\n",
              "\n",
              "    .dataframe tbody tr th {\n",
              "        vertical-align: top;\n",
              "    }\n",
              "\n",
              "    .dataframe thead th {\n",
              "        text-align: right;\n",
              "    }\n",
              "</style>\n",
              "<table border=\"1\" class=\"dataframe\">\n",
              "  <thead>\n",
              "    <tr style=\"text-align: right;\">\n",
              "      <th></th>\n",
              "      <th>플레이리스트 ID</th>\n",
              "      <th>곡 리스트</th>\n",
              "      <th>태그 리스트</th>\n",
              "      <th>id</th>\n",
              "    </tr>\n",
              "  </thead>\n",
              "  <tbody>\n",
              "    <tr>\n",
              "      <th>0</th>\n",
              "      <td>61281</td>\n",
              "      <td>525514</td>\n",
              "      <td>락</td>\n",
              "      <td>61281</td>\n",
              "    </tr>\n",
              "    <tr>\n",
              "      <th>1</th>\n",
              "      <td>61281</td>\n",
              "      <td>129701</td>\n",
              "      <td>락</td>\n",
              "      <td>61281</td>\n",
              "    </tr>\n",
              "    <tr>\n",
              "      <th>2</th>\n",
              "      <td>61281</td>\n",
              "      <td>383374</td>\n",
              "      <td>락</td>\n",
              "      <td>61281</td>\n",
              "    </tr>\n",
              "    <tr>\n",
              "      <th>3</th>\n",
              "      <td>61281</td>\n",
              "      <td>562083</td>\n",
              "      <td>락</td>\n",
              "      <td>61281</td>\n",
              "    </tr>\n",
              "    <tr>\n",
              "      <th>4</th>\n",
              "      <td>61281</td>\n",
              "      <td>297861</td>\n",
              "      <td>락</td>\n",
              "      <td>61281</td>\n",
              "    </tr>\n",
              "    <tr>\n",
              "      <th>...</th>\n",
              "      <td>...</td>\n",
              "      <td>...</td>\n",
              "      <td>...</td>\n",
              "      <td>...</td>\n",
              "    </tr>\n",
              "    <tr>\n",
              "      <th>22860275</th>\n",
              "      <td>100389</td>\n",
              "      <td>13759</td>\n",
              "      <td>팝송모음</td>\n",
              "      <td>100389</td>\n",
              "    </tr>\n",
              "    <tr>\n",
              "      <th>22860276</th>\n",
              "      <td>100389</td>\n",
              "      <td>154078</td>\n",
              "      <td>노래추천</td>\n",
              "      <td>100389</td>\n",
              "    </tr>\n",
              "    <tr>\n",
              "      <th>22860277</th>\n",
              "      <td>100389</td>\n",
              "      <td>154078</td>\n",
              "      <td>팝송추천</td>\n",
              "      <td>100389</td>\n",
              "    </tr>\n",
              "    <tr>\n",
              "      <th>22860278</th>\n",
              "      <td>100389</td>\n",
              "      <td>154078</td>\n",
              "      <td>팝송</td>\n",
              "      <td>100389</td>\n",
              "    </tr>\n",
              "    <tr>\n",
              "      <th>22860279</th>\n",
              "      <td>100389</td>\n",
              "      <td>154078</td>\n",
              "      <td>팝송모음</td>\n",
              "      <td>100389</td>\n",
              "    </tr>\n",
              "  </tbody>\n",
              "</table>\n",
              "<p>22860280 rows × 4 columns</p>\n",
              "</div>"
            ],
            "text/plain": [
              "         플레이리스트 ID   곡 리스트 태그 리스트      id\n",
              "0            61281  525514      락   61281\n",
              "1            61281  129701      락   61281\n",
              "2            61281  383374      락   61281\n",
              "3            61281  562083      락   61281\n",
              "4            61281  297861      락   61281\n",
              "...            ...     ...    ...     ...\n",
              "22860275    100389   13759   팝송모음  100389\n",
              "22860276    100389  154078   노래추천  100389\n",
              "22860277    100389  154078   팝송추천  100389\n",
              "22860278    100389  154078     팝송  100389\n",
              "22860279    100389  154078   팝송모음  100389\n",
              "\n",
              "[22860280 rows x 4 columns]"
            ]
          },
          "metadata": {
            "tags": []
          },
          "execution_count": 76
        }
      ]
    },
    {
      "cell_type": "code",
      "metadata": {
        "id": "vziXdEfguv5B",
        "outputId": "3019affe-006c-4ef7-ddb8-7bc8728eb781",
        "colab": {
          "base_uri": "https://localhost:8080/",
          "height": 402
        }
      },
      "source": [
        "# 2. 곡id를 공통컬럼으로 플레이리스트-곡-태그 테이블과 곡-장르 테이블을 join\n",
        "plylst_song_tag = pd.merge(plylst_song_tag, song_genre, how = 'left', left_on = '곡 리스트', right_on = 'song_id')\n",
        "plylst_song_tag"
      ],
      "execution_count": null,
      "outputs": [
        {
          "output_type": "execute_result",
          "data": {
            "text/html": [
              "<div>\n",
              "<style scoped>\n",
              "    .dataframe tbody tr th:only-of-type {\n",
              "        vertical-align: middle;\n",
              "    }\n",
              "\n",
              "    .dataframe tbody tr th {\n",
              "        vertical-align: top;\n",
              "    }\n",
              "\n",
              "    .dataframe thead th {\n",
              "        text-align: right;\n",
              "    }\n",
              "</style>\n",
              "<table border=\"1\" class=\"dataframe\">\n",
              "  <thead>\n",
              "    <tr style=\"text-align: right;\">\n",
              "      <th></th>\n",
              "      <th>플레이리스트 ID</th>\n",
              "      <th>곡 리스트</th>\n",
              "      <th>태그 리스트</th>\n",
              "      <th>id</th>\n",
              "      <th>song_id</th>\n",
              "      <th>gnr_code</th>\n",
              "    </tr>\n",
              "  </thead>\n",
              "  <tbody>\n",
              "    <tr>\n",
              "      <th>0</th>\n",
              "      <td>61281</td>\n",
              "      <td>525514</td>\n",
              "      <td>락</td>\n",
              "      <td>61281</td>\n",
              "      <td>525514</td>\n",
              "      <td>GN1400</td>\n",
              "    </tr>\n",
              "    <tr>\n",
              "      <th>1</th>\n",
              "      <td>61281</td>\n",
              "      <td>129701</td>\n",
              "      <td>락</td>\n",
              "      <td>61281</td>\n",
              "      <td>129701</td>\n",
              "      <td>GN0900</td>\n",
              "    </tr>\n",
              "    <tr>\n",
              "      <th>2</th>\n",
              "      <td>61281</td>\n",
              "      <td>129701</td>\n",
              "      <td>락</td>\n",
              "      <td>61281</td>\n",
              "      <td>129701</td>\n",
              "      <td>GN1000</td>\n",
              "    </tr>\n",
              "    <tr>\n",
              "      <th>3</th>\n",
              "      <td>61281</td>\n",
              "      <td>383374</td>\n",
              "      <td>락</td>\n",
              "      <td>61281</td>\n",
              "      <td>383374</td>\n",
              "      <td>GN1000</td>\n",
              "    </tr>\n",
              "    <tr>\n",
              "      <th>4</th>\n",
              "      <td>61281</td>\n",
              "      <td>562083</td>\n",
              "      <td>락</td>\n",
              "      <td>61281</td>\n",
              "      <td>562083</td>\n",
              "      <td>GN0900</td>\n",
              "    </tr>\n",
              "    <tr>\n",
              "      <th>...</th>\n",
              "      <td>...</td>\n",
              "      <td>...</td>\n",
              "      <td>...</td>\n",
              "      <td>...</td>\n",
              "      <td>...</td>\n",
              "      <td>...</td>\n",
              "    </tr>\n",
              "    <tr>\n",
              "      <th>29620344</th>\n",
              "      <td>100389</td>\n",
              "      <td>13759</td>\n",
              "      <td>팝송모음</td>\n",
              "      <td>100389</td>\n",
              "      <td>13759</td>\n",
              "      <td>GN1000</td>\n",
              "    </tr>\n",
              "    <tr>\n",
              "      <th>29620345</th>\n",
              "      <td>100389</td>\n",
              "      <td>154078</td>\n",
              "      <td>노래추천</td>\n",
              "      <td>100389</td>\n",
              "      <td>154078</td>\n",
              "      <td>GN1000</td>\n",
              "    </tr>\n",
              "    <tr>\n",
              "      <th>29620346</th>\n",
              "      <td>100389</td>\n",
              "      <td>154078</td>\n",
              "      <td>팝송추천</td>\n",
              "      <td>100389</td>\n",
              "      <td>154078</td>\n",
              "      <td>GN1000</td>\n",
              "    </tr>\n",
              "    <tr>\n",
              "      <th>29620347</th>\n",
              "      <td>100389</td>\n",
              "      <td>154078</td>\n",
              "      <td>팝송</td>\n",
              "      <td>100389</td>\n",
              "      <td>154078</td>\n",
              "      <td>GN1000</td>\n",
              "    </tr>\n",
              "    <tr>\n",
              "      <th>29620348</th>\n",
              "      <td>100389</td>\n",
              "      <td>154078</td>\n",
              "      <td>팝송모음</td>\n",
              "      <td>100389</td>\n",
              "      <td>154078</td>\n",
              "      <td>GN1000</td>\n",
              "    </tr>\n",
              "  </tbody>\n",
              "</table>\n",
              "<p>29620349 rows × 6 columns</p>\n",
              "</div>"
            ],
            "text/plain": [
              "         플레이리스트 ID   곡 리스트 태그 리스트      id song_id gnr_code\n",
              "0            61281  525514      락   61281  525514   GN1400\n",
              "1            61281  129701      락   61281  129701   GN0900\n",
              "2            61281  129701      락   61281  129701   GN1000\n",
              "3            61281  383374      락   61281  383374   GN1000\n",
              "4            61281  562083      락   61281  562083   GN0900\n",
              "...            ...     ...    ...     ...     ...      ...\n",
              "29620344    100389   13759   팝송모음  100389   13759   GN1000\n",
              "29620345    100389  154078   노래추천  100389  154078   GN1000\n",
              "29620346    100389  154078   팝송추천  100389  154078   GN1000\n",
              "29620347    100389  154078     팝송  100389  154078   GN1000\n",
              "29620348    100389  154078   팝송모음  100389  154078   GN1000\n",
              "\n",
              "[29620349 rows x 6 columns]"
            ]
          },
          "metadata": {
            "tags": []
          },
          "execution_count": 77
        }
      ]
    },
    {
      "cell_type": "code",
      "metadata": {
        "id": "tqaGI7mxuxM9",
        "outputId": "7b03cbae-1c9b-4f64-b81b-be113060261d",
        "colab": {
          "base_uri": "https://localhost:8080/",
          "height": 402
        }
      },
      "source": [
        "plylst_song_tag.rename(columns= {'gnr_code': '장르코드'}, inplace=True)\n",
        "# 3. 플레이리스트-곡-태그-장르 테이블과 대분류장르 테이블을 join -> 장르의 이름도 알 수 있도록 하기 위해\n",
        "big_genre['gnr_code_name'] = big_genre['장르코드'] + ' (' + big_genre['장르명'] + ')' # \"장르코드(장르이름)\" 파생컬럼 추가\n",
        "big_genre = big_genre[['장르코드', '장르명']] # 장르코드, 장르코드&이름 컬럼만 추출해서 원래 테이블을 대체 \n",
        "plylst_song_tag = pd.merge(plylst_song_tag, big_genre, how = 'left', on = '장르코드') \n",
        "plylst_song_tag"
      ],
      "execution_count": null,
      "outputs": [
        {
          "output_type": "execute_result",
          "data": {
            "text/html": [
              "<div>\n",
              "<style scoped>\n",
              "    .dataframe tbody tr th:only-of-type {\n",
              "        vertical-align: middle;\n",
              "    }\n",
              "\n",
              "    .dataframe tbody tr th {\n",
              "        vertical-align: top;\n",
              "    }\n",
              "\n",
              "    .dataframe thead th {\n",
              "        text-align: right;\n",
              "    }\n",
              "</style>\n",
              "<table border=\"1\" class=\"dataframe\">\n",
              "  <thead>\n",
              "    <tr style=\"text-align: right;\">\n",
              "      <th></th>\n",
              "      <th>플레이리스트 ID</th>\n",
              "      <th>곡 리스트</th>\n",
              "      <th>태그 리스트</th>\n",
              "      <th>id</th>\n",
              "      <th>song_id</th>\n",
              "      <th>장르코드</th>\n",
              "      <th>장르명</th>\n",
              "    </tr>\n",
              "  </thead>\n",
              "  <tbody>\n",
              "    <tr>\n",
              "      <th>0</th>\n",
              "      <td>61281</td>\n",
              "      <td>525514</td>\n",
              "      <td>락</td>\n",
              "      <td>61281</td>\n",
              "      <td>525514</td>\n",
              "      <td>GN1400</td>\n",
              "      <td>포크/블루스/컨트리</td>\n",
              "    </tr>\n",
              "    <tr>\n",
              "      <th>1</th>\n",
              "      <td>61281</td>\n",
              "      <td>129701</td>\n",
              "      <td>락</td>\n",
              "      <td>61281</td>\n",
              "      <td>129701</td>\n",
              "      <td>GN0900</td>\n",
              "      <td>POP</td>\n",
              "    </tr>\n",
              "    <tr>\n",
              "      <th>2</th>\n",
              "      <td>61281</td>\n",
              "      <td>129701</td>\n",
              "      <td>락</td>\n",
              "      <td>61281</td>\n",
              "      <td>129701</td>\n",
              "      <td>GN1000</td>\n",
              "      <td>록/메탈</td>\n",
              "    </tr>\n",
              "    <tr>\n",
              "      <th>3</th>\n",
              "      <td>61281</td>\n",
              "      <td>383374</td>\n",
              "      <td>락</td>\n",
              "      <td>61281</td>\n",
              "      <td>383374</td>\n",
              "      <td>GN1000</td>\n",
              "      <td>록/메탈</td>\n",
              "    </tr>\n",
              "    <tr>\n",
              "      <th>4</th>\n",
              "      <td>61281</td>\n",
              "      <td>562083</td>\n",
              "      <td>락</td>\n",
              "      <td>61281</td>\n",
              "      <td>562083</td>\n",
              "      <td>GN0900</td>\n",
              "      <td>POP</td>\n",
              "    </tr>\n",
              "    <tr>\n",
              "      <th>...</th>\n",
              "      <td>...</td>\n",
              "      <td>...</td>\n",
              "      <td>...</td>\n",
              "      <td>...</td>\n",
              "      <td>...</td>\n",
              "      <td>...</td>\n",
              "      <td>...</td>\n",
              "    </tr>\n",
              "    <tr>\n",
              "      <th>29620344</th>\n",
              "      <td>100389</td>\n",
              "      <td>13759</td>\n",
              "      <td>팝송모음</td>\n",
              "      <td>100389</td>\n",
              "      <td>13759</td>\n",
              "      <td>GN1000</td>\n",
              "      <td>록/메탈</td>\n",
              "    </tr>\n",
              "    <tr>\n",
              "      <th>29620345</th>\n",
              "      <td>100389</td>\n",
              "      <td>154078</td>\n",
              "      <td>노래추천</td>\n",
              "      <td>100389</td>\n",
              "      <td>154078</td>\n",
              "      <td>GN1000</td>\n",
              "      <td>록/메탈</td>\n",
              "    </tr>\n",
              "    <tr>\n",
              "      <th>29620346</th>\n",
              "      <td>100389</td>\n",
              "      <td>154078</td>\n",
              "      <td>팝송추천</td>\n",
              "      <td>100389</td>\n",
              "      <td>154078</td>\n",
              "      <td>GN1000</td>\n",
              "      <td>록/메탈</td>\n",
              "    </tr>\n",
              "    <tr>\n",
              "      <th>29620347</th>\n",
              "      <td>100389</td>\n",
              "      <td>154078</td>\n",
              "      <td>팝송</td>\n",
              "      <td>100389</td>\n",
              "      <td>154078</td>\n",
              "      <td>GN1000</td>\n",
              "      <td>록/메탈</td>\n",
              "    </tr>\n",
              "    <tr>\n",
              "      <th>29620348</th>\n",
              "      <td>100389</td>\n",
              "      <td>154078</td>\n",
              "      <td>팝송모음</td>\n",
              "      <td>100389</td>\n",
              "      <td>154078</td>\n",
              "      <td>GN1000</td>\n",
              "      <td>록/메탈</td>\n",
              "    </tr>\n",
              "  </tbody>\n",
              "</table>\n",
              "<p>29620349 rows × 7 columns</p>\n",
              "</div>"
            ],
            "text/plain": [
              "         플레이리스트 ID   곡 리스트 태그 리스트      id song_id    장르코드         장르명\n",
              "0            61281  525514      락   61281  525514  GN1400  포크/블루스/컨트리\n",
              "1            61281  129701      락   61281  129701  GN0900         POP\n",
              "2            61281  129701      락   61281  129701  GN1000        록/메탈\n",
              "3            61281  383374      락   61281  383374  GN1000        록/메탈\n",
              "4            61281  562083      락   61281  562083  GN0900         POP\n",
              "...            ...     ...    ...     ...     ...     ...         ...\n",
              "29620344    100389   13759   팝송모음  100389   13759  GN1000        록/메탈\n",
              "29620345    100389  154078   노래추천  100389  154078  GN1000        록/메탈\n",
              "29620346    100389  154078   팝송추천  100389  154078  GN1000        록/메탈\n",
              "29620347    100389  154078     팝송  100389  154078  GN1000        록/메탈\n",
              "29620348    100389  154078   팝송모음  100389  154078  GN1000        록/메탈\n",
              "\n",
              "[29620349 rows x 7 columns]"
            ]
          },
          "metadata": {
            "tags": []
          },
          "execution_count": 82
        }
      ]
    },
    {
      "cell_type": "code",
      "metadata": {
        "id": "cg-xNu95uymV"
      },
      "source": [
        "plylst_song_tag\n",
        "# 4. 최종 테이블 필드 선택 - 플레이리스트id, 수록곡, 태그, 장르이름\n",
        "plylst_song_tag = plylst_song_tag[['플레이리스트 ID', '곡 리스트', '태그 리스트', '장르명']]"
      ],
      "execution_count": null,
      "outputs": []
    },
    {
      "cell_type": "code",
      "metadata": {
        "id": "LnPZBYyRu0mM"
      },
      "source": [
        "# 태그가 ['드라이브', '스트레스', '기분전환'] 중 하나인 행을 추출\n",
        "plylst_song_tag_sample_1 = plylst_song_tag.loc[plylst_song_tag['태그 리스트'].isin(['드라이브', '스트레스', '기분전환']), :]\n",
        "# 태그가 ['밤', '새벽', '잔잔한'] 중 하나에 해당하는 행을 추출\n",
        "plylst_song_tag_sample_2 = plylst_song_tag.loc[plylst_song_tag['태그 리스트'].isin(['밤', '새벽', '잔잔한']), :]\n",
        "# 태그가 ['사랑', '설렘'] 중 하나에 해당하는 행을 추출\n",
        "plylst_song_tag_sample_3 =plylst_song_tag.loc[plylst_song_tag['태그 리스트'].isin(['사랑', '설렘']), :]\n",
        "# 태그가 ['추억', '회상'] 중 하나에 해당하는 행을 추출\n",
        "plylst_song_tag_sample_4 = plylst_song_tag.loc[plylst_song_tag['태그 리스트'].isin(['추억', '회상']), :]\n",
        "# 태그가 ['슬픔', '이별'] 중 하나에 해당하는 행을 추출\n",
        "plylst_song_tag_sample_5 = plylst_song_tag.loc[plylst_song_tag['태그 리스트'].isin(['슬픔', '이별']), :]\n",
        "# 태그가 ['휴식', '힐링'] 중 하나에 해당하는 행을 추출\n",
        "plylst_song_tag_sample_6 = plylst_song_tag.loc[plylst_song_tag['태그 리스트'].isin(['휴식', '힐링']), :]\n",
        "# 태그가 ['휴식', '힐링'] 중 하나에 해당하는 행을 추출\n",
        "plylst_song_tag_sample_7 = plylst_song_tag.loc[plylst_song_tag['태그 리스트'].isin(['카페', '매장음악']), :]"
      ],
      "execution_count": null,
      "outputs": []
    },
    {
      "cell_type": "code",
      "metadata": {
        "id": "U2vOo-CIu2W5",
        "outputId": "c99bbc79-43a6-43da-f51b-ab80e71a0a13",
        "colab": {
          "base_uri": "https://localhost:8080/",
          "height": 386
        }
      },
      "source": [
        "# 플레이리스트의 태그 리스트 별 수록곡의 대분류 장르의 비율 집계\n",
        "\n",
        "# 장르코드(이름) 컬럼으로 그룹핑을하고 그 장르에 해당하는 곡들의 수(유니크한 곡id의 개수)를 계산, songs 컬럼의 이름을 song_cnt로 변환\n",
        "plylst_song_tag_sample_1_gnr_rank = plylst_song_tag_sample_1.groupby('gnr_code_name').songs.nunique().reset_index(name = 'song_cnt')\n",
        "# song_cnt_ratio라는 파생컬럼 추가 - 그 장르에 해당하는 수록곡의 수/모든 장르에 매핑된 곡 수의 총 합\n",
        "plylst_song_tag_sample_1_gnr_rank.loc[:, 'song_cnt_ratio'] = round(plylst_song_tag_sample_1_gnr_rank['song_cnt']/sum(plylst_song_tag_sample_1_gnr_rank['song_cnt'])*100, 2)\n",
        "# 순위 파생컬럼 추가\n",
        "plylst_song_tag_sample_1_gnr_rank['gnr_rank'] = plylst_song_tag_sample_1_gnr_rank['song_cnt_ratio'].rank(ascending = False) \n",
        "# 문자열로 된 'tag_list' 파생컬럼 추가 \n",
        "plylst_song_tag_sample_1_gnr_rank['tag_list'] = '드라이브, 스트레스, 기분전환' # 문자열로 된 'tag_list' 파생컬럼 추가 \n",
        "# 컬럼의 이름 변경\n",
        "plylst_song_tag_sample_1_gnr_rank.rename(columns = {'gnr_code_name' : '장르', 'song_cnt' : '곡 수', 'song_cnt_ratio' : '비율(%)', 'gnr_rank' : '순위', 'tag_list' : '태그 리스트'}, inplace = True)\n",
        "\n",
        "\n",
        "plylst_song_tag_sample_2_gnr_rank = plylst_song_tag_sample_2.groupby('gnr_code_name').songs.nunique().reset_index(name = 'song_cnt')\n",
        "plylst_song_tag_sample_2_gnr_rank.loc[:, 'song_cnt_ratio'] = round(plylst_song_tag_sample_2_gnr_rank['song_cnt']/sum(plylst_song_tag_sample_2_gnr_rank['song_cnt'])*100, 2)\n",
        "plylst_song_tag_sample_2_gnr_rank['gnr_rank'] = plylst_song_tag_sample_2_gnr_rank['song_cnt_ratio'].rank(ascending = False)\n",
        "plylst_song_tag_sample_2_gnr_rank['tag_list'] = '밤, 새벽, 잔잔한'\n",
        "plylst_song_tag_sample_2_gnr_rank.rename(columns = {'gnr_code_name' : '장르', 'song_cnt' : '곡 수', 'song_cnt_ratio' : '비율(%)', 'gnr_rank' : '순위', 'tag_list' : '태그 리스트'}, inplace = True)\n",
        "\n",
        "plylst_song_tag_sample_3_gnr_rank = plylst_song_tag_sample_3.groupby('gnr_code_name').songs.nunique().reset_index(name = 'song_cnt')\n",
        "plylst_song_tag_sample_3_gnr_rank.loc[:, 'song_cnt_ratio'] = round(plylst_song_tag_sample_3_gnr_rank['song_cnt']/sum(plylst_song_tag_sample_3_gnr_rank['song_cnt'])*100, 2)\n",
        "plylst_song_tag_sample_3_gnr_rank['gnr_rank'] = plylst_song_tag_sample_3_gnr_rank['song_cnt_ratio'].rank(ascending = False)\n",
        "plylst_song_tag_sample_3_gnr_rank['tag_list'] = '사랑, 설렘'\n",
        "plylst_song_tag_sample_3_gnr_rank.rename(columns = {'gnr_code_name' : '장르', 'song_cnt' : '곡 수', 'song_cnt_ratio' : '비율(%)', 'gnr_rank' : '순위', 'tag_list' : '태그 리스트'}, inplace = True)\n",
        "\n",
        "plylst_song_tag_sample_4_gnr_rank = plylst_song_tag_sample_4.groupby('gnr_code_name').songs.nunique().reset_index(name = 'song_cnt')\n",
        "plylst_song_tag_sample_4_gnr_rank.loc[:, 'song_cnt_ratio'] = round(plylst_song_tag_sample_4_gnr_rank['song_cnt']/sum(plylst_song_tag_sample_4_gnr_rank['song_cnt'])*100, 2)\n",
        "plylst_song_tag_sample_4_gnr_rank['gnr_rank'] = plylst_song_tag_sample_4_gnr_rank['song_cnt_ratio'].rank(ascending = False)\n",
        "plylst_song_tag_sample_4_gnr_rank['tag_list'] = '추억, 회상'\n",
        "plylst_song_tag_sample_4_gnr_rank.rename(columns = {'gnr_code_name' : '장르', 'song_cnt' : '곡 수', 'song_cnt_ratio' : '비율(%)', 'gnr_rank' : '순위', 'tag_list' : '태그 리스트'}, inplace = True)\n",
        "\n",
        "plylst_song_tag_sample_5_gnr_rank = plylst_song_tag_sample_5.groupby('gnr_code_name').songs.nunique().reset_index(name = 'song_cnt')\n",
        "plylst_song_tag_sample_5_gnr_rank.loc[:, 'song_cnt_ratio'] = round(plylst_song_tag_sample_5_gnr_rank['song_cnt']/sum(plylst_song_tag_sample_5_gnr_rank['song_cnt'])*100, 2)\n",
        "plylst_song_tag_sample_5_gnr_rank['gnr_rank'] = plylst_song_tag_sample_5_gnr_rank['song_cnt_ratio'].rank(ascending = False)\n",
        "plylst_song_tag_sample_5_gnr_rank['tag_list'] = '슬픔, 이별'\n",
        "plylst_song_tag_sample_5_gnr_rank.rename(columns = {'gnr_code_name' : '장르', 'song_cnt' : '곡 수', 'song_cnt_ratio' : '비율(%)', 'gnr_rank' : '순위', 'tag_list' : '태그 리스트'}, inplace = True)\n",
        "\n",
        "plylst_song_tag_sample_6_gnr_rank = plylst_song_tag_sample_6.groupby('gnr_code_name').songs.nunique().reset_index(name = 'song_cnt')\n",
        "plylst_song_tag_sample_6_gnr_rank.loc[:, 'song_cnt_ratio'] = round(plylst_song_tag_sample_6_gnr_rank['song_cnt']/sum(plylst_song_tag_sample_6_gnr_rank['song_cnt'])*100, 2)\n",
        "plylst_song_tag_sample_6_gnr_rank['gnr_rank'] = plylst_song_tag_sample_6_gnr_rank['song_cnt_ratio'].rank(ascending = False)\n",
        "plylst_song_tag_sample_6_gnr_rank['tag_list'] = '휴식, 힐링'\n",
        "plylst_song_tag_sample_6_gnr_rank.rename(columns = {'gnr_code_name' : '장르', 'song_cnt' : '곡 수', 'song_cnt_ratio' : '비율(%)', 'gnr_rank' : '순위', 'tag_list' : '태그 리스트'}, inplace = True)\n",
        "\n",
        "plylst_song_tag_sample_7_gnr_rank = plylst_song_tag_sample_7.groupby('gnr_code_name').songs.nunique().reset_index(name = 'song_cnt')\n",
        "plylst_song_tag_sample_7_gnr_rank.loc[:, 'song_cnt_ratio'] = round(plylst_song_tag_sample_7_gnr_rank['song_cnt']/sum(plylst_song_tag_sample_7_gnr_rank['song_cnt'])*100, 2)\n",
        "plylst_song_tag_sample_7_gnr_rank['gnr_rank'] = plylst_song_tag_sample_7_gnr_rank['song_cnt_ratio'].rank(ascending = False)\n",
        "plylst_song_tag_sample_7_gnr_rank['tag_list'] = '카페, 매장음악'\n",
        "plylst_song_tag_sample_7_gnr_rank.rename(columns = {'gnr_code_name' : '장르', 'song_cnt' : '곡 수', 'song_cnt_ratio' : '비율(%)', 'gnr_rank' : '순위', 'tag_list' : '태그 리스트'}, inplace = True)\n",
        "\n",
        "plylst_song_tag_sample_1_gnr_rank"
      ],
      "execution_count": null,
      "outputs": [
        {
          "output_type": "error",
          "ename": "KeyError",
          "evalue": "ignored",
          "traceback": [
            "\u001b[0;31m---------------------------------------------------------------------------\u001b[0m",
            "\u001b[0;31mKeyError\u001b[0m                                  Traceback (most recent call last)",
            "\u001b[0;32m<ipython-input-90-81b5f4c5783a>\u001b[0m in \u001b[0;36m<module>\u001b[0;34m()\u001b[0m\n\u001b[1;32m      2\u001b[0m \u001b[0;34m\u001b[0m\u001b[0m\n\u001b[1;32m      3\u001b[0m \u001b[0;31m# 장르코드(이름) 컬럼으로 그룹핑을하고 그 장르에 해당하는 곡들의 수(유니크한 곡id의 개수)를 계산, songs 컬럼의 이름을 song_cnt로 변환\u001b[0m\u001b[0;34m\u001b[0m\u001b[0;34m\u001b[0m\u001b[0;34m\u001b[0m\u001b[0m\n\u001b[0;32m----> 4\u001b[0;31m \u001b[0mplylst_song_tag_sample_1_gnr_rank\u001b[0m \u001b[0;34m=\u001b[0m \u001b[0mplylst_song_tag_sample_1\u001b[0m\u001b[0;34m.\u001b[0m\u001b[0mgroupby\u001b[0m\u001b[0;34m(\u001b[0m\u001b[0;34m'gnr_code_name'\u001b[0m\u001b[0;34m)\u001b[0m\u001b[0;34m.\u001b[0m\u001b[0msongs\u001b[0m\u001b[0;34m.\u001b[0m\u001b[0mnunique\u001b[0m\u001b[0;34m(\u001b[0m\u001b[0;34m)\u001b[0m\u001b[0;34m.\u001b[0m\u001b[0mreset_index\u001b[0m\u001b[0;34m(\u001b[0m\u001b[0mname\u001b[0m \u001b[0;34m=\u001b[0m \u001b[0;34m'song_cnt'\u001b[0m\u001b[0;34m)\u001b[0m\u001b[0;34m\u001b[0m\u001b[0;34m\u001b[0m\u001b[0m\n\u001b[0m\u001b[1;32m      5\u001b[0m \u001b[0;31m# song_cnt_ratio라는 파생컬럼 추가 - 그 장르에 해당하는 수록곡의 수/모든 장르에 매핑된 곡 수의 총 합\u001b[0m\u001b[0;34m\u001b[0m\u001b[0;34m\u001b[0m\u001b[0;34m\u001b[0m\u001b[0m\n\u001b[1;32m      6\u001b[0m \u001b[0mplylst_song_tag_sample_1_gnr_rank\u001b[0m\u001b[0;34m.\u001b[0m\u001b[0mloc\u001b[0m\u001b[0;34m[\u001b[0m\u001b[0;34m:\u001b[0m\u001b[0;34m,\u001b[0m \u001b[0;34m'song_cnt_ratio'\u001b[0m\u001b[0;34m]\u001b[0m \u001b[0;34m=\u001b[0m \u001b[0mround\u001b[0m\u001b[0;34m(\u001b[0m\u001b[0mplylst_song_tag_sample_1_gnr_rank\u001b[0m\u001b[0;34m[\u001b[0m\u001b[0;34m'song_cnt'\u001b[0m\u001b[0;34m]\u001b[0m\u001b[0;34m/\u001b[0m\u001b[0msum\u001b[0m\u001b[0;34m(\u001b[0m\u001b[0mplylst_song_tag_sample_1_gnr_rank\u001b[0m\u001b[0;34m[\u001b[0m\u001b[0;34m'song_cnt'\u001b[0m\u001b[0;34m]\u001b[0m\u001b[0;34m)\u001b[0m\u001b[0;34m*\u001b[0m\u001b[0;36m100\u001b[0m\u001b[0;34m,\u001b[0m \u001b[0;36m2\u001b[0m\u001b[0;34m)\u001b[0m\u001b[0;34m\u001b[0m\u001b[0;34m\u001b[0m\u001b[0m\n",
            "\u001b[0;32m/usr/local/lib/python3.6/dist-packages/pandas/core/frame.py\u001b[0m in \u001b[0;36mgroupby\u001b[0;34m(self, by, axis, level, as_index, sort, group_keys, squeeze, observed, dropna)\u001b[0m\n\u001b[1;32m   6519\u001b[0m             \u001b[0msqueeze\u001b[0m\u001b[0;34m=\u001b[0m\u001b[0msqueeze\u001b[0m\u001b[0;34m,\u001b[0m\u001b[0;34m\u001b[0m\u001b[0;34m\u001b[0m\u001b[0m\n\u001b[1;32m   6520\u001b[0m             \u001b[0mobserved\u001b[0m\u001b[0;34m=\u001b[0m\u001b[0mobserved\u001b[0m\u001b[0;34m,\u001b[0m\u001b[0;34m\u001b[0m\u001b[0;34m\u001b[0m\u001b[0m\n\u001b[0;32m-> 6521\u001b[0;31m             \u001b[0mdropna\u001b[0m\u001b[0;34m=\u001b[0m\u001b[0mdropna\u001b[0m\u001b[0;34m,\u001b[0m\u001b[0;34m\u001b[0m\u001b[0;34m\u001b[0m\u001b[0m\n\u001b[0m\u001b[1;32m   6522\u001b[0m         )\n\u001b[1;32m   6523\u001b[0m \u001b[0;34m\u001b[0m\u001b[0m\n",
            "\u001b[0;32m/usr/local/lib/python3.6/dist-packages/pandas/core/groupby/groupby.py\u001b[0m in \u001b[0;36m__init__\u001b[0;34m(self, obj, keys, axis, level, grouper, exclusions, selection, as_index, sort, group_keys, squeeze, observed, mutated, dropna)\u001b[0m\n\u001b[1;32m    531\u001b[0m                 \u001b[0mobserved\u001b[0m\u001b[0;34m=\u001b[0m\u001b[0mobserved\u001b[0m\u001b[0;34m,\u001b[0m\u001b[0;34m\u001b[0m\u001b[0;34m\u001b[0m\u001b[0m\n\u001b[1;32m    532\u001b[0m                 \u001b[0mmutated\u001b[0m\u001b[0;34m=\u001b[0m\u001b[0mself\u001b[0m\u001b[0;34m.\u001b[0m\u001b[0mmutated\u001b[0m\u001b[0;34m,\u001b[0m\u001b[0;34m\u001b[0m\u001b[0;34m\u001b[0m\u001b[0m\n\u001b[0;32m--> 533\u001b[0;31m                 \u001b[0mdropna\u001b[0m\u001b[0;34m=\u001b[0m\u001b[0mself\u001b[0m\u001b[0;34m.\u001b[0m\u001b[0mdropna\u001b[0m\u001b[0;34m,\u001b[0m\u001b[0;34m\u001b[0m\u001b[0;34m\u001b[0m\u001b[0m\n\u001b[0m\u001b[1;32m    534\u001b[0m             )\n\u001b[1;32m    535\u001b[0m \u001b[0;34m\u001b[0m\u001b[0m\n",
            "\u001b[0;32m/usr/local/lib/python3.6/dist-packages/pandas/core/groupby/grouper.py\u001b[0m in \u001b[0;36mget_grouper\u001b[0;34m(obj, key, axis, level, sort, observed, mutated, validate, dropna)\u001b[0m\n\u001b[1;32m    779\u001b[0m                 \u001b[0min_axis\u001b[0m\u001b[0;34m,\u001b[0m \u001b[0mname\u001b[0m\u001b[0;34m,\u001b[0m \u001b[0mlevel\u001b[0m\u001b[0;34m,\u001b[0m \u001b[0mgpr\u001b[0m \u001b[0;34m=\u001b[0m \u001b[0;32mFalse\u001b[0m\u001b[0;34m,\u001b[0m \u001b[0;32mNone\u001b[0m\u001b[0;34m,\u001b[0m \u001b[0mgpr\u001b[0m\u001b[0;34m,\u001b[0m \u001b[0;32mNone\u001b[0m\u001b[0;34m\u001b[0m\u001b[0;34m\u001b[0m\u001b[0m\n\u001b[1;32m    780\u001b[0m             \u001b[0;32melse\u001b[0m\u001b[0;34m:\u001b[0m\u001b[0;34m\u001b[0m\u001b[0;34m\u001b[0m\u001b[0m\n\u001b[0;32m--> 781\u001b[0;31m                 \u001b[0;32mraise\u001b[0m \u001b[0mKeyError\u001b[0m\u001b[0;34m(\u001b[0m\u001b[0mgpr\u001b[0m\u001b[0;34m)\u001b[0m\u001b[0;34m\u001b[0m\u001b[0;34m\u001b[0m\u001b[0m\n\u001b[0m\u001b[1;32m    782\u001b[0m         \u001b[0;32melif\u001b[0m \u001b[0misinstance\u001b[0m\u001b[0;34m(\u001b[0m\u001b[0mgpr\u001b[0m\u001b[0;34m,\u001b[0m \u001b[0mGrouper\u001b[0m\u001b[0;34m)\u001b[0m \u001b[0;32mand\u001b[0m \u001b[0mgpr\u001b[0m\u001b[0;34m.\u001b[0m\u001b[0mkey\u001b[0m \u001b[0;32mis\u001b[0m \u001b[0;32mnot\u001b[0m \u001b[0;32mNone\u001b[0m\u001b[0;34m:\u001b[0m\u001b[0;34m\u001b[0m\u001b[0;34m\u001b[0m\u001b[0m\n\u001b[1;32m    783\u001b[0m             \u001b[0;31m# Add key to exclusions\u001b[0m\u001b[0;34m\u001b[0m\u001b[0;34m\u001b[0m\u001b[0;34m\u001b[0m\u001b[0m\n",
            "\u001b[0;31mKeyError\u001b[0m: 'gnr_code_name'"
          ]
        }
      ]
    },
    {
      "cell_type": "code",
      "metadata": {
        "id": "dQZ-IkUau469"
      },
      "source": [
        "# 이제 필요없어진 부분집합 데이터프레임을 삭제 \n",
        "del plylst_song_tag_sample_1,plylst_song_tag_sample_2, plylst_song_tag_sample_3, plylst_song_tag_sample_4, plylst_song_tag_sample_5, plylst_song_tag_sample_6,plylst_song_tag_sample_7\n",
        "\n",
        "# 태그리스트별 장르-곡수 테이블을 모두 위아래로 합친다. \n",
        "plylst_song_tag_sample_rbind = pd.concat(\n",
        "    [plylst_song_tag_sample_1_gnr_rank, plylst_song_tag_sample_2_gnr_rank, plylst_song_tag_sample_3_gnr_rank,\n",
        "     plylst_song_tag_sample_4_gnr_rank, plylst_song_tag_sample_5_gnr_rank, plylst_song_tag_sample_6_gnr_rank,\n",
        "     plylst_song_tag_sample_7_gnr_rank],\n",
        "    axis = 0\n",
        ")\n",
        "\n",
        "# 태그리스트별로 각 장르를 가지는 곡수를 기준으로 곡수가 가장 많은 상위 5위 장르까지를 막대그래프로 시각화\n",
        "plylst_song_tag_sample_rbind_plot = sns.barplot(\n",
        "    data = plylst_song_tag_sample_rbind.loc[plylst_song_tag_sample_rbind['순위'] <= 5, :].sort_values(by = '순위'),\n",
        "    x = '태그 리스트', y = '비율(%)', hue = '장르', edgecolor = \"black\"\n",
        ")\n",
        "plylst_song_tag_sample_rbind_plot.set_title('각 태그 리스트 별 상위 장르 TOP 5 비교')\n",
        "plylst_song_tag_sample_rbind_plot.set_xlabel('태그 리스트')\n",
        "plylst_song_tag_sample_rbind_plot.set_ylabel('곡 비율 (%)')\n",
        "plt.show()"
      ],
      "execution_count": null,
      "outputs": []
    },
    {
      "cell_type": "markdown",
      "metadata": {
        "id": "68PCWnPzu_in"
      },
      "source": [
        "- **드라이브, 스트레스, 기분전환 태그가 매핑된 플레이리스트**와 **카페, 매장음악 태그가 매핑된 플레이리스트**에서는 **팝(GN0900) 장르와 일렉(GN1100)장르가 많았습니다.**\n",
        "- **이 밖에 대부분 태그에서 발라드(GN0100) 곡 비중이 가장 높았으며** 슬픔, 이별 태그가 매핑된 플레이리스트에서는 발라드 비중이 가장 높았습니다.\n",
        "- 밤, 새벽, 잔잔한, 휴식, 힐링 등의 태그가 있는 플레이리스트에서는 발라드 다음으로 팝 장르 비중이 높았습니다.\n",
        "- **추억, 회상 태그가 매핑된 플레이리스트에서는 OST 비중이 발라드 다음으로 높습니다.**\n",
        "- 이와 같이 태그 별 플레이리스트 수록 곡 특징을 탐색하여 플레이리스트의 곡 장르 성격을 추정해볼 수 있습니다."
      ]
    },
    {
      "cell_type": "markdown",
      "metadata": {
        "id": "fai1ySxzvDcc"
      },
      "source": [
        "### 역으로 곡 별 태그를 매핑해본다면?"
      ]
    },
    {
      "cell_type": "markdown",
      "metadata": {
        "id": "VOa_4jCxvUWp"
      },
      "source": [
        "- 각 플레이리스트에 한 개 이상의 태그들이 매핑되어 있고, 한 곡 이상의 곡들이 수록되어 있습니다.\n",
        "- 이 부분을 고려하여 **곡 별 수록된 플레이리스트의 태그 값을 매핑**해본다면 **곡의 메타 정보를 하나 더 파생**시켜서 볼 수 있습니다."
      ]
    },
    {
      "cell_type": "code",
      "metadata": {
        "id": "492slS3_u9vV"
      },
      "source": [
        "# 학습 데이터 내에서 가장 많은 태그가 매핑된 아이유 - 밤편지 (144663) 예시\n",
        "example_song = plylst_song_tag[plylst_song_tag['songs'] == '144663']\n",
        "example_song"
      ],
      "execution_count": null,
      "outputs": []
    },
    {
      "cell_type": "code",
      "metadata": {
        "id": "5uv_jJ4_vXT3"
      },
      "source": [
        "# 곡 별 매핑되는 태그 수 집계 : song_tag_count\n",
        "# 플레이리스트 id - 곡 id - 태그 - 장르 테이블에서 곡 id로 그룹핑을 하고, \n",
        "# 각 곡이 가지는 유니크한 태그의 가짓수를 계산\n",
        "# 라벨을 정수로 새로 만들고 태그수 컬럼의 이름을 변경\n",
        "song_tag_count = plylst_song_tag.groupby('songs')['태그 리스트'].nunique().reset_index(name = 'tags_cnt')\n",
        "# 곡 별 매핑되는 태그 수에 대해 통계량을 확인 (그루핑 기준이었던 songs컬럼은 제외됨)\n",
        "round(song_tag_count.describe().loc[['min', '25%', '50%', 'mean', '75%', 'max', 'std']].transpose(), 2)"
      ],
      "execution_count": null,
      "outputs": []
    },
    {
      "cell_type": "markdown",
      "metadata": {
        "id": "5cvHr2pXvZts"
      },
      "source": [
        "- 곡 별로 매핑된 태그 값은 **평균 18개**(중앙값 7개)이고 예시로 들었던 아이유 - 밤편지 곡은 1,928개의 태그가 매핑됩니다."
      ]
    },
    {
      "cell_type": "markdown",
      "metadata": {
        "id": "ab8MIZa4pkvD"
      },
      "source": [
        "###곡이 자신이 속한 플레이리스트들의 태그를 모두 가져오는 방식으로 특정 플레이리스트에 매핑된 태그별 빈도수의 분포를 봅니다. "
      ]
    },
    {
      "cell_type": "code",
      "metadata": {
        "id": "Xr2P41XgphX7"
      },
      "source": [
        "# 곡이 자신이 속한 플레이리스트들의 태그를 모두 가져온다. \n",
        "song_tags_mapping = plylst_song_tag.groupby('songs')['태그 리스트'].unique()\n",
        "\n",
        "df_song_tag_mapping = pd.DataFrame(song_tags_mapping)\n",
        "df_song_tag_mapping"
      ],
      "execution_count": null,
      "outputs": []
    },
    {
      "cell_type": "code",
      "metadata": {
        "id": "hBzgXGDRpgpt"
      },
      "source": [
        "# 플레이리스트 하나만 보자.\"여행같은 음악\"(플레이리스트 아이디 : 61281)\n",
        "# 이 플레이리스트에 수록된 곡들에 매핑된 태그들의 분포를 보자.  \n",
        "example_plylst = plylst_song[plylst_song[\"id\"] == \"61281\"]\n",
        "\n",
        "# 곡 id로 df_song_tag_mapping 테이블과 플레이리스트-곡 테이블의 부분집합인 example_plylst 조인 \n",
        "example_plylst_total_tag = pd.merge(example_plylst, df_song_tag_mapping , how = 'left', on = 'songs') \n",
        "example_plylst_total_tag = example_plylst_total_tag[[\"songs\", \"태그 리스트\"]]\n",
        "example_plylst_total_tag "
      ],
      "execution_count": null,
      "outputs": []
    },
    {
      "cell_type": "code",
      "metadata": {
        "id": "BOetpWjBqLnv"
      },
      "source": [
        "# 리스트를 풀어주고 태그 매핑 횟수에 대해서 histogram을 그린다.\n",
        "example_plylst_total_tag= np.dstack(\n",
        "    (\n",
        "        np.repeat(example_plylst_total_tag.songs.values, list(map(len, example_plylst_total_tag.tags))), \n",
        "        np.concatenate(example_plylst_total_tag['태그 리스트'].values)\n",
        "    )\n",
        ")\n",
        "\n",
        "example_plylst_total_tag  = pd.DataFrame(data = example_plylst_total_tag[0], columns = [\"song_id\", \"tags\"])\n",
        "\n",
        "\n",
        "plt.hist(example_plylst_total_tag['태그 리스트'], bins=306, color = \"darkblue\")\n",
        "plt.tick_params(\n",
        "    axis='x',          # changes apply to the x-axis\n",
        "    which='both',      # both major and minor ticks are affected\n",
        "    bottom=False,      # ticks along the bottom edge are off\n",
        "    top=False,         # ticks along the top edge are off\n",
        "    labelbottom=False)\n",
        "\n",
        "plt.xlabel(\"태그 매핑 수\")\n",
        "plt.ylabel(\"곡 수\")"
      ],
      "execution_count": null,
      "outputs": []
    },
    {
      "cell_type": "code",
      "metadata": {
        "id": "K6qJ5t3nqN_b"
      },
      "source": [
        "# 태그 매핑 수가 2이상인 것들만 추출\n",
        "example_plylst_total_tag_count = pd.DataFrame(example_plylst_total_tag['태그 리스트'].value_counts())\n",
        "tag_count_many = example_plylst_total_tag_count[example_plylst_total_tag_count[\"태그 리스트\"] >= 2]\n",
        "plt.hist(tag_count_many['태그 리스트'], bins=30, color = 'darkblue')\n",
        "plt.xlabel(\"태그 매핑 수\")\n",
        "plt.ylabel(\"곡 수\")\n",
        "\n",
        "# 이 플레이리스트에 속한 곡의 태그중 가장 많은 것은 '락'으로 19개이다.\n",
        "print(example_plylst_total_tag_count[example_plylst_total_tag_count[\"태그 리스트\"] == 19])\n",
        "pd.DataFrame(tag_count_many['태그 리스트']).head(15)\n",
        "tag_count_many.sort_values(by = \"태그 리스트\",ascending = False).head(9)\n",
        "\n",
        "## 결론 : 29160개의 태그 중에서 한 플레이리스트에 306개의 태그가 매핑되었습니다. \n",
        "# 그 중 71개의 태그가 중복 매핑되었며, 일부 몇개의 태그가 특히 많이 매핑된것을 볼수 있습니다. \n",
        "# 따라서 플레이리스트와 곡의 특성으로 태그가 중요하다는 것을 알 수 있습니다."
      ],
      "execution_count": null,
      "outputs": []
    },
    {
      "cell_type": "markdown",
      "metadata": {
        "id": "3ktKL0W5veoV"
      },
      "source": [
        "#### 태그 기준으로 유사 느낌의 곡 찾기 (아이유 - 밤편지 곡을 예시로 살펴보기)"
      ]
    },
    {
      "cell_type": "code",
      "metadata": {
        "id": "gDHLv_BuvcI7"
      },
      "source": [
        "# 곡ID(곡 하나를 뽑은 것이므로 모두 같은 값)와 태그로 그룹핑을 하고\n",
        "# 각 태그를 가지는 플레이리스트 id의 수를 계산해서 컬럼이름을 mapping_plylst_cnt로 변경  \n",
        "# sort_values()로 mapping_plylst_cnt를 기준으로 내림차순 정렬\n",
        "example_song.groupby(['songs', '태그 리스트']).id.nunique().reset_index(name = 'mapping_plylst_cnt').sort_values(by = 'mapping_plylst_cnt', ascending = False)"
      ],
      "execution_count": null,
      "outputs": []
    },
    {
      "cell_type": "markdown",
      "metadata": {
        "id": "7c3kQRnWvmZ-"
      },
      "source": [
        "- 아이유 - 밤편지 곡은 **`감성` 태그를 갖는 690개의 플레이리스트에 수록**되어 있습니다.  \n",
        "  두 번째로 높은 태그는 `발라드`, 세 번째는 `잔잔한` 태그 입니다."
      ]
    },
    {
      "cell_type": "code",
      "metadata": {
        "id": "AZ07FkIQvjOy"
      },
      "source": [
        "# 플레이리스트 id - 곡 id - 태그 - 장르 테이블에서 태그가 감성인 것들만 추출\n",
        "# 곡id로 그룹핑을하고 각 곡에 해당하는 플레이리스트 id의 수를 계산\n",
        "# mapping_plylst_cnt를 기준으로 내림차순 정렬\n",
        "example_tag = plylst_song_tag.loc[plylst_song_tag['태그 리스트'] == '감성', :].groupby('songs').id.nunique().reset_index(name = 'mapping_plylst_cnt').sort_values(by = 'mapping_plylst_cnt', ascending = False)\n",
        "# 곡 테이블과 곡id를 공통컬럼으로 join해서 곡의 이름과 아티스트도 볼 수 있도록 한다.\n",
        "# head(10)로 상위 10곡 확인\n",
        "pd.merge(example_tag, song[['id', '곡 제목', '아티스트 리스트']], how = 'left', left_on = 'songs', right_on = 'id').head(10)"
      ],
      "execution_count": null,
      "outputs": []
    },
    {
      "cell_type": "markdown",
      "metadata": {
        "id": "RTO9_5OOvqov"
      },
      "source": [
        "- 감성이라는 태그에 매핑되는 곡은 대략 10만곡으로 매핑 수 기준 상위 10곡 입니다."
      ]
    },
    {
      "cell_type": "code",
      "metadata": {
        "id": "Wo1cNiE0-5ii"
      },
      "source": [
        "           "
      ],
      "execution_count": null,
      "outputs": []
    }
  ]
}