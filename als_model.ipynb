{
 "cells": [
  {
   "cell_type": "code",
   "execution_count": 1,
   "metadata": {},
   "outputs": [],
   "source": [
    "import numpy as np\n",
    "import pandas as pd\n",
    "import pickle\n",
    "import os\n",
    "import time\n",
    "import tqdm\n",
    "from scipy.sparse import csr_matrix\n",
    "from implicit.als import AlternatingLeastSquares\n",
    "\n",
    "# os.chdir('./melon-playlist-continuation-master/')\n",
    "import arena_util\n",
    "import evaluate"
   ]
  },
  {
   "cell_type": "code",
   "execution_count": 2,
   "metadata": {},
   "outputs": [],
   "source": [
    "train = pd.read_json('./arena_data/orig/train.json')\n",
    "val = pd.read_json('./arena_data/questions/val.json')\n",
    "song_meta = pd.read_json('./res/song_meta.json')\n",
    "answer = pd.read_json('./arena_data/answers/val.json')"
   ]
  },
  {
   "cell_type": "raw",
   "metadata": {},
   "source": [
    "곡 100개 추천"
   ]
  },
  {
   "cell_type": "code",
   "execution_count": 3,
   "metadata": {},
   "outputs": [],
   "source": [
    "# make song_coo.txt\n",
    "maxrow = train['id'].max()\n",
    "num_song = len(song_meta)\n",
    "N = sum(train['songs'].apply(len)) + sum(val['songs'].apply(len))\n",
    "\n",
    "f = open('./song_coo.txt', 'w')\n",
    "f.write(\"%d %d %d\\n\" % (maxrow+1, num_song, N))\n",
    "for i, q in train.iterrows():\n",
    "    for song in q['songs']:\n",
    "        f.write(\"%d %d %d %d\\n\" % (q['id'], song, 1, 0))\n",
    "f.close()\n",
    "\n",
    "f = open(\"./song_coo.txt\", 'a')\n",
    "for i, q in val.iterrows():\n",
    "    for song in q['songs']:\n",
    "        f.write(\"%d %d %d %d\\n\" % (q['id'], song, 1, 1))\n",
    "f.close()"
   ]
  },
  {
   "cell_type": "code",
   "execution_count": 4,
   "metadata": {},
   "outputs": [],
   "source": [
    "# make csr_matrix\n",
    "rows = []\n",
    "cols = []\n",
    "scores = []\n",
    "mask = []\n",
    "\n",
    "with open(\"./song_coo.txt\", 'r') as f:\n",
    "    num_row, num_col, N = map(int, f.readline().split())\n",
    "    for _ in range(N):\n",
    "      r, c, s, m = map(int, f.readline().split())\n",
    "      if m == 1: # 0 : train / 1 : val, test\n",
    "          rows.append(r)\n",
    "          cols.append(c)\n",
    "          scores.append(float(s))\n",
    "    \n",
    "ratings = csr_matrix((np.array(scores, dtype=np.float32), \n",
    "                    (np.array(rows), np.array(cols))), \n",
    "                    shape = (num_row, num_col))\n",
    "\n",
    "ratings.data = np.ones(len(ratings.data))"
   ]
  },
  {
   "cell_type": "code",
   "execution_count": 5,
   "metadata": {},
   "outputs": [
    {
     "name": "stderr",
     "output_type": "stream",
     "text": [
      "WARNING:root:OpenBLAS detected. Its highly recommend to set the environment variable 'export OPENBLAS_NUM_THREADS=1' to disable its internal multithreading\n"
     ]
    }
   ],
   "source": [
    "# make als_model\n",
    "\n",
    "als_model_50 = AlternatingLeastSquares(factors = 50)\n",
    "als_model_80 = AlternatingLeastSquares(factors = 80)\n",
    "als_model_100 = AlternatingLeastSquares(factors = 100)"
   ]
  },
  {
   "cell_type": "code",
   "execution_count": 6,
   "metadata": {},
   "outputs": [
    {
     "data": {
      "application/vnd.jupyter.widget-view+json": {
       "model_id": "19b101b22f4b481ca641126f93544a6c",
       "version_major": 2,
       "version_minor": 0
      },
      "text/plain": [
       "HBox(children=(HTML(value=''), FloatProgress(value=0.0, max=15.0), HTML(value='')))"
      ]
     },
     "metadata": {},
     "output_type": "display_data"
    },
    {
     "name": "stdout",
     "output_type": "stream",
     "text": [
      "\n"
     ]
    },
    {
     "data": {
      "application/vnd.jupyter.widget-view+json": {
       "model_id": "21add2d4fc6543aeb86a45fa4c730bc5",
       "version_major": 2,
       "version_minor": 0
      },
      "text/plain": [
       "HBox(children=(HTML(value=''), FloatProgress(value=0.0, max=15.0), HTML(value='')))"
      ]
     },
     "metadata": {},
     "output_type": "display_data"
    },
    {
     "name": "stdout",
     "output_type": "stream",
     "text": [
      "\n"
     ]
    },
    {
     "data": {
      "application/vnd.jupyter.widget-view+json": {
       "model_id": "f6a0312ce8ab4a9f9c1cc226df16e5b6",
       "version_major": 2,
       "version_minor": 0
      },
      "text/plain": [
       "HBox(children=(HTML(value=''), FloatProgress(value=0.0, max=15.0), HTML(value='')))"
      ]
     },
     "metadata": {},
     "output_type": "display_data"
    },
    {
     "name": "stdout",
     "output_type": "stream",
     "text": [
      "\n"
     ]
    }
   ],
   "source": [
    "# make model_50, 80, 100\n",
    "als_model_50.fit(ratings.T)\n",
    "als_model_80.fit(ratings.T)\n",
    "als_model_100.fit(ratings.T)\n",
    "\n",
    "with open('./als_model_50.pkl', 'wb') as f :\n",
    "    pickle.dump(als_model_50, f)\n",
    "with open('./als_model_80.pkl', 'wb') as f :\n",
    "    pickle.dump(als_model_80, f)\n",
    "with open('./als_model_100.pkl', 'wb') as f :\n",
    "    pickle.dump(als_model_100, f)"
   ]
  },
  {
   "cell_type": "code",
   "execution_count": 7,
   "metadata": {},
   "outputs": [],
   "source": [
    "# make song_rec\n",
    "song_rec_50 = {}\n",
    "song_rec_80 = {}\n",
    "song_rec_100 = {}\n",
    "\n",
    "for i in val['id'] :\n",
    "    plst_rec_song = als_model_50.recommend(i, ratings, 100)\n",
    "    song_rec_50[i] = plst_rec_song\n",
    "for i in val['id'] :\n",
    "    plst_rec_song = als_model_80.recommend(i, ratings, 100)\n",
    "    song_rec_80[i] = plst_rec_song\n",
    "for i in val['id'] :\n",
    "    plst_rec_song = als_model_100.recommend(i, ratings, 100)\n",
    "    song_rec_100[i] = plst_rec_song"
   ]
  },
  {
   "cell_type": "code",
   "execution_count": 8,
   "metadata": {},
   "outputs": [
    {
     "data": {
      "text/html": [
       "<div>\n",
       "<style scoped>\n",
       "    .dataframe tbody tr th:only-of-type {\n",
       "        vertical-align: middle;\n",
       "    }\n",
       "\n",
       "    .dataframe tbody tr th {\n",
       "        vertical-align: top;\n",
       "    }\n",
       "\n",
       "    .dataframe thead th {\n",
       "        text-align: right;\n",
       "    }\n",
       "</style>\n",
       "<table border=\"1\" class=\"dataframe\">\n",
       "  <thead>\n",
       "    <tr style=\"text-align: right;\">\n",
       "      <th></th>\n",
       "      <th>tags</th>\n",
       "      <th>id</th>\n",
       "      <th>plylst_title</th>\n",
       "      <th>songs</th>\n",
       "      <th>like_cnt</th>\n",
       "      <th>updt_date</th>\n",
       "    </tr>\n",
       "  </thead>\n",
       "  <tbody>\n",
       "    <tr>\n",
       "      <th>0</th>\n",
       "      <td>[휴식, 카페, 분위기]</td>\n",
       "      <td>130541</td>\n",
       "      <td>여유와 커피 한 모금, 분위기 있는 카페로 순간이동시키는 음악</td>\n",
       "      <td>[]</td>\n",
       "      <td>3</td>\n",
       "      <td>2017-11-01 10:05:49.000</td>\n",
       "    </tr>\n",
       "    <tr>\n",
       "      <th>1</th>\n",
       "      <td>[상큼함]</td>\n",
       "      <td>78849</td>\n",
       "      <td>차분한 화요일을 만들어줄 플레이리스트 :)</td>\n",
       "      <td>[602814, 482241, 430106, 285104, 570294, 67091...</td>\n",
       "      <td>4</td>\n",
       "      <td>2017-08-08 11:02:30.000</td>\n",
       "    </tr>\n",
       "    <tr>\n",
       "      <th>2</th>\n",
       "      <td>[매장음악]</td>\n",
       "      <td>29457</td>\n",
       "      <td>트렌디한 샵에서 흘러나오던 그 POP</td>\n",
       "      <td>[]</td>\n",
       "      <td>528</td>\n",
       "      <td>2016-01-18 12:32:46.000</td>\n",
       "    </tr>\n",
       "    <tr>\n",
       "      <th>3</th>\n",
       "      <td>[잔잔한]</td>\n",
       "      <td>15576</td>\n",
       "      <td>감성적인 노래 모음</td>\n",
       "      <td>[707724, 574455, 670194, 187200, 331016, 14042...</td>\n",
       "      <td>6</td>\n",
       "      <td>2016-09-27 23:12:12.000</td>\n",
       "    </tr>\n",
       "    <tr>\n",
       "      <th>4</th>\n",
       "      <td>[]</td>\n",
       "      <td>37588</td>\n",
       "      <td>스트레스 강제진압 53</td>\n",
       "      <td>[421614, 695187, 588277, 246291, 7175, 78505, ...</td>\n",
       "      <td>0</td>\n",
       "      <td>2019-03-27 15:28:48.000</td>\n",
       "    </tr>\n",
       "  </tbody>\n",
       "</table>\n",
       "</div>"
      ],
      "text/plain": [
       "            tags      id                        plylst_title  \\\n",
       "0  [휴식, 카페, 분위기]  130541  여유와 커피 한 모금, 분위기 있는 카페로 순간이동시키는 음악   \n",
       "1          [상큼함]   78849             차분한 화요일을 만들어줄 플레이리스트 :)   \n",
       "2         [매장음악]   29457                트렌디한 샵에서 흘러나오던 그 POP   \n",
       "3          [잔잔한]   15576                          감성적인 노래 모음   \n",
       "4             []   37588                        스트레스 강제진압 53   \n",
       "\n",
       "                                               songs  like_cnt  \\\n",
       "0                                                 []         3   \n",
       "1  [602814, 482241, 430106, 285104, 570294, 67091...         4   \n",
       "2                                                 []       528   \n",
       "3  [707724, 574455, 670194, 187200, 331016, 14042...         6   \n",
       "4  [421614, 695187, 588277, 246291, 7175, 78505, ...         0   \n",
       "\n",
       "                 updt_date  \n",
       "0  2017-11-01 10:05:49.000  \n",
       "1  2017-08-08 11:02:30.000  \n",
       "2  2016-01-18 12:32:46.000  \n",
       "3  2016-09-27 23:12:12.000  \n",
       "4  2019-03-27 15:28:48.000  "
      ]
     },
     "execution_count": 8,
     "metadata": {},
     "output_type": "execute_result"
    }
   ],
   "source": [
    "val.head()"
   ]
  },
  {
   "cell_type": "code",
   "execution_count": 9,
   "metadata": {},
   "outputs": [
    {
     "name": "stdout",
     "output_type": "stream",
     "text": [
      "50 : (701557, 0.13896546)\n",
      "80 : (133143, 0.25187457)\n",
      "100 : (133143, 0.21207003)\n"
     ]
    }
   ],
   "source": [
    "print('50 :', song_rec_50[80563][0])\n",
    "print('80 :', song_rec_80[80563][0])\n",
    "print('100 :', song_rec_100[80563][0])"
   ]
  },
  {
   "cell_type": "code",
   "execution_count": 10,
   "metadata": {},
   "outputs": [
    {
     "data": {
      "text/html": [
       "<div>\n",
       "<style scoped>\n",
       "    .dataframe tbody tr th:only-of-type {\n",
       "        vertical-align: middle;\n",
       "    }\n",
       "\n",
       "    .dataframe tbody tr th {\n",
       "        vertical-align: top;\n",
       "    }\n",
       "\n",
       "    .dataframe thead th {\n",
       "        text-align: right;\n",
       "    }\n",
       "</style>\n",
       "<table border=\"1\" class=\"dataframe\">\n",
       "  <thead>\n",
       "    <tr style=\"text-align: right;\">\n",
       "      <th></th>\n",
       "      <th>tags</th>\n",
       "      <th>id</th>\n",
       "      <th>plylst_title</th>\n",
       "      <th>songs</th>\n",
       "      <th>like_cnt</th>\n",
       "      <th>updt_date</th>\n",
       "    </tr>\n",
       "  </thead>\n",
       "  <tbody>\n",
       "    <tr>\n",
       "      <th>0</th>\n",
       "      <td>[집중, 피아노, 일상]</td>\n",
       "      <td>130541</td>\n",
       "      <td>여유와 커피 한 모금, 분위기 있는 카페로 순간이동시키는 음악</td>\n",
       "      <td>[11924, 407825, 523291, 591403, 140867, 507936...</td>\n",
       "      <td>3</td>\n",
       "      <td>2017-11-01 10:05:49.000</td>\n",
       "    </tr>\n",
       "    <tr>\n",
       "      <th>1</th>\n",
       "      <td>[열대야, 차분함]</td>\n",
       "      <td>78849</td>\n",
       "      <td>차분한 화요일을 만들어줄 플레이리스트 :)</td>\n",
       "      <td>[521899, 116573, 82844, 315578, 159636, 448742...</td>\n",
       "      <td>4</td>\n",
       "      <td>2017-08-08 11:02:30.000</td>\n",
       "    </tr>\n",
       "    <tr>\n",
       "      <th>2</th>\n",
       "      <td>[클럽]</td>\n",
       "      <td>29457</td>\n",
       "      <td>트렌디한 샵에서 흘러나오던 그 POP</td>\n",
       "      <td>[234295, 694350, 561270, 634998, 403020, 71842...</td>\n",
       "      <td>528</td>\n",
       "      <td>2016-01-18 12:32:46.000</td>\n",
       "    </tr>\n",
       "    <tr>\n",
       "      <th>3</th>\n",
       "      <td>[추억, 회상]</td>\n",
       "      <td>15576</td>\n",
       "      <td>감성적인 노래 모음</td>\n",
       "      <td>[627363, 567383, 27469, 64052, 481669, 132247,...</td>\n",
       "      <td>6</td>\n",
       "      <td>2016-09-27 23:12:12.000</td>\n",
       "    </tr>\n",
       "    <tr>\n",
       "      <th>4</th>\n",
       "      <td>[인디]</td>\n",
       "      <td>37588</td>\n",
       "      <td>스트레스 강제진압 53</td>\n",
       "      <td>[374286, 679886, 277177, 635851, 88753, 302833...</td>\n",
       "      <td>0</td>\n",
       "      <td>2019-03-27 15:28:48.000</td>\n",
       "    </tr>\n",
       "  </tbody>\n",
       "</table>\n",
       "</div>"
      ],
      "text/plain": [
       "            tags      id                        plylst_title  \\\n",
       "0  [집중, 피아노, 일상]  130541  여유와 커피 한 모금, 분위기 있는 카페로 순간이동시키는 음악   \n",
       "1     [열대야, 차분함]   78849             차분한 화요일을 만들어줄 플레이리스트 :)   \n",
       "2           [클럽]   29457                트렌디한 샵에서 흘러나오던 그 POP   \n",
       "3       [추억, 회상]   15576                          감성적인 노래 모음   \n",
       "4           [인디]   37588                        스트레스 강제진압 53   \n",
       "\n",
       "                                               songs  like_cnt  \\\n",
       "0  [11924, 407825, 523291, 591403, 140867, 507936...         3   \n",
       "1  [521899, 116573, 82844, 315578, 159636, 448742...         4   \n",
       "2  [234295, 694350, 561270, 634998, 403020, 71842...       528   \n",
       "3  [627363, 567383, 27469, 64052, 481669, 132247,...         6   \n",
       "4  [374286, 679886, 277177, 635851, 88753, 302833...         0   \n",
       "\n",
       "                 updt_date  \n",
       "0  2017-11-01 10:05:49.000  \n",
       "1  2017-08-08 11:02:30.000  \n",
       "2  2016-01-18 12:32:46.000  \n",
       "3  2016-09-27 23:12:12.000  \n",
       "4  2019-03-27 15:28:48.000  "
      ]
     },
     "execution_count": 10,
     "metadata": {},
     "output_type": "execute_result"
    }
   ],
   "source": [
    "answer.head()"
   ]
  },
  {
   "cell_type": "code",
   "execution_count": 11,
   "metadata": {},
   "outputs": [
    {
     "name": "stdout",
     "output_type": "stream",
     "text": [
      "701557 418935 164508 461476 300087 256956 440160 362966 196849 333595 464051 130110 457124 133143 493762 466529 385234 249229 112399 643628 625875 236393 589983 573179 482512 351342 274504 515964 277034 95059 617900 200877 379112 455945 601037 417368 118049 207232 475319 446812 65053 376435 213435 677187 178044 19364 553437 567991 53369 346969 26083 326204 204547 581105 671154 451489 335520 459165 165281 78180 695032 311 493804 425945 2188 396233 512098 495821 695494 5049 621388 524956 409058 6546 55791 592826 498452 114387 330553 232045 335756 699518 358186 544743 656512 521330 590012 243850 590379 348200 43471 696317 96310 387859 496394 461680 650494 443902 337267 175059 "
     ]
    }
   ],
   "source": [
    "for i, s in song_rec_50[80563] :\n",
    "    print(i, end=' ')"
   ]
  },
  {
   "cell_type": "code",
   "execution_count": 12,
   "metadata": {},
   "outputs": [
    {
     "name": "stdout",
     "output_type": "stream",
     "text": [
      "[196972, 263417, 311, 439691, 666852, 381083, 536464, 217707, 499747, 149980, 545585, 371635, 729, 116573, 643070, 249990, 346913, 53369, 237407, 4828, 398955, 596663, 20900, 701557, 164508, 19234, 103588, 236767, 198610, 339594, 409563, 637303, 310687, 1814, 171498, 151136, 356211, 267559, 672550, 592295, 465901, 280187, 17502, 58836, 207558, 661896, 197168, 506359, 673110, 458216, 566257]\n"
     ]
    }
   ],
   "source": [
    "for i in answer[answer['id'] == 80563]['songs'] :\n",
    "    print(i)"
   ]
  },
  {
   "cell_type": "code",
   "execution_count": 13,
   "metadata": {},
   "outputs": [],
   "source": [
    "for i, s in song_rec_50[80563] :\n",
    "    if i in answer[answer['id'] == 80563]['songs'] :\n",
    "        print(i)"
   ]
  },
  {
   "cell_type": "raw",
   "metadata": {},
   "source": [
    "태그 10개 추천"
   ]
  },
  {
   "cell_type": "code",
   "execution_count": 14,
   "metadata": {},
   "outputs": [],
   "source": [
    "# make tag2id, id2tag dict\n",
    "tag_set = set()\n",
    "\n",
    "for i, q in train.iterrows():\n",
    "  for s in q['tags']:\n",
    "    tag_set.add(s)\n",
    "for i, q in val.iterrows():\n",
    "  for s in q['tags']:\n",
    "    tag_set.add(s)\n",
    "\n",
    "tag2id = {x : i for i, x in enumerate(list(tag_set))}\n",
    "id2tag = {i : x for i, x in enumerate(list(tag_set))}"
   ]
  },
  {
   "cell_type": "code",
   "execution_count": 15,
   "metadata": {},
   "outputs": [],
   "source": [
    "# make tag_coo.txt\n",
    "maxrow = train['id'].max()\n",
    "num_tag = len(tag_set)\n",
    "N = sum(train['tags'].apply(len)) + sum(val['tags'].apply(len))\n",
    "\n",
    "f = open('./tag_coo.txt', 'w')\n",
    "f.write(\"%d %d %d\\n\" % (maxrow+1, num_tag, N))\n",
    "for i, q in train.iterrows():\n",
    "    for tag in q['tags']:\n",
    "        f.write(\"%d %d %d %d\\n\" % (q['id'], tag2id[tag], 1, 0))\n",
    "f.close()\n",
    "\n",
    "f = open(\"./tag_coo.txt\", 'a')\n",
    "for i, q in val.iterrows():\n",
    "    for tag in q['tags']:\n",
    "        f.write(\"%d %d %d %d\\n\" % (q['id'], tag2id[tag], 1, 1))\n",
    "f.close()"
   ]
  },
  {
   "cell_type": "code",
   "execution_count": 16,
   "metadata": {},
   "outputs": [],
   "source": [
    "# make csr_matrix\n",
    "rows = []\n",
    "cols = []\n",
    "scores = []\n",
    "mask = []\n",
    "\n",
    "with open(\"./tag_coo.txt\", 'r') as f:\n",
    "    num_row, num_col, N = map(int, f.readline().split())\n",
    "    for _ in range(N):\n",
    "      r, c, s, m = map(int, f.readline().split())\n",
    "      if m == 1: # 0 : train / 1 : val, test\n",
    "          rows.append(r)\n",
    "          cols.append(c)\n",
    "          scores.append(float(s))\n",
    "    \n",
    "tag_ratings = csr_matrix((np.array(scores, dtype=np.float32), \n",
    "                    (np.array(rows), np.array(cols))), \n",
    "                    shape = (num_row, num_col))\n",
    "\n",
    "tag_ratings.data = np.ones(len(tag_ratings.data))"
   ]
  },
  {
   "cell_type": "code",
   "execution_count": 17,
   "metadata": {},
   "outputs": [],
   "source": [
    "# make als_model\n",
    "\n",
    "als_model_50_tag = AlternatingLeastSquares(factors = 50)\n",
    "als_model_80_tag = AlternatingLeastSquares(factors = 80)\n",
    "als_model_100_tag = AlternatingLeastSquares(factors = 100)"
   ]
  },
  {
   "cell_type": "code",
   "execution_count": 18,
   "metadata": {},
   "outputs": [
    {
     "data": {
      "application/vnd.jupyter.widget-view+json": {
       "model_id": "dd184ed84ea0445bbb205c03f6ef3514",
       "version_major": 2,
       "version_minor": 0
      },
      "text/plain": [
       "HBox(children=(HTML(value=''), FloatProgress(value=0.0, max=15.0), HTML(value='')))"
      ]
     },
     "metadata": {},
     "output_type": "display_data"
    },
    {
     "name": "stdout",
     "output_type": "stream",
     "text": [
      "\n"
     ]
    },
    {
     "data": {
      "application/vnd.jupyter.widget-view+json": {
       "model_id": "d4da21003c774eacac6d0311ffa3dd4b",
       "version_major": 2,
       "version_minor": 0
      },
      "text/plain": [
       "HBox(children=(HTML(value=''), FloatProgress(value=0.0, max=15.0), HTML(value='')))"
      ]
     },
     "metadata": {},
     "output_type": "display_data"
    },
    {
     "name": "stdout",
     "output_type": "stream",
     "text": [
      "\n"
     ]
    },
    {
     "data": {
      "application/vnd.jupyter.widget-view+json": {
       "model_id": "32b86ea54f09486c9ee9efd6a434bddc",
       "version_major": 2,
       "version_minor": 0
      },
      "text/plain": [
       "HBox(children=(HTML(value=''), FloatProgress(value=0.0, max=15.0), HTML(value='')))"
      ]
     },
     "metadata": {},
     "output_type": "display_data"
    },
    {
     "name": "stdout",
     "output_type": "stream",
     "text": [
      "\n"
     ]
    }
   ],
   "source": [
    "# make model_50, 80, 100\n",
    "als_model_50_tag.fit(tag_ratings.T)\n",
    "als_model_80_tag.fit(tag_ratings.T)\n",
    "als_model_100_tag.fit(tag_ratings.T)"
   ]
  },
  {
   "cell_type": "code",
   "execution_count": 19,
   "metadata": {},
   "outputs": [],
   "source": [
    "# make tag_rec\n",
    "tag_rec_50 = {}\n",
    "tag_rec_80 = {}\n",
    "tag_rec_100 = {}\n",
    "\n",
    "for i in val['id'] :\n",
    "    plst_rec_tag = als_model_50_tag.recommend(i, tag_ratings, 10)\n",
    "    tag_rec_50[i] = plst_rec_tag\n",
    "for i in val['id'] :\n",
    "    plst_rec_tag = als_model_80_tag.recommend(i, tag_ratings, 10)\n",
    "    tag_rec_80[i] = plst_rec_tag\n",
    "for i in val['id'] :\n",
    "    plst_rec_tag = als_model_100_tag.recommend(i, tag_ratings, 10)\n",
    "    tag_rec_100[i] = plst_rec_tag"
   ]
  },
  {
   "cell_type": "code",
   "execution_count": 20,
   "metadata": {},
   "outputs": [
    {
     "name": "stdout",
     "output_type": "stream",
     "text": [
      "커피 감각적인 느낌있는 여유 여행산책 주말 취향저격 방콕 재즈힙합 오후 "
     ]
    }
   ],
   "source": [
    "for i, s in tag_rec_50[80563] :\n",
    "    print(id2tag[i], end=' ')"
   ]
  },
  {
   "cell_type": "code",
   "execution_count": 21,
   "metadata": {},
   "outputs": [
    {
     "name": "stdout",
     "output_type": "stream",
     "text": [
      "['힐링', '까페']\n"
     ]
    }
   ],
   "source": [
    "for i in answer[answer['id'] == 80563]['tags'] :\n",
    "    print(i)"
   ]
  },
  {
   "cell_type": "raw",
   "metadata": {},
   "source": [
    "스코어 확인"
   ]
  },
  {
   "cell_type": "code",
   "execution_count": 22,
   "metadata": {},
   "outputs": [],
   "source": [
    "# make final_rec dict\n",
    "final_rec_lst_50 = []\n",
    "final_rec_lst_80 = []\n",
    "final_rec_lst_100 = []\n",
    "\n",
    "for key in song_rec_50.keys() :\n",
    "    final_rec = {}\n",
    "    final_rec['id'] = key\n",
    "    final_rec['songs'] = [int(i) for i, s in song_rec_50[key]]\n",
    "    final_rec['tags'] = [id2tag[int(i)] for i, s in tag_rec_50[key]]\n",
    "    final_rec_lst_50.append(final_rec)\n",
    "\n",
    "for key in song_rec_80.keys() :\n",
    "    final_rec = {}\n",
    "    final_rec['id'] = key\n",
    "    final_rec['songs'] = [int(i) for i, s in song_rec_80[key]]\n",
    "    final_rec['tags'] = [id2tag[int(i)] for i, s in tag_rec_80[key]]\n",
    "    final_rec_lst_80.append(final_rec)\n",
    "\n",
    "for key in song_rec_100.keys() :\n",
    "    final_rec = {}\n",
    "    final_rec['id'] = key\n",
    "    final_rec['songs'] = [int(i) for i, s in song_rec_100[key]]\n",
    "    final_rec['tags'] = [id2tag[int(i)] for i, s in tag_rec_100[key]]\n",
    "    final_rec_lst_100.append(final_rec)"
   ]
  },
  {
   "cell_type": "code",
   "execution_count": 23,
   "metadata": {},
   "outputs": [],
   "source": [
    "# make final_rec json\n",
    "arena_util.write_json(final_rec_lst_50, 'rec50.json')\n",
    "arena_util.write_json(final_rec_lst_80, 'rec80.json')\n",
    "arena_util.write_json(final_rec_lst_100, 'rec100.json')"
   ]
  },
  {
   "cell_type": "code",
   "execution_count": 24,
   "metadata": {},
   "outputs": [
    {
     "name": "stdout",
     "output_type": "stream",
     "text": [
      "Music nDCG: 0.0796247\n",
      "Tag nDCG: 0.0321261\n",
      "Score: 0.0724999\n"
     ]
    }
   ],
   "source": [
    "evaluater = evaluate.ArenaEvaluator()\n",
    "evaluater.evaluate('./arena_data/answers/val.json', './arena_data/rec50.json')"
   ]
  },
  {
   "cell_type": "code",
   "execution_count": 25,
   "metadata": {},
   "outputs": [
    {
     "name": "stdout",
     "output_type": "stream",
     "text": [
      "Music nDCG: 0.0852301\n",
      "Tag nDCG: 0.0267591\n",
      "Score: 0.0764594\n"
     ]
    }
   ],
   "source": [
    "evaluater = evaluate.ArenaEvaluator()\n",
    "evaluater.evaluate('./arena_data/answers/val.json', './arena_data/rec80.json')"
   ]
  },
  {
   "cell_type": "code",
   "execution_count": 26,
   "metadata": {},
   "outputs": [
    {
     "name": "stdout",
     "output_type": "stream",
     "text": [
      "Music nDCG: 0.0867067\n",
      "Tag nDCG: 0.0221192\n",
      "Score: 0.0770186\n"
     ]
    }
   ],
   "source": [
    "evaluater = evaluate.ArenaEvaluator()\n",
    "evaluater.evaluate('./arena_data/answers/val.json', './arena_data/rec100.json')"
   ]
  },
  {
   "cell_type": "raw",
   "metadata": {},
   "source": [
    "factors가 높아질 수록 Mucic는 높아지고, Tag는 낮아지는 것 확인"
   ]
  },
  {
   "cell_type": "code",
   "execution_count": 27,
   "metadata": {},
   "outputs": [
    {
     "name": "stdout",
     "output_type": "stream",
     "text": [
      "Music nDCG: 0.0867067\n",
      "Tag nDCG: 0.0321261\n",
      "Score: 0.0785196\n"
     ]
    }
   ],
   "source": [
    "# song_rec = 100 / tag_rec = 50\n",
    "final_rec_lst_com = []\n",
    "\n",
    "for key in song_rec_100.keys() :\n",
    "    final_rec = {}\n",
    "    final_rec['id'] = key\n",
    "    final_rec['songs'] = [int(i) for i, s in song_rec_100[key]]\n",
    "    final_rec['tags'] = [id2tag[int(i)] for i, s in tag_rec_50[key]]\n",
    "    final_rec_lst_com.append(final_rec)\n",
    "\n",
    "arena_util.write_json(final_rec_lst_com, 'rec_com.json')\n",
    "\n",
    "evaluater = evaluate.ArenaEvaluator()\n",
    "evaluater.evaluate('./arena_data/answers/val.json', './arena_data/rec_com.json')"
   ]
  },
  {
   "cell_type": "code",
   "execution_count": 28,
   "metadata": {},
   "outputs": [
    {
     "data": {
      "application/vnd.jupyter.widget-view+json": {
       "model_id": "1e7620662d9b49788eeff785815df7d2",
       "version_major": 2,
       "version_minor": 0
      },
      "text/plain": [
       "HBox(children=(HTML(value=''), FloatProgress(value=0.0, max=15.0), HTML(value='')))"
      ]
     },
     "metadata": {},
     "output_type": "display_data"
    },
    {
     "name": "stdout",
     "output_type": "stream",
     "text": [
      "\n"
     ]
    }
   ],
   "source": [
    "# song_rec_200\n",
    "\n",
    "als_model_200 = AlternatingLeastSquares(factors = 200)\n",
    "als_model_200.fit(ratings.T)\n",
    "with open('./als_model_200.pkl', 'wb') as f :\n",
    "    pickle.dump(als_model_200, f)\n",
    "\n",
    "song_rec_200 = {}\n",
    "for i in val['id'] :\n",
    "    plst_rec_song = als_model_200.recommend(i, ratings, 100)\n",
    "    song_rec_200[i] = plst_rec_song"
   ]
  },
  {
   "cell_type": "code",
   "execution_count": 30,
   "metadata": {},
   "outputs": [
    {
     "name": "stdout",
     "output_type": "stream",
     "text": [
      "Music nDCG: 0.0917026\n",
      "Tag nDCG: 0.0321261\n",
      "Score: 0.0827661\n"
     ]
    }
   ],
   "source": [
    "# song_rec = 200 / tag_rec = 50\n",
    "final_rec_lst_com = []\n",
    "\n",
    "for key in song_rec_200.keys() :\n",
    "    final_rec = {}\n",
    "    final_rec['id'] = key\n",
    "    final_rec['songs'] = [int(i) for i, s in song_rec_200[key]]\n",
    "    final_rec['tags'] = [id2tag[int(i)] for i, s in tag_rec_50[key]]\n",
    "    final_rec_lst_com.append(final_rec)\n",
    "\n",
    "arena_util.write_json(final_rec_lst_com, 'rec_200_50.json')\n",
    "\n",
    "evaluater = evaluate.ArenaEvaluator()\n",
    "evaluater.evaluate('./arena_data/answers/val.json', './arena_data/rec_200_50.json')"
   ]
  },
  {
   "cell_type": "code",
   "execution_count": 29,
   "metadata": {},
   "outputs": [
    {
     "data": {
      "application/vnd.jupyter.widget-view+json": {
       "model_id": "019cdd7cd3914d63926adf7e45dab243",
       "version_major": 2,
       "version_minor": 0
      },
      "text/plain": [
       "HBox(children=(HTML(value=''), FloatProgress(value=0.0, max=15.0), HTML(value='')))"
      ]
     },
     "metadata": {},
     "output_type": "display_data"
    },
    {
     "name": "stdout",
     "output_type": "stream",
     "text": [
      "\n"
     ]
    }
   ],
   "source": [
    "# song_rec_300\n",
    "\n",
    "als_model_300 = AlternatingLeastSquares(factors = 300)\n",
    "als_model_300.fit(ratings.T)\n",
    "with open('./als_model_300.pkl', 'wb') as f :\n",
    "    pickle.dump(als_model_300, f)\n",
    "\n",
    "song_rec_300 = {}\n",
    "for i in val['id'] :\n",
    "    plst_rec_song = als_model_300.recommend(i, ratings, 100)\n",
    "    song_rec_300[i] = plst_rec_song"
   ]
  },
  {
   "cell_type": "code",
   "execution_count": 31,
   "metadata": {},
   "outputs": [
    {
     "name": "stdout",
     "output_type": "stream",
     "text": [
      "Music nDCG: 0.0940249\n",
      "Tag nDCG: 0.0321261\n",
      "Score: 0.0847401\n"
     ]
    }
   ],
   "source": [
    "# song_rec = 300 / tag_rec = 50\n",
    "final_rec_lst_com = []\n",
    "\n",
    "for key in song_rec_300.keys() :\n",
    "    final_rec = {}\n",
    "    final_rec['id'] = key\n",
    "    final_rec['songs'] = [int(i) for i, s in song_rec_300[key]]\n",
    "    final_rec['tags'] = [id2tag[int(i)] for i, s in tag_rec_50[key]]\n",
    "    final_rec_lst_com.append(final_rec)\n",
    "\n",
    "arena_util.write_json(final_rec_lst_com, 'rec_300_50.json')\n",
    "\n",
    "evaluater = evaluate.ArenaEvaluator()\n",
    "evaluater.evaluate('./arena_data/answers/val.json', './arena_data/rec_300_50.json')"
   ]
  },
  {
   "cell_type": "code",
   "execution_count": 34,
   "metadata": {},
   "outputs": [
    {
     "data": {
      "application/vnd.jupyter.widget-view+json": {
       "model_id": "c0afd69fb5b0453ea7157d0702a119a8",
       "version_major": 2,
       "version_minor": 0
      },
      "text/plain": [
       "HBox(children=(HTML(value=''), FloatProgress(value=0.0, max=15.0), HTML(value='')))"
      ]
     },
     "metadata": {},
     "output_type": "display_data"
    },
    {
     "name": "stdout",
     "output_type": "stream",
     "text": [
      "\n",
      "Music nDCG: 0.0952848\n",
      "Tag nDCG: 0.0321261\n",
      "Score: 0.085811\n"
     ]
    }
   ],
   "source": [
    "# song_rec_400\n",
    "als_model_400 = AlternatingLeastSquares(factors = 400)\n",
    "als_model_400.fit(ratings.T)\n",
    "with open('./als_model_400.pkl', 'wb') as f :\n",
    "    pickle.dump(als_model_400, f)\n",
    "\n",
    "song_rec_400 = {}\n",
    "for i in val['id'] :\n",
    "    plst_rec_song = als_model_400.recommend(i, ratings, 100)\n",
    "    song_rec_400[i] = plst_rec_song\n",
    "\n",
    "# song_rec = 400 / tag_rec = 50\n",
    "final_rec_lst_com = []\n",
    "\n",
    "for key in song_rec_400.keys() :\n",
    "    final_rec = {}\n",
    "    final_rec['id'] = key\n",
    "    final_rec['songs'] = [int(i) for i, s in song_rec_400[key]]\n",
    "    final_rec['tags'] = [id2tag[int(i)] for i, s in tag_rec_50[key]]\n",
    "    final_rec_lst_com.append(final_rec)\n",
    "\n",
    "arena_util.write_json(final_rec_lst_com, 'rec_400_50.json')\n",
    "\n",
    "evaluater = evaluate.ArenaEvaluator()\n",
    "evaluater.evaluate('./arena_data/answers/val.json', './arena_data/rec_400_50.json')"
   ]
  },
  {
   "cell_type": "code",
   "execution_count": 35,
   "metadata": {},
   "outputs": [
    {
     "data": {
      "application/vnd.jupyter.widget-view+json": {
       "model_id": "e62c584c7de64c4999d59f36928f6f4a",
       "version_major": 2,
       "version_minor": 0
      },
      "text/plain": [
       "HBox(children=(HTML(value=''), FloatProgress(value=0.0, max=15.0), HTML(value='')))"
      ]
     },
     "metadata": {},
     "output_type": "display_data"
    },
    {
     "name": "stdout",
     "output_type": "stream",
     "text": [
      "\n",
      "Music nDCG: 0.0958654\n",
      "Tag nDCG: 0.0321261\n",
      "Score: 0.0863045\n"
     ]
    }
   ],
   "source": [
    "# song_rec_500\n",
    "als_model_500 = AlternatingLeastSquares(factors = 500)\n",
    "als_model_500.fit(ratings.T)\n",
    "with open('./als_model_500.pkl', 'wb') as f :\n",
    "    pickle.dump(als_model_500, f)\n",
    "\n",
    "song_rec_500 = {}\n",
    "for i in val['id'] :\n",
    "    plst_rec_song = als_model_500.recommend(i, ratings, 100)\n",
    "    song_rec_500[i] = plst_rec_song\n",
    "\n",
    "# song_rec = 500 / tag_rec = 50\n",
    "final_rec_lst_com = []\n",
    "\n",
    "for key in song_rec_500.keys() :\n",
    "    final_rec = {}\n",
    "    final_rec['id'] = key\n",
    "    final_rec['songs'] = [int(i) for i, s in song_rec_500[key]]\n",
    "    final_rec['tags'] = [id2tag[int(i)] for i, s in tag_rec_50[key]]\n",
    "    final_rec_lst_com.append(final_rec)\n",
    "\n",
    "arena_util.write_json(final_rec_lst_com, 'rec_500_50.json')\n",
    "\n",
    "evaluater = evaluate.ArenaEvaluator()\n",
    "evaluater.evaluate('./arena_data/answers/val.json', './arena_data/rec_500_50.json')"
   ]
  },
  {
   "cell_type": "code",
   "execution_count": 38,
   "metadata": {},
   "outputs": [
    {
     "data": {
      "application/vnd.jupyter.widget-view+json": {
       "model_id": "f89b78b156e845328e397cf2f1a73779",
       "version_major": 2,
       "version_minor": 0
      },
      "text/plain": [
       "HBox(children=(HTML(value=''), FloatProgress(value=0.0, max=15.0), HTML(value='')))"
      ]
     },
     "metadata": {},
     "output_type": "display_data"
    },
    {
     "name": "stdout",
     "output_type": "stream",
     "text": [
      "\n",
      "Music nDCG: 0.0959749\n",
      "Tag nDCG: 0.0321261\n",
      "Score: 0.0863976\n"
     ]
    }
   ],
   "source": [
    "# song_rec_600\n",
    "als_model_600 = AlternatingLeastSquares(factors = 600)\n",
    "als_model_600.fit(ratings.T)\n",
    "with open('./als_model_600.pkl', 'wb') as f :\n",
    "    pickle.dump(als_model_600, f)\n",
    "\n",
    "song_rec_600 = {}\n",
    "for i in val['id'] :\n",
    "    plst_rec_song = als_model_600.recommend(i, ratings, 100)\n",
    "    song_rec_600[i] = plst_rec_song\n",
    "\n",
    "# song_rec = 600 / tag_rec = 50\n",
    "final_rec_lst_com = []\n",
    "\n",
    "for key in song_rec_600.keys() :\n",
    "    final_rec = {}\n",
    "    final_rec['id'] = key\n",
    "    final_rec['songs'] = [int(i) for i, s in song_rec_600[key]]\n",
    "    final_rec['tags'] = [id2tag[int(i)] for i, s in tag_rec_50[key]]\n",
    "    final_rec_lst_com.append(final_rec)\n",
    "\n",
    "arena_util.write_json(final_rec_lst_com, 'rec_600_50.json')\n",
    "\n",
    "evaluater = evaluate.ArenaEvaluator()\n",
    "evaluater.evaluate('./arena_data/answers/val.json', './arena_data/rec_600_50.json')"
   ]
  },
  {
   "cell_type": "code",
   "execution_count": 39,
   "metadata": {},
   "outputs": [
    {
     "data": {
      "application/vnd.jupyter.widget-view+json": {
       "model_id": "c058366b04d443cbafd809d248025304",
       "version_major": 2,
       "version_minor": 0
      },
      "text/plain": [
       "HBox(children=(HTML(value=''), FloatProgress(value=0.0, max=15.0), HTML(value='')))"
      ]
     },
     "metadata": {},
     "output_type": "display_data"
    },
    {
     "name": "stdout",
     "output_type": "stream",
     "text": [
      "\n",
      "Music nDCG: 0.0958212\n",
      "Tag nDCG: 0.0321261\n",
      "Score: 0.0862669\n"
     ]
    }
   ],
   "source": [
    "# song_rec_700\n",
    "als_model_700 = AlternatingLeastSquares(factors = 700)\n",
    "als_model_700.fit(ratings.T)\n",
    "with open('./als_model_700.pkl', 'wb') as f :\n",
    "    pickle.dump(als_model_700, f)\n",
    "\n",
    "song_rec_700 = {}\n",
    "for i in val['id'] :\n",
    "    plst_rec_song = als_model_700.recommend(i, ratings, 100)\n",
    "    song_rec_700[i] = plst_rec_song\n",
    "\n",
    "# song_rec = 700 / tag_rec = 50\n",
    "final_rec_lst_com = []\n",
    "\n",
    "for key in song_rec_700.keys() :\n",
    "    final_rec = {}\n",
    "    final_rec['id'] = key\n",
    "    final_rec['songs'] = [int(i) for i, s in song_rec_700[key]]\n",
    "    final_rec['tags'] = [id2tag[int(i)] for i, s in tag_rec_50[key]]\n",
    "    final_rec_lst_com.append(final_rec)\n",
    "\n",
    "arena_util.write_json(final_rec_lst_com, 'rec_700_50.json')\n",
    "\n",
    "evaluater = evaluate.ArenaEvaluator()\n",
    "evaluater.evaluate('./arena_data/answers/val.json', './arena_data/rec_700_50.json')"
   ]
  },
  {
   "cell_type": "code",
   "execution_count": 36,
   "metadata": {},
   "outputs": [
    {
     "data": {
      "application/vnd.jupyter.widget-view+json": {
       "model_id": "81789c1cba66496eb12455beae1e3035",
       "version_major": 2,
       "version_minor": 0
      },
      "text/plain": [
       "HBox(children=(HTML(value=''), FloatProgress(value=0.0, max=15.0), HTML(value='')))"
      ]
     },
     "metadata": {},
     "output_type": "display_data"
    },
    {
     "name": "stdout",
     "output_type": "stream",
     "text": [
      "\n",
      "Music nDCG: 0.0955438\n",
      "Tag nDCG: 0.0321261\n",
      "Score: 0.0860312\n"
     ]
    }
   ],
   "source": [
    "# song_rec_800\n",
    "als_model_800 = AlternatingLeastSquares(factors = 800)\n",
    "als_model_800.fit(ratings.T)\n",
    "with open('./als_model_800.pkl', 'wb') as f :\n",
    "    pickle.dump(als_model_800, f)\n",
    "\n",
    "song_rec_800 = {}\n",
    "for i in val['id'] :\n",
    "    plst_rec_song = als_model_800.recommend(i, ratings, 100)\n",
    "    song_rec_800[i] = plst_rec_song\n",
    "\n",
    "# song_rec = 800 / tag_rec = 50\n",
    "final_rec_lst_com = []\n",
    "\n",
    "for key in song_rec_800.keys() :\n",
    "    final_rec = {}\n",
    "    final_rec['id'] = key\n",
    "    final_rec['songs'] = [int(i) for i, s in song_rec_800[key]]\n",
    "    final_rec['tags'] = [id2tag[int(i)] for i, s in tag_rec_50[key]]\n",
    "    final_rec_lst_com.append(final_rec)\n",
    "\n",
    "arena_util.write_json(final_rec_lst_com, 'rec_800_50.json')\n",
    "\n",
    "evaluater = evaluate.ArenaEvaluator()\n",
    "evaluater.evaluate('./arena_data/answers/val.json', './arena_data/rec_800_50.json')"
   ]
  },
  {
   "cell_type": "code",
   "execution_count": null,
   "metadata": {},
   "outputs": [],
   "source": []
  }
 ],
 "metadata": {
  "kernelspec": {
   "display_name": "Python 3",
   "language": "python",
   "name": "python3"
  },
  "language_info": {
   "codemirror_mode": {
    "name": "ipython",
    "version": 3
   },
   "file_extension": ".py",
   "mimetype": "text/x-python",
   "name": "python",
   "nbconvert_exporter": "python",
   "pygments_lexer": "ipython3",
   "version": "3.6.9"
  }
 },
 "nbformat": 4,
 "nbformat_minor": 4
}
